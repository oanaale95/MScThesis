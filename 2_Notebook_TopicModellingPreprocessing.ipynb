{
 "cells": [
  {
   "attachments": {},
   "cell_type": "markdown",
   "metadata": {},
   "source": [
    "# Data Preprocessing\n",
    "\n",
    "The present notebook is part of a series of notebooks related to the MSc. thesis: **Sentiment analysis on generative language models    based on Social Media commentary of industry participants**\n",
    "\n",
    "The MSc. thesis research was conducted based on tweets about ChatGPT. These were collected, processed and analyzed with the scope of answering the following research question:\n",
    "\n",
    "**How are generative language models perceived by participants of different industries based on social media commentary?**\n",
    "\n",
    "In the process of answering the research question the tweets data will be further processed with the help of topic modelling techniques (Latent Dirichlet Allocation -LDA-) and sentiment analysis techniques (VADER). \n",
    "For these techniques to be employed the data needs to be cleaned and processed so that the input data takes the required input shape. \n",
    "\n",
    "The data transformations are especially required in employing LDA as the input for LDA needs to take the form of tokens. "
   ]
  },
  {
   "cell_type": "code",
   "execution_count": 1,
   "metadata": {},
   "outputs": [
    {
     "name": "stderr",
     "output_type": "stream",
     "text": [
      "[nltk_data] Downloading package stopwords to\n",
      "[nltk_data]     C:\\Users\\oanaa\\AppData\\Roaming\\nltk_data...\n",
      "[nltk_data]   Package stopwords is already up-to-date!\n"
     ]
    }
   ],
   "source": [
    "#Import cell of necessary packages\n",
    "\n",
    "import pandas as pd\n",
    "import numpy as np\n",
    "import re, string #Imported for regex data cleaning \n",
    "from string import digits # Imported for digits handling\n",
    "import glob\n",
    "import datetime\n",
    "import os\n",
    "\n",
    "#Set pandas options for ease of cleaning\n",
    "pd.set_option('display.max_rows', 500)\n",
    "pd.options.mode.chained_assignment = None\n",
    "\n",
    "# Import sweet_viz for initial exploratory data analysis (EDA)\n",
    "import sweetviz as sv\n",
    "#Package imported to surpass long future warnings\n",
    "import warnings\n",
    "warnings.simplefilter(action='ignore')\n",
    "\n",
    "#Library imported for text cleaning\n",
    "import spacy\n",
    "nlp = spacy.load(\"en_core_web_sm\")\n",
    "\n",
    "#Libraries used to clean text (stematize, lemmatize words)\n",
    "from lemminflect import getLemma\n",
    "import nltk\n",
    "from nltk.stem import PorterStemmer\n",
    "from nltk.stem import WordNetLemmatizer \n",
    "nltk.download('stopwords') #Download stop words list from nltk package\n",
    "\n",
    "#Library to extract urls\n",
    "from urlextract import URLExtract\n",
    "#Library to handle emoji\n",
    "import emoji\n",
    "#Tweet cleaning package\n",
    "import preprocessor as p\n",
    "\n",
    "#Used to clean output screen\n",
    "from IPython.display import clear_output\n"
   ]
  },
  {
   "cell_type": "code",
   "execution_count": 3,
   "metadata": {},
   "outputs": [],
   "source": [
    "#Load user data and tweets data\n",
    "df_users=pd.read_csv(\"data_files/UniqueUsers_CLEAN.csv\")\n",
    "df_tweets_content=pd.read_csv(\"data_files/TweetsContent_CLEAN.csv\")"
   ]
  },
  {
   "attachments": {},
   "cell_type": "markdown",
   "metadata": {},
   "source": [
    "## Text Pre-Processing Methods"
   ]
  },
  {
   "attachments": {},
   "cell_type": "markdown",
   "metadata": {},
   "source": [
    "This section introduces the methods that were developed to conduct the data transformations required for LDA topic modeling. \n",
    "At the end of this section there can be found the cells that were re-ran to transform the column needed for LDA (user descriptions, tweets content).  "
   ]
  },
  {
   "cell_type": "code",
   "execution_count": 3,
   "metadata": {},
   "outputs": [
    {
     "name": "stdout",
     "output_type": "stream",
     "text": [
      "{'these', 'theirs', 'doesn', \"isn't\", 'she', 'who', 'its', 'out', 'before', \"should've\", 'no', 'is', 'again', 'down', 'same', 'ours', 'won', \"you'd\", 'should', 'shan', 'that', 'against', 'don', 'had', 'haven', 'this', 'not', 'only', 'if', 'you', 'each', 'were', 'at', 'now', 'do', \"mustn't\", 'it', 'through', 'be', \"wasn't\", \"haven't\", \"won't\", 'how', 'having', 'here', 'themselves', 'under', 'an', 'about', \"weren't\", 'below', \"it's\", 'most', 'him', 'there', 'some', \"you'll\", 'he', 'has', 'between', 'further', 'hers', 'those', 'a', 'nor', 'doing', 'mustn', 'just', 'did', 're', 'ma', 'needn', 'very', \"didn't\", 'because', 'them', 'then', 'over', 'they', 'wouldn', 'our', 'any', \"aren't\", \"hasn't\", 'in', 'hasn', 'been', 'your', \"mightn't\", 'yours', 'other', 'i', 'with', 'we', 'himself', 'as', 'was', 'have', 'aren', \"wouldn't\", 'didn', 'than', 'his', 'shouldn', 'can', 'into', 'to', 'more', 'weren', 'until', 'on', \"doesn't\", 'd', 'are', 'couldn', 'm', \"couldn't\", 'isn', 'above', 'the', 'my', 'and', 'yourselves', 'of', 'y', 'her', 'so', 'being', 'from', 'when', \"shan't\", 'mightn', 'after', 'itself', 'once', 'their', 'hadn', 'where', 'all', 'me', 'will', 'ourselves', 'which', \"you're\", 'but', 'am', 'both', 'such', \"that'll\", 've', 'few', 'during', \"she's\", \"you've\", 'up', \"hadn't\", \"shouldn't\", 'for', 't', 'll', 'myself', 'by', 'wasn', 'off', 'own', 'whom', \"needn't\", 'does', 'or', 'why', 'herself', 's', 'yourself', \"don't\", 'while', 'o', 'what', 'ain', 'too'}\n"
     ]
    }
   ],
   "source": [
    "#Load stop words to be removed from text\n",
    "stop_words_list = set(nltk.corpus.stopwords.words('english'))\n",
    "#Inspect stop words \n",
    "print(stop_words_list)"
   ]
  },
  {
   "cell_type": "code",
   "execution_count": 4,
   "metadata": {},
   "outputs": [],
   "source": [
    "#Define lemmatization function\n",
    "def lemmatize_text(text):\n",
    "    return [getLemma(str(w), upos= w.pos_)[0] if len(getLemma(str(w), upos= w.pos_))>0 else \"\" for w in text]\n"
   ]
  },
  {
   "cell_type": "code",
   "execution_count": 5,
   "metadata": {},
   "outputs": [],
   "source": [
    "#Define text cleaning function\n",
    "def df_text_prepro(df_tweets, text_column):\n",
    "    stop_words_list = set(nltk.corpus.stopwords.words('english'))\n",
    "    #Extract hashtags\n",
    "    df_tweets[f'{text_column}_hashtags'] = df_tweets[f'{text_column}'].apply(lambda x: re.findall(r\"#(\\w+)\", str(x)))\n",
    "    #Extract mentions\n",
    "    df_tweets[f'{text_column}_mentions'] = df_tweets[f'{text_column}'].apply(lambda x: re.findall(r\"@(\\w+)\", str(x)))\n",
    "    #Extract URL\n",
    "    extractor = URLExtract()\n",
    "    df_tweets[f'{text_column}_URLs'] = df_tweets[f'{text_column}'].apply(lambda x: extractor.find_urls(str(x)))\n",
    "    #Extract Emoji's\n",
    "    pattern = re.compile(r\"|\".join(map(re.escape, emoji.EMOJI_DATA)))\n",
    "    df_tweets[f'{text_column}_emoji'] = df_tweets[f'{text_column}'].apply(lambda x: \"\".join(pattern.findall(str(x))))\n",
    "    #Apply tweet cleaning such as removal of urls, hashtags, mentions, smileys \n",
    "    df_tweets[f'{text_column}_clean'] = df_tweets[f'{text_column}'].apply(lambda x: p.clean(str(x)))\n",
    "    #Remove punctuation\n",
    "    df_tweets[f'{text_column}_clean'] = df_tweets[f'{text_column}_clean'].apply(lambda x: x.translate(str.maketrans('', '', string.punctuation.replace(\"-\",\"\"))))\n",
    "    #remove digits \n",
    "    df_tweets[f'{text_column}_clean'] = df_tweets[f'{text_column}_clean'].apply(lambda x: ''.join([i for i in x if not i.isdigit()]))\n",
    "    #Lowercase\n",
    "    df_tweets[f'{text_column}_clean'] = df_tweets[f'{text_column}_clean'].apply(lambda x: x.lower())\n",
    "    #Create tokens objects so that part of speech of words can be identified\n",
    "    df_tweets[f'{text_column}_tokens'] = df_tweets[f'{text_column}_clean'].apply(lambda x: nlp(x))\n",
    "    #Lemamatize words from tokens column \n",
    "    df_tweets[f'{text_column}_tokens']= df_tweets[f'{text_column}_tokens'].apply(lemmatize_text)\n",
    "    #Remove stopwords from tokens list\n",
    "    df_tweets[f'{text_column}_tokens'] = df_tweets[f'{text_column}_tokens'].apply(lambda x: x if type(x) == type(None) else list(set(x).difference(stop_words_list) ))\n",
    "    df_tweets[f'{text_column}_tokens'] = df_tweets[f'{text_column}_tokens'].apply(lambda x: x if type(x) == type(None) else list(set(x).difference(['']) ))\n",
    "    #return df\n",
    "    return df_tweets"
   ]
  },
  {
   "cell_type": "code",
   "execution_count": 6,
   "metadata": {},
   "outputs": [],
   "source": [
    "#Define function to preprocess data in chuncks as the process is timely and consuming. The preprocessing function allows to save the changes made for every 200 rows\n",
    "def preprocessing_chuncks(df_tweets, col_to_tokanize , typeofdata, lower_limit=0):\n",
    "    \n",
    "    #store the total rows of the dataframe to use in checking whether the entire dataframe was cleaned \n",
    "    total_df_rows= df_tweets.shape[0]\n",
    "    \n",
    "    #dates stored as strings to be used in naming convention of files\n",
    "    low_string = str(df_tweets.index.min())\n",
    "    up_string = str(df_tweets.index.max())\n",
    "\n",
    "    #Loop to clean data\n",
    "    while True:\n",
    "        #Assign upper limit based on lower limit, this incrementation helps to move to next iteration\n",
    "        upper_limit = lower_limit + 200\n",
    "\n",
    "        #Condition to assign max row number to upper_limit  \n",
    "        if upper_limit > df_tweets.shape[0]:\n",
    "            upper_limit = df_tweets.shape[0]-1\n",
    "        #Condition to break from the loop    \n",
    "        if lower_limit >= total_df_rows:\n",
    "            break\n",
    "\n",
    "        #Create a dataframe of the rows processed in current iteration     \n",
    "        dataframe = df_tweets[lower_limit:upper_limit]\n",
    "        #Print status update message\n",
    "        print(f\"{lower_limit}: {upper_limit} >> started\")\n",
    "        clear_output(wait=True)\n",
    "        #Clean the current rows in the iteration \n",
    "        dataframe = df_text_prepro(dataframe, col_to_tokanize )\n",
    "        #Since df_text_prepro prints warnings and errors that are not necessary, whenever the tokanizer function does not recognize the part of speech of a word, the ouput is cleared\n",
    "        clear_output(wait=False)\n",
    "        print(f\"Completed {col_to_tokanize}\")\n",
    "        clear_output(wait=True)\n",
    "\n",
    "        if lower_limit != 0: \n",
    "            #append rows that are preprocessed to the csv without header\n",
    "            dataframe.tail(-1).to_csv(f'{low_string}_to_{up_string}_processed_{typeofdata}.csv', mode='a', index=False)\n",
    "        else: \n",
    "            dataframe.to_csv(f'{low_string}_to_{up_string}_processed_{typeofdata}.csv', mode='a', index=False) \n",
    "        #Print status update\n",
    "        print(f\"{lower_limit}: {upper_limit} >> completed\")\n",
    "        #Assign upper_limit to lower_limit\n",
    "        lower_limit = upper_limit\n",
    "    \n",
    "    return \"COMPLETED\""
   ]
  },
  {
   "attachments": {},
   "cell_type": "markdown",
   "metadata": {},
   "source": [
    "The below cells have been re-run multiple times so that the *user_description* and the *tweet_content* columns of *df_users* and *df_tweets* respectively."
   ]
  },
  {
   "cell_type": "code",
   "execution_count": 8,
   "metadata": {},
   "outputs": [
    {
     "data": {
      "text/plain": [
       "(66999, 2)"
      ]
     },
     "execution_count": 8,
     "metadata": {},
     "output_type": "execute_result"
    }
   ],
   "source": [
    "#Assign part of df_tweets_content for ease of preprocessing\n",
    "df_prepo=df_tweets_content[800000:1000000]\n",
    "df_prepo.shape"
   ]
  },
  {
   "cell_type": "code",
   "execution_count": 9,
   "metadata": {},
   "outputs": [
    {
     "name": "stdout",
     "output_type": "stream",
     "text": [
      "0: 200 >> started\n"
     ]
    }
   ],
   "source": [
    "#Preprocess df_prepo\n",
    "preprocessing_chuncks(df_prepo,\"tweet_content\",\"tweets\")"
   ]
  },
  {
   "attachments": {},
   "cell_type": "markdown",
   "metadata": {},
   "source": [
    "## Users Data"
   ]
  },
  {
   "attachments": {},
   "cell_type": "markdown",
   "metadata": {},
   "source": [
    "The current section showcases how the users data was handled so that all users' descriptions were processed."
   ]
  },
  {
   "cell_type": "code",
   "execution_count": null,
   "metadata": {},
   "outputs": [],
   "source": [
    "#Load users data \n",
    "unique_users= pd.read_csv(\"data_files/UniqueUsers_CLEAN.csv\")\n",
    "#Cast user_id column into string as it is unique id and not int\n",
    "unique_users['usr_userid']= unique_users['usr_userid'].apply(str)"
   ]
  },
  {
   "cell_type": "code",
   "execution_count": null,
   "metadata": {},
   "outputs": [
    {
     "name": "stdout",
     "output_type": "stream",
     "text": [
      "<class 'pandas.core.frame.DataFrame'>\n",
      "RangeIndex: 731084 entries, 0 to 731083\n",
      "Data columns (total 2 columns):\n",
      " #   Column           Non-Null Count   Dtype \n",
      "---  ------           --------------   ----- \n",
      " 0   usr_userid       731084 non-null  object\n",
      " 1   usr_description  650350 non-null  object\n",
      "dtypes: object(2)\n",
      "memory usage: 11.2+ MB\n"
     ]
    }
   ],
   "source": [
    "#Check if both columns are now object\n",
    "#Check shape of dataframe\n",
    "unique_users.info()"
   ]
  },
  {
   "cell_type": "code",
   "execution_count": null,
   "metadata": {},
   "outputs": [],
   "source": [
    "#Read preprocessed user descriptions files\n",
    "preprocessed_df1 = pd.read_csv(\"data_files/0_to_199999_processed_usr.csv\")\n",
    "preprocessed_df2 = pd.read_csv(\"data_files/200000_to_399999_processed_usr.csv\")\n",
    "preprocessed_df3 = pd.read_csv(\"data_files/400000_to_599999_processed_usr.csv\")\n",
    "preprocessed_df4 = pd.read_csv(\"data_files/600000_to_731083_processed_usr.csv\")"
   ]
  },
  {
   "cell_type": "code",
   "execution_count": null,
   "metadata": {},
   "outputs": [],
   "source": [
    "#Merge all preprocessed data frames into one, drop duplicates for sanity check \n",
    "user_prepro_data = pd.concat([preprocessed_df1,preprocessed_df2,preprocessed_df3,preprocessed_df4]).drop_duplicates(subset=['usr_userid'],keep='last')"
   ]
  },
  {
   "cell_type": "code",
   "execution_count": null,
   "metadata": {},
   "outputs": [
    {
     "data": {
      "text/plain": [
       "(731084, 9)"
      ]
     },
     "execution_count": 19,
     "metadata": {},
     "output_type": "execute_result"
    }
   ],
   "source": [
    "#Merge the preprocessed data to the unique users data based on usr_userid\n",
    "user_prepro_data = unique_users.merge( user_prepro_data, on='usr_userid', how='left')\n",
    "user_prepro_data.shape"
   ]
  },
  {
   "cell_type": "code",
   "execution_count": null,
   "metadata": {},
   "outputs": [
    {
     "data": {
      "text/html": [
       "<div>\n",
       "<style scoped>\n",
       "    .dataframe tbody tr th:only-of-type {\n",
       "        vertical-align: middle;\n",
       "    }\n",
       "\n",
       "    .dataframe tbody tr th {\n",
       "        vertical-align: top;\n",
       "    }\n",
       "\n",
       "    .dataframe thead th {\n",
       "        text-align: right;\n",
       "    }\n",
       "</style>\n",
       "<table border=\"1\" class=\"dataframe\">\n",
       "  <thead>\n",
       "    <tr style=\"text-align: right;\">\n",
       "      <th></th>\n",
       "      <th>usr_userid</th>\n",
       "      <th>usr_description_x</th>\n",
       "      <th>usr_description_y</th>\n",
       "      <th>usr_description_hashtags</th>\n",
       "      <th>usr_description_mentions</th>\n",
       "      <th>usr_description_URLs</th>\n",
       "      <th>usr_description_emoji</th>\n",
       "      <th>usr_description_clean</th>\n",
       "      <th>usr_description_tokens</th>\n",
       "    </tr>\n",
       "  </thead>\n",
       "  <tbody>\n",
       "    <tr>\n",
       "      <th>0</th>\n",
       "      <td>354863991</td>\n",
       "      <td>using A.I. to propel the real estate industry ...</td>\n",
       "      <td>using A.I. to propel the real estate industry ...</td>\n",
       "      <td>['PropTech', 'AI']</td>\n",
       "      <td>[]</td>\n",
       "      <td>[]</td>\n",
       "      <td>NaN</td>\n",
       "      <td>using ai to propel the real estate industry fo...</td>\n",
       "      <td>['enjoy', 'propel', 'family', 'read', 'industr...</td>\n",
       "    </tr>\n",
       "    <tr>\n",
       "      <th>1</th>\n",
       "      <td>4398626122</td>\n",
       "      <td>OpenAI’s mission is to ensure that artificial ...</td>\n",
       "      <td>OpenAI’s mission is to ensure that artificial ...</td>\n",
       "      <td>[]</td>\n",
       "      <td>[]</td>\n",
       "      <td>['openai.com/jobs']</td>\n",
       "      <td>NaN</td>\n",
       "      <td>openais mission is to ensure that artificial g...</td>\n",
       "      <td>['general', 'benefit', 'humanity', 'intelligen...</td>\n",
       "    </tr>\n",
       "    <tr>\n",
       "      <th>2</th>\n",
       "      <td>162124540</td>\n",
       "      <td>President &amp; Co-Founder @OpenAI</td>\n",
       "      <td>President &amp; Co-Founder @OpenAI</td>\n",
       "      <td>[]</td>\n",
       "      <td>['OpenAI']</td>\n",
       "      <td>[]</td>\n",
       "      <td>NaN</td>\n",
       "      <td>president  co-founder</td>\n",
       "      <td>['-', 'founder', 'president', 'co']</td>\n",
       "    </tr>\n",
       "  </tbody>\n",
       "</table>\n",
       "</div>"
      ],
      "text/plain": [
       "   usr_userid                                  usr_description_x  \\\n",
       "0   354863991  using A.I. to propel the real estate industry ...   \n",
       "1  4398626122  OpenAI’s mission is to ensure that artificial ...   \n",
       "2   162124540                     President & Co-Founder @OpenAI   \n",
       "\n",
       "                                   usr_description_y usr_description_hashtags  \\\n",
       "0  using A.I. to propel the real estate industry ...       ['PropTech', 'AI']   \n",
       "1  OpenAI’s mission is to ensure that artificial ...                       []   \n",
       "2                     President & Co-Founder @OpenAI                       []   \n",
       "\n",
       "  usr_description_mentions usr_description_URLs usr_description_emoji  \\\n",
       "0                       []                   []                   NaN   \n",
       "1                       []  ['openai.com/jobs']                   NaN   \n",
       "2               ['OpenAI']                   []                   NaN   \n",
       "\n",
       "                               usr_description_clean  \\\n",
       "0  using ai to propel the real estate industry fo...   \n",
       "1  openais mission is to ensure that artificial g...   \n",
       "2                              president  co-founder   \n",
       "\n",
       "                              usr_description_tokens  \n",
       "0  ['enjoy', 'propel', 'family', 'read', 'industr...  \n",
       "1  ['general', 'benefit', 'humanity', 'intelligen...  \n",
       "2                ['-', 'founder', 'president', 'co']  "
      ]
     },
     "execution_count": 22,
     "metadata": {},
     "output_type": "execute_result"
    }
   ],
   "source": [
    "user_prepro_data.head(3)"
   ]
  },
  {
   "cell_type": "code",
   "execution_count": null,
   "metadata": {},
   "outputs": [
    {
     "data": {
      "text/plain": [
       "(731084, 9)"
      ]
     },
     "execution_count": 28,
     "metadata": {},
     "output_type": "execute_result"
    }
   ],
   "source": [
    "#Rename columns for better readability\n",
    "user_prepro_data.rename(columns={'usr_description_x':'usr_description_origin','usr_description_y':'usr_description_prepro'}, inplace=True)\n",
    "user_prepro_data.shape"
   ]
  },
  {
   "cell_type": "code",
   "execution_count": 9,
   "metadata": {},
   "outputs": [],
   "source": [
    "import ast"
   ]
  },
  {
   "cell_type": "code",
   "execution_count": 22,
   "metadata": {},
   "outputs": [],
   "source": [
    "#TODO: below comment was used to save data. Consequently, the data is then read from the file where it is saved\n",
    "#user_prepro_data.to_csv(\"UsrData_PreLDA.csv\",index=False)\n",
    "user_prepro_data=pd.read_csv(\"data_files/UsrData_PreLDA.csv\")\n",
    "user_prepro_data['usr_description_tokens'] = user_prepro_data['usr_description_tokens'].apply(ast.literal_eval)"
   ]
  },
  {
   "cell_type": "code",
   "execution_count": 11,
   "metadata": {},
   "outputs": [
    {
     "data": {
      "text/html": [
       "<div>\n",
       "<style scoped>\n",
       "    .dataframe tbody tr th:only-of-type {\n",
       "        vertical-align: middle;\n",
       "    }\n",
       "\n",
       "    .dataframe tbody tr th {\n",
       "        vertical-align: top;\n",
       "    }\n",
       "\n",
       "    .dataframe thead th {\n",
       "        text-align: right;\n",
       "    }\n",
       "</style>\n",
       "<table border=\"1\" class=\"dataframe\">\n",
       "  <thead>\n",
       "    <tr style=\"text-align: right;\">\n",
       "      <th></th>\n",
       "      <th>usr_userid</th>\n",
       "      <th>usr_description_origin</th>\n",
       "      <th>usr_description_prepro</th>\n",
       "      <th>usr_description_hashtags</th>\n",
       "      <th>usr_description_mentions</th>\n",
       "      <th>usr_description_URLs</th>\n",
       "      <th>usr_description_emoji</th>\n",
       "      <th>usr_description_clean</th>\n",
       "      <th>usr_description_tokens</th>\n",
       "    </tr>\n",
       "  </thead>\n",
       "  <tbody>\n",
       "    <tr>\n",
       "      <th>0</th>\n",
       "      <td>354863991</td>\n",
       "      <td>using A.I. to propel the real estate industry ...</td>\n",
       "      <td>using A.I. to propel the real estate industry ...</td>\n",
       "      <td>['PropTech', 'AI']</td>\n",
       "      <td>[]</td>\n",
       "      <td>[]</td>\n",
       "      <td>NaN</td>\n",
       "      <td>using ai to propel the real estate industry fo...</td>\n",
       "      <td>[enjoy, propel, family, read, industry, forwar...</td>\n",
       "    </tr>\n",
       "    <tr>\n",
       "      <th>1</th>\n",
       "      <td>4398626122</td>\n",
       "      <td>OpenAI’s mission is to ensure that artificial ...</td>\n",
       "      <td>OpenAI’s mission is to ensure that artificial ...</td>\n",
       "      <td>[]</td>\n",
       "      <td>[]</td>\n",
       "      <td>['openai.com/jobs']</td>\n",
       "      <td>NaN</td>\n",
       "      <td>openais mission is to ensure that artificial g...</td>\n",
       "      <td>[general, benefit, humanity, intelligence, mis...</td>\n",
       "    </tr>\n",
       "    <tr>\n",
       "      <th>2</th>\n",
       "      <td>162124540</td>\n",
       "      <td>President &amp; Co-Founder @OpenAI</td>\n",
       "      <td>President &amp; Co-Founder @OpenAI</td>\n",
       "      <td>[]</td>\n",
       "      <td>['OpenAI']</td>\n",
       "      <td>[]</td>\n",
       "      <td>NaN</td>\n",
       "      <td>president  co-founder</td>\n",
       "      <td>[-, founder, president, co]</td>\n",
       "    </tr>\n",
       "  </tbody>\n",
       "</table>\n",
       "</div>"
      ],
      "text/plain": [
       "   usr_userid                             usr_description_origin  \\\n",
       "0   354863991  using A.I. to propel the real estate industry ...   \n",
       "1  4398626122  OpenAI’s mission is to ensure that artificial ...   \n",
       "2   162124540                     President & Co-Founder @OpenAI   \n",
       "\n",
       "                              usr_description_prepro usr_description_hashtags  \\\n",
       "0  using A.I. to propel the real estate industry ...       ['PropTech', 'AI']   \n",
       "1  OpenAI’s mission is to ensure that artificial ...                       []   \n",
       "2                     President & Co-Founder @OpenAI                       []   \n",
       "\n",
       "  usr_description_mentions usr_description_URLs usr_description_emoji  \\\n",
       "0                       []                   []                   NaN   \n",
       "1                       []  ['openai.com/jobs']                   NaN   \n",
       "2               ['OpenAI']                   []                   NaN   \n",
       "\n",
       "                               usr_description_clean  \\\n",
       "0  using ai to propel the real estate industry fo...   \n",
       "1  openais mission is to ensure that artificial g...   \n",
       "2                              president  co-founder   \n",
       "\n",
       "                              usr_description_tokens  \n",
       "0  [enjoy, propel, family, read, industry, forwar...  \n",
       "1  [general, benefit, humanity, intelligence, mis...  \n",
       "2                        [-, founder, president, co]  "
      ]
     },
     "execution_count": 11,
     "metadata": {},
     "output_type": "execute_result"
    }
   ],
   "source": [
    "user_prepro_data.head(3)"
   ]
  },
  {
   "cell_type": "code",
   "execution_count": 41,
   "metadata": {},
   "outputs": [],
   "source": [
    "user_prepro_data['check']=user_prepro_data['usr_description_tokens'].apply(lambda x: 0 if len(x)<=0 or x==['nan'] else 1)"
   ]
  },
  {
   "cell_type": "code",
   "execution_count": 42,
   "metadata": {},
   "outputs": [
    {
     "data": {
      "text/plain": [
       "(103338, 10)"
      ]
     },
     "execution_count": 42,
     "metadata": {},
     "output_type": "execute_result"
    }
   ],
   "source": [
    "user_prepro_data[user_prepro_data['check']==0].shape"
   ]
  },
  {
   "cell_type": "code",
   "execution_count": null,
   "metadata": {},
   "outputs": [
    {
     "data": {
      "text/html": [
       "<div>\n",
       "<style scoped>\n",
       "    .dataframe tbody tr th:only-of-type {\n",
       "        vertical-align: middle;\n",
       "    }\n",
       "\n",
       "    .dataframe tbody tr th {\n",
       "        vertical-align: top;\n",
       "    }\n",
       "\n",
       "    .dataframe thead th {\n",
       "        text-align: right;\n",
       "    }\n",
       "</style>\n",
       "<table border=\"1\" class=\"dataframe\">\n",
       "  <thead>\n",
       "    <tr style=\"text-align: right;\">\n",
       "      <th></th>\n",
       "      <th>usr_userid</th>\n",
       "      <th>usr_description_origin</th>\n",
       "      <th>usr_description_prepro</th>\n",
       "      <th>usr_description_hashtags</th>\n",
       "      <th>usr_description_mentions</th>\n",
       "      <th>usr_description_URLs</th>\n",
       "      <th>usr_description_emoji</th>\n",
       "      <th>usr_description_clean</th>\n",
       "      <th>usr_description_tokens</th>\n",
       "    </tr>\n",
       "  </thead>\n",
       "  <tbody>\n",
       "    <tr>\n",
       "      <th>731081</th>\n",
       "      <td>832624291724144640</td>\n",
       "      <td>coder interested in #ai #ML #sentience #health...</td>\n",
       "      <td>NaN</td>\n",
       "      <td>NaN</td>\n",
       "      <td>NaN</td>\n",
       "      <td>NaN</td>\n",
       "      <td>NaN</td>\n",
       "      <td>NaN</td>\n",
       "      <td>NaN</td>\n",
       "    </tr>\n",
       "    <tr>\n",
       "      <th>731082</th>\n",
       "      <td>327337127</td>\n",
       "      <td>Founder @PplPolicyProj: patreon.com/peoplespol...</td>\n",
       "      <td>NaN</td>\n",
       "      <td>NaN</td>\n",
       "      <td>NaN</td>\n",
       "      <td>NaN</td>\n",
       "      <td>NaN</td>\n",
       "      <td>NaN</td>\n",
       "      <td>NaN</td>\n",
       "    </tr>\n",
       "    <tr>\n",
       "      <th>731083</th>\n",
       "      <td>1207075000164864000</td>\n",
       "      <td>enjoyer of long walks in the dungeon.</td>\n",
       "      <td>NaN</td>\n",
       "      <td>NaN</td>\n",
       "      <td>NaN</td>\n",
       "      <td>NaN</td>\n",
       "      <td>NaN</td>\n",
       "      <td>NaN</td>\n",
       "      <td>NaN</td>\n",
       "    </tr>\n",
       "  </tbody>\n",
       "</table>\n",
       "</div>"
      ],
      "text/plain": [
       "                 usr_userid  \\\n",
       "731081   832624291724144640   \n",
       "731082            327337127   \n",
       "731083  1207075000164864000   \n",
       "\n",
       "                                   usr_description_origin  \\\n",
       "731081  coder interested in #ai #ML #sentience #health...   \n",
       "731082  Founder @PplPolicyProj: patreon.com/peoplespol...   \n",
       "731083              enjoyer of long walks in the dungeon.   \n",
       "\n",
       "       usr_description_prepro usr_description_hashtags  \\\n",
       "731081                    NaN                      NaN   \n",
       "731082                    NaN                      NaN   \n",
       "731083                    NaN                      NaN   \n",
       "\n",
       "       usr_description_mentions usr_description_URLs usr_description_emoji  \\\n",
       "731081                      NaN                  NaN                   NaN   \n",
       "731082                      NaN                  NaN                   NaN   \n",
       "731083                      NaN                  NaN                   NaN   \n",
       "\n",
       "       usr_description_clean usr_description_tokens  \n",
       "731081                   NaN                    NaN  \n",
       "731082                   NaN                    NaN  \n",
       "731083                   NaN                    NaN  "
      ]
     },
     "execution_count": 16,
     "metadata": {},
     "output_type": "execute_result"
    }
   ],
   "source": [
    "#During the preprocessing phase there were a few rows that generated errors, thus a few users' descriptions were not cleaned properly. \n",
    "#In this sense the following section will work one these descriptions\n",
    "user_prepro_data.tail(3)"
   ]
  },
  {
   "cell_type": "code",
   "execution_count": null,
   "metadata": {},
   "outputs": [
    {
     "data": {
      "text/html": [
       "<div>\n",
       "<style scoped>\n",
       "    .dataframe tbody tr th:only-of-type {\n",
       "        vertical-align: middle;\n",
       "    }\n",
       "\n",
       "    .dataframe tbody tr th {\n",
       "        vertical-align: top;\n",
       "    }\n",
       "\n",
       "    .dataframe thead th {\n",
       "        text-align: right;\n",
       "    }\n",
       "</style>\n",
       "<table border=\"1\" class=\"dataframe\">\n",
       "  <thead>\n",
       "    <tr style=\"text-align: right;\">\n",
       "      <th></th>\n",
       "      <th>usr_userid</th>\n",
       "      <th>usr_description_origin</th>\n",
       "      <th>usr_description_prepro</th>\n",
       "      <th>usr_description_hashtags</th>\n",
       "      <th>usr_description_mentions</th>\n",
       "      <th>usr_description_URLs</th>\n",
       "      <th>usr_description_emoji</th>\n",
       "      <th>usr_description_clean</th>\n",
       "      <th>usr_description_tokens</th>\n",
       "    </tr>\n",
       "  </thead>\n",
       "  <tbody>\n",
       "    <tr>\n",
       "      <th>23</th>\n",
       "      <td>2496666240</td>\n",
       "      <td>NaN</td>\n",
       "      <td>NaN</td>\n",
       "      <td>[]</td>\n",
       "      <td>[]</td>\n",
       "      <td>[]</td>\n",
       "      <td>NaN</td>\n",
       "      <td>NaN</td>\n",
       "      <td>['nan']</td>\n",
       "    </tr>\n",
       "    <tr>\n",
       "      <th>40</th>\n",
       "      <td>825495264270114816</td>\n",
       "      <td>NaN</td>\n",
       "      <td>NaN</td>\n",
       "      <td>[]</td>\n",
       "      <td>[]</td>\n",
       "      <td>[]</td>\n",
       "      <td>NaN</td>\n",
       "      <td>NaN</td>\n",
       "      <td>['nan']</td>\n",
       "    </tr>\n",
       "    <tr>\n",
       "      <th>45</th>\n",
       "      <td>1128159740599656448</td>\n",
       "      <td>somehow, I keep ending up in the AGI timeline</td>\n",
       "      <td>NaN</td>\n",
       "      <td>[]</td>\n",
       "      <td>[]</td>\n",
       "      <td>[]</td>\n",
       "      <td>NaN</td>\n",
       "      <td>NaN</td>\n",
       "      <td>['nan']</td>\n",
       "    </tr>\n",
       "  </tbody>\n",
       "</table>\n",
       "</div>"
      ],
      "text/plain": [
       "             usr_userid                         usr_description_origin  \\\n",
       "23           2496666240                                            NaN   \n",
       "40   825495264270114816                                            NaN   \n",
       "45  1128159740599656448  somehow, I keep ending up in the AGI timeline   \n",
       "\n",
       "   usr_description_prepro usr_description_hashtags usr_description_mentions  \\\n",
       "23                    NaN                       []                       []   \n",
       "40                    NaN                       []                       []   \n",
       "45                    NaN                       []                       []   \n",
       "\n",
       "   usr_description_URLs usr_description_emoji usr_description_clean  \\\n",
       "23                   []                   NaN                   NaN   \n",
       "40                   []                   NaN                   NaN   \n",
       "45                   []                   NaN                   NaN   \n",
       "\n",
       "   usr_description_tokens  \n",
       "23                ['nan']  \n",
       "40                ['nan']  \n",
       "45                ['nan']  "
      ]
     },
     "execution_count": 17,
     "metadata": {},
     "output_type": "execute_result"
    }
   ],
   "source": [
    "#Inspect rows that have null data in the usr_description_prepro. As a result it can be seen that some users are missing descriptions entirely \n",
    "user_prepro_data[user_prepro_data['usr_description_prepro'].isnull()].head(3)"
   ]
  },
  {
   "cell_type": "code",
   "execution_count": null,
   "metadata": {},
   "outputs": [],
   "source": [
    "#Preprocess solely the rows that were problematic \n",
    "prepro_missing_rows = df_text_prepro(user_prepro_data[user_prepro_data['usr_description_prepro'].isnull()], 'usr_description_origin')"
   ]
  },
  {
   "cell_type": "code",
   "execution_count": null,
   "metadata": {},
   "outputs": [],
   "source": [
    "#Save the newly preprocessed rows in case anything goes wrong\n",
    "prepro_missing_rows.to_csv(\"data_files/usr_prepro_missing_rows.csv\", index=False)"
   ]
  },
  {
   "cell_type": "code",
   "execution_count": null,
   "metadata": {},
   "outputs": [
    {
     "data": {
      "text/html": [
       "<div>\n",
       "<style scoped>\n",
       "    .dataframe tbody tr th:only-of-type {\n",
       "        vertical-align: middle;\n",
       "    }\n",
       "\n",
       "    .dataframe tbody tr th {\n",
       "        vertical-align: top;\n",
       "    }\n",
       "\n",
       "    .dataframe thead th {\n",
       "        text-align: right;\n",
       "    }\n",
       "</style>\n",
       "<table border=\"1\" class=\"dataframe\">\n",
       "  <thead>\n",
       "    <tr style=\"text-align: right;\">\n",
       "      <th></th>\n",
       "      <th>usr_userid</th>\n",
       "      <th>usr_description_origin</th>\n",
       "      <th>usr_description_prepro</th>\n",
       "      <th>usr_description_hashtags</th>\n",
       "      <th>usr_description_mentions</th>\n",
       "      <th>usr_description_URLs</th>\n",
       "      <th>usr_description_emoji</th>\n",
       "      <th>usr_description_clean</th>\n",
       "      <th>usr_description_tokens</th>\n",
       "    </tr>\n",
       "  </thead>\n",
       "  <tbody>\n",
       "    <tr>\n",
       "      <th>83391</th>\n",
       "      <td>711830875256717312</td>\n",
       "      <td>Amazon Wholesale</td>\n",
       "      <td>NaN</td>\n",
       "      <td>[]</td>\n",
       "      <td>[]</td>\n",
       "      <td>[]</td>\n",
       "      <td>NaN</td>\n",
       "      <td>amazon wholesale</td>\n",
       "      <td>['amazon', 'wholesale']</td>\n",
       "    </tr>\n",
       "    <tr>\n",
       "      <th>83392</th>\n",
       "      <td>3698407940</td>\n",
       "      <td>Love life - live life. Politicians need to get...</td>\n",
       "      <td>NaN</td>\n",
       "      <td>[]</td>\n",
       "      <td>[]</td>\n",
       "      <td>[]</td>\n",
       "      <td>NaN</td>\n",
       "      <td>love life - live life politicians need to get ...</td>\n",
       "      <td>['world', 'politician', 'fragile', 'need', 'ma...</td>\n",
       "    </tr>\n",
       "    <tr>\n",
       "      <th>83393</th>\n",
       "      <td>832624291724144640</td>\n",
       "      <td>coder interested in #ai #ML #sentience #health...</td>\n",
       "      <td>NaN</td>\n",
       "      <td>['ai', 'ML', 'sentience', 'health']</td>\n",
       "      <td>[]</td>\n",
       "      <td>[]</td>\n",
       "      <td>NaN</td>\n",
       "      <td>coder interested in of extensant citizen initi...</td>\n",
       "      <td>['extensant', 'initiative', 'interested', 'cit...</td>\n",
       "    </tr>\n",
       "    <tr>\n",
       "      <th>83394</th>\n",
       "      <td>327337127</td>\n",
       "      <td>Founder @PplPolicyProj: patreon.com/peoplespol...</td>\n",
       "      <td>NaN</td>\n",
       "      <td>[]</td>\n",
       "      <td>['PplPolicyProj', 'ebruenig']</td>\n",
       "      <td>['patreon.com/peoplespolicyp….', 'patreon.com/...</td>\n",
       "      <td>NaN</td>\n",
       "      <td>founder   co-host of the bruenigs with</td>\n",
       "      <td>['host', '-', 'co', 'founder', 'bruenig']</td>\n",
       "    </tr>\n",
       "    <tr>\n",
       "      <th>83395</th>\n",
       "      <td>1207075000164864000</td>\n",
       "      <td>enjoyer of long walks in the dungeon.</td>\n",
       "      <td>NaN</td>\n",
       "      <td>[]</td>\n",
       "      <td>[]</td>\n",
       "      <td>[]</td>\n",
       "      <td>NaN</td>\n",
       "      <td>enjoyer of long walks in the dungeon</td>\n",
       "      <td>['enjoyer', 'dungeon', 'walk', 'long']</td>\n",
       "    </tr>\n",
       "  </tbody>\n",
       "</table>\n",
       "</div>"
      ],
      "text/plain": [
       "                usr_userid                             usr_description_origin  \\\n",
       "83391   711830875256717312                                   Amazon Wholesale   \n",
       "83392           3698407940  Love life - live life. Politicians need to get...   \n",
       "83393   832624291724144640  coder interested in #ai #ML #sentience #health...   \n",
       "83394            327337127  Founder @PplPolicyProj: patreon.com/peoplespol...   \n",
       "83395  1207075000164864000              enjoyer of long walks in the dungeon.   \n",
       "\n",
       "       usr_description_prepro             usr_description_hashtags  \\\n",
       "83391                     NaN                                   []   \n",
       "83392                     NaN                                   []   \n",
       "83393                     NaN  ['ai', 'ML', 'sentience', 'health']   \n",
       "83394                     NaN                                   []   \n",
       "83395                     NaN                                   []   \n",
       "\n",
       "            usr_description_mentions  \\\n",
       "83391                             []   \n",
       "83392                             []   \n",
       "83393                             []   \n",
       "83394  ['PplPolicyProj', 'ebruenig']   \n",
       "83395                             []   \n",
       "\n",
       "                                    usr_description_URLs  \\\n",
       "83391                                                 []   \n",
       "83392                                                 []   \n",
       "83393                                                 []   \n",
       "83394  ['patreon.com/peoplespolicyp….', 'patreon.com/...   \n",
       "83395                                                 []   \n",
       "\n",
       "      usr_description_emoji  \\\n",
       "83391                   NaN   \n",
       "83392                   NaN   \n",
       "83393                   NaN   \n",
       "83394                   NaN   \n",
       "83395                   NaN   \n",
       "\n",
       "                                   usr_description_clean  \\\n",
       "83391                                   amazon wholesale   \n",
       "83392  love life - live life politicians need to get ...   \n",
       "83393  coder interested in of extensant citizen initi...   \n",
       "83394            founder   co-host of the bruenigs with    \n",
       "83395               enjoyer of long walks in the dungeon   \n",
       "\n",
       "                                  usr_description_tokens  \n",
       "83391                            ['amazon', 'wholesale']  \n",
       "83392  ['world', 'politician', 'fragile', 'need', 'ma...  \n",
       "83393  ['extensant', 'initiative', 'interested', 'cit...  \n",
       "83394          ['host', '-', 'co', 'founder', 'bruenig']  \n",
       "83395             ['enjoyer', 'dungeon', 'walk', 'long']  "
      ]
     },
     "execution_count": 24,
     "metadata": {},
     "output_type": "execute_result"
    }
   ],
   "source": [
    "#Read missing rows\n",
    "prepro_missing_rows=pd.read_csv(\"data_files/usr_prepro_missing_rows.csv\")\n",
    "#Extra columns were added when preprocessing \n",
    "prepro_missing_rows.drop(columns=['usr_description_hashtags','usr_description_mentions','usr_description_URLs','usr_description_emoji','usr_description_clean','usr_description_tokens'],inplace=True)\n",
    "#Rename remaining columns to prepare for merging with the rest of the user description dataset\n",
    "prepro_missing_rows.rename(columns= {'usr_description_origin_hashtags':'usr_description_hashtags', 'usr_description_origin_mentions':'usr_description_mentions', 'usr_description_origin_URLs':'usr_description_URLs', 'usr_description_origin_emoji':'usr_description_emoji','usr_description_origin_clean':'usr_description_clean','usr_description_origin_tokens':'usr_description_tokens'}, inplace = True)\n",
    "prepro_missing_rows.tail()"
   ]
  },
  {
   "cell_type": "code",
   "execution_count": null,
   "metadata": {},
   "outputs": [
    {
     "data": {
      "text/plain": [
       "(83396, 9)"
      ]
     },
     "execution_count": 27,
     "metadata": {},
     "output_type": "execute_result"
    }
   ],
   "source": [
    "#Inspect shape of the dataframe of newly preprocessed rows\n",
    "prepro_missing_rows.shape"
   ]
  },
  {
   "cell_type": "code",
   "execution_count": null,
   "metadata": {},
   "outputs": [
    {
     "data": {
      "text/html": [
       "<div>\n",
       "<style scoped>\n",
       "    .dataframe tbody tr th:only-of-type {\n",
       "        vertical-align: middle;\n",
       "    }\n",
       "\n",
       "    .dataframe tbody tr th {\n",
       "        vertical-align: top;\n",
       "    }\n",
       "\n",
       "    .dataframe thead th {\n",
       "        text-align: right;\n",
       "    }\n",
       "</style>\n",
       "<table border=\"1\" class=\"dataframe\">\n",
       "  <thead>\n",
       "    <tr style=\"text-align: right;\">\n",
       "      <th></th>\n",
       "      <th>usr_userid</th>\n",
       "      <th>usr_description_origin</th>\n",
       "      <th>usr_description_prepro</th>\n",
       "      <th>usr_description_hashtags</th>\n",
       "      <th>usr_description_mentions</th>\n",
       "      <th>usr_description_URLs</th>\n",
       "      <th>usr_description_emoji</th>\n",
       "      <th>usr_description_clean</th>\n",
       "      <th>usr_description_tokens</th>\n",
       "    </tr>\n",
       "  </thead>\n",
       "  <tbody>\n",
       "    <tr>\n",
       "      <th>83391</th>\n",
       "      <td>711830875256717312</td>\n",
       "      <td>Amazon Wholesale</td>\n",
       "      <td>NaN</td>\n",
       "      <td>[]</td>\n",
       "      <td>[]</td>\n",
       "      <td>[]</td>\n",
       "      <td>NaN</td>\n",
       "      <td>amazon wholesale</td>\n",
       "      <td>['amazon', 'wholesale']</td>\n",
       "    </tr>\n",
       "    <tr>\n",
       "      <th>83392</th>\n",
       "      <td>3698407940</td>\n",
       "      <td>Love life - live life. Politicians need to get...</td>\n",
       "      <td>NaN</td>\n",
       "      <td>[]</td>\n",
       "      <td>[]</td>\n",
       "      <td>[]</td>\n",
       "      <td>NaN</td>\n",
       "      <td>love life - live life politicians need to get ...</td>\n",
       "      <td>['world', 'politician', 'fragile', 'need', 'ma...</td>\n",
       "    </tr>\n",
       "    <tr>\n",
       "      <th>83393</th>\n",
       "      <td>832624291724144640</td>\n",
       "      <td>coder interested in #ai #ML #sentience #health...</td>\n",
       "      <td>NaN</td>\n",
       "      <td>['ai', 'ML', 'sentience', 'health']</td>\n",
       "      <td>[]</td>\n",
       "      <td>[]</td>\n",
       "      <td>NaN</td>\n",
       "      <td>coder interested in of extensant citizen initi...</td>\n",
       "      <td>['extensant', 'initiative', 'interested', 'cit...</td>\n",
       "    </tr>\n",
       "    <tr>\n",
       "      <th>83394</th>\n",
       "      <td>327337127</td>\n",
       "      <td>Founder @PplPolicyProj: patreon.com/peoplespol...</td>\n",
       "      <td>NaN</td>\n",
       "      <td>[]</td>\n",
       "      <td>['PplPolicyProj', 'ebruenig']</td>\n",
       "      <td>['patreon.com/peoplespolicyp….', 'patreon.com/...</td>\n",
       "      <td>NaN</td>\n",
       "      <td>founder   co-host of the bruenigs with</td>\n",
       "      <td>['host', '-', 'co', 'founder', 'bruenig']</td>\n",
       "    </tr>\n",
       "    <tr>\n",
       "      <th>83395</th>\n",
       "      <td>1207075000164864000</td>\n",
       "      <td>enjoyer of long walks in the dungeon.</td>\n",
       "      <td>NaN</td>\n",
       "      <td>[]</td>\n",
       "      <td>[]</td>\n",
       "      <td>[]</td>\n",
       "      <td>NaN</td>\n",
       "      <td>enjoyer of long walks in the dungeon</td>\n",
       "      <td>['enjoyer', 'dungeon', 'walk', 'long']</td>\n",
       "    </tr>\n",
       "  </tbody>\n",
       "</table>\n",
       "</div>"
      ],
      "text/plain": [
       "                usr_userid                             usr_description_origin  \\\n",
       "83391   711830875256717312                                   Amazon Wholesale   \n",
       "83392           3698407940  Love life - live life. Politicians need to get...   \n",
       "83393   832624291724144640  coder interested in #ai #ML #sentience #health...   \n",
       "83394            327337127  Founder @PplPolicyProj: patreon.com/peoplespol...   \n",
       "83395  1207075000164864000              enjoyer of long walks in the dungeon.   \n",
       "\n",
       "      usr_description_prepro             usr_description_hashtags  \\\n",
       "83391                    NaN                                   []   \n",
       "83392                    NaN                                   []   \n",
       "83393                    NaN  ['ai', 'ML', 'sentience', 'health']   \n",
       "83394                    NaN                                   []   \n",
       "83395                    NaN                                   []   \n",
       "\n",
       "            usr_description_mentions  \\\n",
       "83391                             []   \n",
       "83392                             []   \n",
       "83393                             []   \n",
       "83394  ['PplPolicyProj', 'ebruenig']   \n",
       "83395                             []   \n",
       "\n",
       "                                    usr_description_URLs  \\\n",
       "83391                                                 []   \n",
       "83392                                                 []   \n",
       "83393                                                 []   \n",
       "83394  ['patreon.com/peoplespolicyp….', 'patreon.com/...   \n",
       "83395                                                 []   \n",
       "\n",
       "      usr_description_emoji  \\\n",
       "83391                   NaN   \n",
       "83392                   NaN   \n",
       "83393                   NaN   \n",
       "83394                   NaN   \n",
       "83395                   NaN   \n",
       "\n",
       "                                   usr_description_clean  \\\n",
       "83391                                   amazon wholesale   \n",
       "83392  love life - live life politicians need to get ...   \n",
       "83393  coder interested in of extensant citizen initi...   \n",
       "83394            founder   co-host of the bruenigs with    \n",
       "83395               enjoyer of long walks in the dungeon   \n",
       "\n",
       "                                  usr_description_tokens  \n",
       "83391                            ['amazon', 'wholesale']  \n",
       "83392  ['world', 'politician', 'fragile', 'need', 'ma...  \n",
       "83393  ['extensant', 'initiative', 'interested', 'cit...  \n",
       "83394          ['host', '-', 'co', 'founder', 'bruenig']  \n",
       "83395             ['enjoyer', 'dungeon', 'walk', 'long']  "
      ]
     },
     "execution_count": 30,
     "metadata": {},
     "output_type": "execute_result"
    }
   ],
   "source": [
    "#Concatenate the original data with the missing rows that are now preprocessed\n",
    "user_prepro_final = pd.concat([user_prepro_data,prepro_missing_rows])\n",
    "user_prepro_final.tail()"
   ]
  },
  {
   "cell_type": "code",
   "execution_count": null,
   "metadata": {},
   "outputs": [
    {
     "data": {
      "text/plain": [
       "(698722, 9)"
      ]
     },
     "execution_count": 39,
     "metadata": {},
     "output_type": "execute_result"
    }
   ],
   "source": [
    "#Drop duplicates of the file and keep just the last ones\n",
    "user_prepro_final.drop_duplicates(subset='usr_userid',keep='last').shape"
   ]
  },
  {
   "cell_type": "code",
   "execution_count": null,
   "metadata": {},
   "outputs": [],
   "source": [
    "#TODO: uncommenting the below line will save the preprocessed data \n",
    "#user_prepro_final.drop_duplicates(subset='usr_userid',keep='last').to_csv(\"UsrData_PreLDA.csv\", index=False)"
   ]
  },
  {
   "cell_type": "code",
   "execution_count": 2,
   "metadata": {},
   "outputs": [
    {
     "data": {
      "text/html": [
       "<div>\n",
       "<style scoped>\n",
       "    .dataframe tbody tr th:only-of-type {\n",
       "        vertical-align: middle;\n",
       "    }\n",
       "\n",
       "    .dataframe tbody tr th {\n",
       "        vertical-align: top;\n",
       "    }\n",
       "\n",
       "    .dataframe thead th {\n",
       "        text-align: right;\n",
       "    }\n",
       "</style>\n",
       "<table border=\"1\" class=\"dataframe\">\n",
       "  <thead>\n",
       "    <tr style=\"text-align: right;\">\n",
       "      <th></th>\n",
       "      <th>usr_userid</th>\n",
       "      <th>usr_description</th>\n",
       "      <th>usr_description_hashtags</th>\n",
       "      <th>usr_description_mentions</th>\n",
       "      <th>usr_description_URLs</th>\n",
       "      <th>usr_description_emoji</th>\n",
       "      <th>usr_description_clean</th>\n",
       "      <th>usr_description_tokens</th>\n",
       "    </tr>\n",
       "  </thead>\n",
       "  <tbody>\n",
       "    <tr>\n",
       "      <th>0</th>\n",
       "      <td>354863991</td>\n",
       "      <td>using A.I. to propel the real estate industry ...</td>\n",
       "      <td>['PropTech', 'AI']</td>\n",
       "      <td>[]</td>\n",
       "      <td>[]</td>\n",
       "      <td>NaN</td>\n",
       "      <td>using ai to propel the real estate industry fo...</td>\n",
       "      <td>['enjoy', 'propel', 'family', 'read', 'industr...</td>\n",
       "    </tr>\n",
       "    <tr>\n",
       "      <th>1</th>\n",
       "      <td>4398626122</td>\n",
       "      <td>OpenAI’s mission is to ensure that artificial ...</td>\n",
       "      <td>[]</td>\n",
       "      <td>[]</td>\n",
       "      <td>['openai.com/jobs']</td>\n",
       "      <td>NaN</td>\n",
       "      <td>openais mission is to ensure that artificial g...</td>\n",
       "      <td>['general', 'benefit', 'humanity', 'intelligen...</td>\n",
       "    </tr>\n",
       "    <tr>\n",
       "      <th>2</th>\n",
       "      <td>162124540</td>\n",
       "      <td>President &amp; Co-Founder @OpenAI</td>\n",
       "      <td>[]</td>\n",
       "      <td>['OpenAI']</td>\n",
       "      <td>[]</td>\n",
       "      <td>NaN</td>\n",
       "      <td>president  co-founder</td>\n",
       "      <td>['-', 'founder', 'president', 'co']</td>\n",
       "    </tr>\n",
       "  </tbody>\n",
       "</table>\n",
       "</div>"
      ],
      "text/plain": [
       "   usr_userid                                    usr_description  \\\n",
       "0   354863991  using A.I. to propel the real estate industry ...   \n",
       "1  4398626122  OpenAI’s mission is to ensure that artificial ...   \n",
       "2   162124540                     President & Co-Founder @OpenAI   \n",
       "\n",
       "  usr_description_hashtags usr_description_mentions usr_description_URLs  \\\n",
       "0       ['PropTech', 'AI']                       []                   []   \n",
       "1                       []                       []  ['openai.com/jobs']   \n",
       "2                       []               ['OpenAI']                   []   \n",
       "\n",
       "  usr_description_emoji                              usr_description_clean  \\\n",
       "0                   NaN  using ai to propel the real estate industry fo...   \n",
       "1                   NaN  openais mission is to ensure that artificial g...   \n",
       "2                   NaN                              president  co-founder   \n",
       "\n",
       "                              usr_description_tokens  \n",
       "0  ['enjoy', 'propel', 'family', 'read', 'industr...  \n",
       "1  ['general', 'benefit', 'humanity', 'intelligen...  \n",
       "2                ['-', 'founder', 'president', 'co']  "
      ]
     },
     "execution_count": 2,
     "metadata": {},
     "output_type": "execute_result"
    }
   ],
   "source": [
    "#Read data\n",
    "user_prepro_df= pd.read_csv(\"UsrData_PreLDA.csv\").drop(columns=\"usr_description_origin\").rename(columns={'usr_description_prepro':'usr_description'})\n",
    "user_prepro_df.head(3)"
   ]
  },
  {
   "cell_type": "code",
   "execution_count": 4,
   "metadata": {},
   "outputs": [
    {
     "data": {
      "text/html": [
       "<div>\n",
       "<style scoped>\n",
       "    .dataframe tbody tr th:only-of-type {\n",
       "        vertical-align: middle;\n",
       "    }\n",
       "\n",
       "    .dataframe tbody tr th {\n",
       "        vertical-align: top;\n",
       "    }\n",
       "\n",
       "    .dataframe thead th {\n",
       "        text-align: right;\n",
       "    }\n",
       "</style>\n",
       "<table border=\"1\" class=\"dataframe\">\n",
       "  <thead>\n",
       "    <tr style=\"text-align: right;\">\n",
       "      <th></th>\n",
       "      <th>usr_userid</th>\n",
       "      <th>usr_description</th>\n",
       "      <th>usr_description_hashtags</th>\n",
       "      <th>usr_description_mentions</th>\n",
       "      <th>usr_description_URLs</th>\n",
       "      <th>usr_description_emoji</th>\n",
       "      <th>usr_description_clean</th>\n",
       "      <th>usr_description_tokens</th>\n",
       "    </tr>\n",
       "  </thead>\n",
       "  <tbody>\n",
       "    <tr>\n",
       "      <th>0</th>\n",
       "      <td>354863991</td>\n",
       "      <td>using A.I. to propel the real estate industry ...</td>\n",
       "      <td>['PropTech', 'AI']</td>\n",
       "      <td>[]</td>\n",
       "      <td>[]</td>\n",
       "      <td>NaN</td>\n",
       "      <td>using ai to propel the real estate industry fo...</td>\n",
       "      <td>[enjoy, propel, family, read, industry, forwar...</td>\n",
       "    </tr>\n",
       "    <tr>\n",
       "      <th>1</th>\n",
       "      <td>4398626122</td>\n",
       "      <td>OpenAI’s mission is to ensure that artificial ...</td>\n",
       "      <td>[]</td>\n",
       "      <td>[]</td>\n",
       "      <td>['openai.com/jobs']</td>\n",
       "      <td>NaN</td>\n",
       "      <td>openais mission is to ensure that artificial g...</td>\n",
       "      <td>[general, benefit, humanity, intelligence, mis...</td>\n",
       "    </tr>\n",
       "    <tr>\n",
       "      <th>2</th>\n",
       "      <td>162124540</td>\n",
       "      <td>President &amp; Co-Founder @OpenAI</td>\n",
       "      <td>[]</td>\n",
       "      <td>['OpenAI']</td>\n",
       "      <td>[]</td>\n",
       "      <td>NaN</td>\n",
       "      <td>president  co-founder</td>\n",
       "      <td>[-, founder, president, co]</td>\n",
       "    </tr>\n",
       "    <tr>\n",
       "      <th>3</th>\n",
       "      <td>1573710710852489216</td>\n",
       "      <td>The latest developments in the world of artifi...</td>\n",
       "      <td>[]</td>\n",
       "      <td>[]</td>\n",
       "      <td>[]</td>\n",
       "      <td>NaN</td>\n",
       "      <td>the latest developments in the world of artifi...</td>\n",
       "      <td>[world, late, intelligence, development, artif...</td>\n",
       "    </tr>\n",
       "    <tr>\n",
       "      <th>4</th>\n",
       "      <td>4617024083</td>\n",
       "      <td>I'm a bot. I post articles from the Hacker New...</td>\n",
       "      <td>[]</td>\n",
       "      <td>['c17r_']</td>\n",
       "      <td>[]</td>\n",
       "      <td>NaN</td>\n",
       "      <td>im a bot i post articles from the hacker news ...</td>\n",
       "      <td>[may, news, post, dayby, article, bot, bounce,...</td>\n",
       "    </tr>\n",
       "    <tr>\n",
       "      <th>5</th>\n",
       "      <td>1181481640532406272</td>\n",
       "      <td>An average #radonc with extraordinary interest...</td>\n",
       "      <td>['radonc', 'radiating', 'Indian', 'advocate', ...</td>\n",
       "      <td>['vivaldibrowser']</td>\n",
       "      <td>['radoncnotes.com']</td>\n",
       "      <td>NaN</td>\n",
       "      <td>an average with extraordinary interests common...</td>\n",
       "      <td>[extraordinary, radoncnotescom, average, proud...</td>\n",
       "    </tr>\n",
       "    <tr>\n",
       "      <th>6</th>\n",
       "      <td>1128321032413155329</td>\n",
       "      <td>For the latest #Hack to incorporate Machine Le...</td>\n",
       "      <td>['Hack', 'AI', 'ECommerce', 'Everyday']</td>\n",
       "      <td>['KhareemSudlow']</td>\n",
       "      <td>[]</td>\n",
       "      <td>NaN</td>\n",
       "      <td>for the latest to incorporate machine learning...</td>\n",
       "      <td>[lifestyle, business, late, learn, machine, in...</td>\n",
       "    </tr>\n",
       "    <tr>\n",
       "      <th>7</th>\n",
       "      <td>944364177581260800</td>\n",
       "      <td>Aspiring #Philanthropist | Machine Learning | ...</td>\n",
       "      <td>['Philanthropist']</td>\n",
       "      <td>[]</td>\n",
       "      <td>['KhareemSudlow.com']</td>\n",
       "      <td>NaN</td>\n",
       "      <td>aspiring  machine learning  blockchain  web  v...</td>\n",
       "      <td>[web, blockchain, khareemsudlowcom, learn, asp...</td>\n",
       "    </tr>\n",
       "    <tr>\n",
       "      <th>8</th>\n",
       "      <td>373030639</td>\n",
       "      <td>All things SEO + Ai - Random Facts - cofounder...</td>\n",
       "      <td>[]</td>\n",
       "      <td>['draftngoal', 'data']</td>\n",
       "      <td>[]</td>\n",
       "      <td>NaN</td>\n",
       "      <td>all things seo  ai - random facts - cofounder ...</td>\n",
       "      <td>[random, fact, seo, cofounder, ai, thing]</td>\n",
       "    </tr>\n",
       "    <tr>\n",
       "      <th>9</th>\n",
       "      <td>23367384</td>\n",
       "      <td>Technology Expert - Advisory Board Member - Co...</td>\n",
       "      <td>[]</td>\n",
       "      <td>[]</td>\n",
       "      <td>['knelsonvsi.com']</td>\n",
       "      <td>NaN</td>\n",
       "      <td>technology expert - advisory board member - co...</td>\n",
       "      <td>[expert, speaker, knelsonvsicom, tv, community...</td>\n",
       "    </tr>\n",
       "  </tbody>\n",
       "</table>\n",
       "</div>"
      ],
      "text/plain": [
       "            usr_userid                                    usr_description  \\\n",
       "0            354863991  using A.I. to propel the real estate industry ...   \n",
       "1           4398626122  OpenAI’s mission is to ensure that artificial ...   \n",
       "2            162124540                     President & Co-Founder @OpenAI   \n",
       "3  1573710710852489216  The latest developments in the world of artifi...   \n",
       "4           4617024083  I'm a bot. I post articles from the Hacker New...   \n",
       "5  1181481640532406272  An average #radonc with extraordinary interest...   \n",
       "6  1128321032413155329  For the latest #Hack to incorporate Machine Le...   \n",
       "7   944364177581260800  Aspiring #Philanthropist | Machine Learning | ...   \n",
       "8            373030639  All things SEO + Ai - Random Facts - cofounder...   \n",
       "9             23367384  Technology Expert - Advisory Board Member - Co...   \n",
       "\n",
       "                            usr_description_hashtags usr_description_mentions  \\\n",
       "0                                 ['PropTech', 'AI']                       []   \n",
       "1                                                 []                       []   \n",
       "2                                                 []               ['OpenAI']   \n",
       "3                                                 []                       []   \n",
       "4                                                 []                ['c17r_']   \n",
       "5  ['radonc', 'radiating', 'Indian', 'advocate', ...       ['vivaldibrowser']   \n",
       "6            ['Hack', 'AI', 'ECommerce', 'Everyday']        ['KhareemSudlow']   \n",
       "7                                 ['Philanthropist']                       []   \n",
       "8                                                 []   ['draftngoal', 'data']   \n",
       "9                                                 []                       []   \n",
       "\n",
       "    usr_description_URLs usr_description_emoji  \\\n",
       "0                     []                   NaN   \n",
       "1    ['openai.com/jobs']                   NaN   \n",
       "2                     []                   NaN   \n",
       "3                     []                   NaN   \n",
       "4                     []                   NaN   \n",
       "5    ['radoncnotes.com']                   NaN   \n",
       "6                     []                   NaN   \n",
       "7  ['KhareemSudlow.com']                   NaN   \n",
       "8                     []                   NaN   \n",
       "9     ['knelsonvsi.com']                   NaN   \n",
       "\n",
       "                               usr_description_clean  \\\n",
       "0  using ai to propel the real estate industry fo...   \n",
       "1  openais mission is to ensure that artificial g...   \n",
       "2                              president  co-founder   \n",
       "3  the latest developments in the world of artifi...   \n",
       "4  im a bot i post articles from the hacker news ...   \n",
       "5  an average with extraordinary interests common...   \n",
       "6  for the latest to incorporate machine learning...   \n",
       "7  aspiring  machine learning  blockchain  web  v...   \n",
       "8  all things seo  ai - random facts - cofounder ...   \n",
       "9  technology expert - advisory board member - co...   \n",
       "\n",
       "                              usr_description_tokens  \n",
       "0  [enjoy, propel, family, read, industry, forwar...  \n",
       "1  [general, benefit, humanity, intelligence, mis...  \n",
       "2                        [-, founder, president, co]  \n",
       "3  [world, late, intelligence, development, artif...  \n",
       "4  [may, news, post, dayby, article, bot, bounce,...  \n",
       "5  [extraordinary, radoncnotescom, average, proud...  \n",
       "6  [lifestyle, business, late, learn, machine, in...  \n",
       "7  [web, blockchain, khareemsudlowcom, learn, asp...  \n",
       "8          [random, fact, seo, cofounder, ai, thing]  \n",
       "9  [expert, speaker, knelsonvsicom, tv, community...  "
      ]
     },
     "execution_count": 4,
     "metadata": {},
     "output_type": "execute_result"
    }
   ],
   "source": [
    "#Loop below casts the usr_description_tokens from string to list of strings \n",
    "for col in ['usr_description_tokens']:\n",
    "    user_prepro_df[f'{col}'] = user_prepro_df[f'{col}'].apply(lambda x: x.strip(\"']['\").split(\"', '\"))\n",
    "#Inspect how dataset looks like\n",
    "user_prepro_df.head(10)"
   ]
  },
  {
   "cell_type": "code",
   "execution_count": 5,
   "metadata": {},
   "outputs": [
    {
     "data": {
      "text/html": [
       "<div>\n",
       "<style scoped>\n",
       "    .dataframe tbody tr th:only-of-type {\n",
       "        vertical-align: middle;\n",
       "    }\n",
       "\n",
       "    .dataframe tbody tr th {\n",
       "        vertical-align: top;\n",
       "    }\n",
       "\n",
       "    .dataframe thead th {\n",
       "        text-align: right;\n",
       "    }\n",
       "</style>\n",
       "<table border=\"1\" class=\"dataframe\">\n",
       "  <thead>\n",
       "    <tr style=\"text-align: right;\">\n",
       "      <th></th>\n",
       "      <th>usr_description</th>\n",
       "      <th>usr_description_tokens</th>\n",
       "    </tr>\n",
       "  </thead>\n",
       "  <tbody>\n",
       "    <tr>\n",
       "      <th>0</th>\n",
       "      <td>using A.I. to propel the real estate industry ...</td>\n",
       "      <td>[enjoy, propel, family, read, industry, forwar...</td>\n",
       "    </tr>\n",
       "    <tr>\n",
       "      <th>1</th>\n",
       "      <td>OpenAI’s mission is to ensure that artificial ...</td>\n",
       "      <td>[general, benefit, humanity, intelligence, mis...</td>\n",
       "    </tr>\n",
       "    <tr>\n",
       "      <th>2</th>\n",
       "      <td>President &amp; Co-Founder @OpenAI</td>\n",
       "      <td>[-, founder, president, co]</td>\n",
       "    </tr>\n",
       "  </tbody>\n",
       "</table>\n",
       "</div>"
      ],
      "text/plain": [
       "                                     usr_description  \\\n",
       "0  using A.I. to propel the real estate industry ...   \n",
       "1  OpenAI’s mission is to ensure that artificial ...   \n",
       "2                     President & Co-Founder @OpenAI   \n",
       "\n",
       "                              usr_description_tokens  \n",
       "0  [enjoy, propel, family, read, industry, forwar...  \n",
       "1  [general, benefit, humanity, intelligence, mis...  \n",
       "2                        [-, founder, president, co]  "
      ]
     },
     "execution_count": 5,
     "metadata": {},
     "output_type": "execute_result"
    }
   ],
   "source": [
    "#Inspect how the original usr_description and usr_description_tokens side by side\n",
    "user_prepro_df[['usr_description','usr_description_tokens']].head(3)"
   ]
  },
  {
   "cell_type": "code",
   "execution_count": 7,
   "metadata": {},
   "outputs": [
    {
     "name": "stdout",
     "output_type": "stream",
     "text": [
      "List just empty: [12, 41, 92, 127, 182, 188, 348, 353, 385, 399, 446, 462, 473, 486, 491, 504, 597, 634, 639, 646, 655, 675, 681, 700, 718, 733, 734, 780, 785, 841, 883, 889, 905, 915, 918, 968, 970, 978, 990, 1004, 1007, 1037, 1047, 1070, 1075, 1122, 1236, 1240, 1258, 1275, 1277, 1287, 1354, 1365, 1402, 1468, 1495, 1503, 1517, 1544, 1556, 1674, 1707, 1757, 1842, 1908, 1914, 1941, 1955, 1967, 2064, 2074, 2140, 2187, 2213, 2226, 2350, 2353, 2354, 2454, 2481, 2537, 2542, 2591, 2596, 2607, 2608, 2629, 2708, 2748, 2789, 2801, 2816, 2823, 2839, 2952, 2993, 3145, 3311, 3395, 3453, 3462, 3477, 3487, 3495, 3514, 3626, 3636, 3658, 3663, 3698, 3705, 3782, 3800, 3861, 3902, 3919, 3939, 3945, 3989, 4010, 4094, 4108, 4145, 4237, 4308, 4311, 4326, 4427, 4428, 4465, 4469, 4474, 4564, 4573, 4611, 4617, 4622, 4624, 4649, 4658, 4692, 4792, 4835, 4883, 4974, 5084, 5097, 5136, 5165, 5174, 5200, 5223, 5226, 5373, 5393, 5477, 5494, 5556, 5676, 5680, 5718, 5825, 5827, 5936, 5953, 5959, 5972, 6033, 6077, 6111, 6142, 6186, 6276, 6333, 6347, 6363, 6386, 6508, 6527, 6528, 6533, 6597, 6601, 6611, 6619, 6636, 6671, 6714, 6761, 6836, 6924, 6960, 6977, 7012, 7028, 7056, 7087, 7091, 7122, 7124, 7127, 7137, 7188, 7272, 7288, 7344, 7354, 7357, 7372, 7383, 7436, 7542, 7559, 7567, 7638, 7718, 7793, 7865, 7876, 7938, 7990, 8052, 8053, 8140, 8226, 8349, 8395, 8441, 8639, 8692, 8712, 8737, 8797, 8838, 8867, 8878, 8892, 8926, 8999, 9044, 9068, 9169, 9213, 9238, 9250, 9257, 9343, 9344, 9359, 9375, 9471, 9583, 9584, 9630, 9726, 9744, 9787, 9877, 9879, 9936, 9966, 9972, 10091, 10145, 10147, 10167, 10179, 10203, 10216, 10331, 10414, 10496, 10540, 10548, 10587, 10593, 10621, 10633, 10685, 10717, 10737, 10740, 10775, 10785, 10813, 10858, 10878, 10895, 10897, 10974, 11040, 11041, 11042, 11078, 11098, 11109, 11111, 11136, 11172, 11195, 11308, 11326, 11347, 11406, 11456, 11467, 11510, 11542, 11610, 11621, 11641, 11670, 11685, 11853, 11950, 11952, 11990, 12085, 12093, 12096, 12152, 12182, 12210, 12243, 12261, 12294, 12319, 12356, 12377, 12394, 12420, 12422, 12423, 12451, 12503, 12533, 12543, 12561, 12591, 12622, 12623, 12749, 12799, 12815, 12829, 12840, 12872, 12913, 12925, 12991, 13008, 13112, 13114, 13144, 13146, 13148, 13155, 13202, 13204, 13259, 13334, 13396, 13430, 13459, 13510, 13633, 13675, 13761, 13773, 13793, 13849, 13946, 13960, 13971, 14038, 14180, 14255, 14258, 14264, 14276, 14283, 14412, 14448, 14464, 14470, 14566, 14623, 14687, 14747, 14766, 14800, 14805, 14828, 14842, 14857, 14996, 15019, 15079, 15177, 15224, 15232, 15321, 15372, 15377, 15396, 15486, 15519, 15542, 15590, 15644, 15664, 15689, 15706, 15713, 15737, 15768, 15774, 15795, 15823, 15870, 15906, 15942, 15956, 16011, 16073, 16203, 16237, 16256, 16272, 16369, 16375, 16381, 16397, 16461, 16465, 16493, 16510, 16561, 16604, 16712, 16760, 16852, 16867, 16928, 17039, 17088, 17111, 17113, 17122, 17129, 17146, 17244, 17253, 17294, 17313, 17321, 17322, 17353, 17432, 17475, 17476, 17601, 17620, 17631, 17669, 17685, 17745, 17877, 17925, 17927, 17974, 18019, 18044, 18071, 18104, 18137, 18141, 18148, 18153, 18239, 18284, 18286, 18290, 18299, 18313, 18387, 18480, 18497, 18515, 18545, 18571, 18592, 18604, 18751, 18799, 18878, 18909, 18928, 18936, 18939, 18944, 18969, 18973, 19022, 19077, 19085, 19203, 19307, 19326, 19352, 19354, 19358, 19409, 19434, 19543, 19598, 19633, 19744, 19794, 19820, 19833, 19886, 19913, 19917, 20033, 20086, 20124, 20128, 20227, 20257, 20384, 20406, 20468, 20701, 20802, 20823, 20844, 20881, 20883, 20958, 21016, 21030, 21118, 21231, 21351, 21356, 21358, 21432, 21442, 21448, 21497, 21538, 21542, 21581, 21599, 21713, 21718, 21844, 21962, 22002, 22012, 22077, 22123, 22141, 22145, 22162, 22215, 22250, 22286, 22436, 22441, 22545, 22547, 22551, 22662, 22666, 22731, 22751, 22855, 22879, 22895, 22916, 22918, 22922, 22980, 23007, 23027, 23164, 23173, 23185, 23218, 23237, 23244, 23335, 23366, 23436, 23448, 23605, 23607, 23643, 23698, 23718, 23743, 23768, 23778, 23847, 23920, 23930, 23966, 24015, 24028, 24032, 24148, 24174, 24181, 24186, 24191, 24193, 24204, 24223, 24224, 24231, 24260, 24280, 24339, 24386, 24391, 24444, 24472, 24482, 24487, 24549, 24568, 24569, 24611, 24650, 24678, 24693, 24713, 24722, 24743, 24766, 24809, 24825, 24856, 24883, 24970, 25003, 25056, 25082, 25101, 25171, 25174, 25198, 25215, 25241, 25272, 25305, 25313, 25331, 25392, 25424, 25485, 25487, 25501, 25595, 25626, 25644, 25655, 25665, 25689, 25724, 25812, 25862, 25867, 25917, 25931, 25998, 26055, 26066, 26075, 26089, 26112, 26157, 26220, 26244, 26250, 26263, 26331, 26422, 26487, 26519, 26524, 26582, 26596, 26614, 26672, 26690, 26704, 26739, 26749, 26758, 26867, 26944, 26947, 26957, 26971, 27010, 27016, 27034, 27046, 27049, 27094, 27116, 27141, 27208, 27351, 27395, 27401, 27501, 27516, 27714, 27749, 27753, 27774, 27785, 27834, 27840, 27873, 27881, 27955, 27959, 28012, 28124, 28137, 28138, 28147, 28149, 28189, 28214, 28320, 28324, 28328, 28372, 28381, 28479, 28504, 28660, 28682, 28862, 28964, 29036, 29070, 29083, 29091, 29188, 29194, 29251, 29280, 29309, 29339, 29343, 29361, 29378, 29434, 29531, 29544, 29552, 29569, 29592, 29698, 29701, 29705, 29761, 29774, 29797, 29982, 30019, 30031, 30039, 30064, 30120, 30135, 30151, 30173, 30178, 30186, 30187, 30191, 30203, 30211, 30297, 30318, 30349, 30366, 30381, 30387, 30406, 30408, 30415, 30429, 30443, 30485, 30491, 30529, 30534, 30535, 30584, 30604, 30680, 30728, 30732, 30741, 30787, 30809, 30839, 30935, 30939, 31123, 31220, 31289, 31344, 31345, 31355, 31384, 31433, 31443, 31449, 31508, 31515, 31530, 31639, 31640, 31653, 31676, 31696, 31796, 31836, 31863, 31889, 31910, 31967, 32007, 32036, 32056, 32070, 32110, 32140, 32188, 32211, 32243, 32253, 32258, 32302, 32335, 32342, 32383, 32413, 32416, 32514, 32556, 32636, 32646, 32671, 32672, 32689, 32724, 32725, 32755, 32763, 32786, 32793, 32801, 32847, 32856, 32870, 32947, 32966, 32987, 32995, 33018, 33056, 33146, 33197, 33223, 33240, 33284, 33361, 33421, 33428, 33436, 33462, 33475, 33527, 33536, 33595, 33620, 33637, 33645, 33657, 33661, 33715, 33730, 33754, 33770, 33809, 33851, 33859, 33903, 33920, 33940, 33961, 33977, 34034, 34049, 34142, 34174, 34198, 34259, 34267, 34286, 34299, 34322, 34344, 34352, 34484, 34512, 34537, 34554, 34613, 34616, 34621, 34654, 34663, 34667, 34713, 34734, 34746, 34747, 34784, 34832, 34875, 34878, 34929, 35010, 35040, 35069, 35140, 35143, 35164, 35197, 35327, 35330, 35335, 35338, 35346, 35348, 35371, 35462, 35488, 35496, 35503, 35518, 35550, 35557, 35585, 35618, 35639, 35642, 35674, 35677, 35705, 35717, 35770, 35801, 35818, 35924, 35952, 36017, 36065, 36118, 36153, 36187, 36192, 36218, 36392, 36453, 36523, 36537, 36539, 36542, 36544, 36586, 36593, 36602, 36619, 36631, 36671, 36677, 36702, 36721, 36752, 36840, 36854, 36917, 36933, 36985, 37060, 37095, 37113, 37148, 37196, 37211, 37228, 37248, 37271, 37282, 37325, 37334, 37358, 37440, 37441, 37445, 37450, 37461, 37489, 37539, 37542, 37558, 37598, 37660, 37664, 37710, 37717, 37746, 37747, 37765, 37775, 37785, 37791, 37851, 37879, 37892, 37903, 38007, 38018, 38063, 38121, 38131, 38141, 38161, 38179, 38217, 38244, 38266, 38310, 38332, 38351, 38411, 38426, 38446, 38465, 38481, 38531, 38550, 38586, 38612, 38634, 38674, 38675, 38693, 38706, 38781, 38787, 38809, 38890, 38906, 38910, 38918, 38963, 38964, 38987, 39008, 39023, 39035, 39077, 39093, 39123, 39127, 39135, 39160, 39233, 39247, 39273, 39332, 39364, 39373, 39425, 39437, 39461, 39527, 39547, 39555, 39585, 39609, 39672, 39716, 39747, 39843, 39870, 39871, 39912, 39946, 39961, 40061, 40084, 40138, 40188, 40219, 40247, 40362, 40381, 40416, 40419, 40473, 40512, 40513, 40565, 40597, 40608, 40746, 40755, 40762, 40769, 40799, 40800, 40816, 40820, 40902, 40954, 40955, 40960, 40984, 41018, 41039, 41067, 41068, 41075, 41084, 41207, 41212, 41254, 41292, 41340, 41368, 41432, 41434, 41445, 41447, 41458, 41499, 41564, 41622, 41644, 41690, 41761, 41858, 41885, 41897, 41956, 42012, 42042, 42050, 42053, 42055, 42095, 42106, 42130, 42133, 42174, 42178, 42183, 42184, 42186, 42210, 42277, 42294, 42301, 42405, 42459, 42522, 42556, 42587, 42716, 42734, 42755, 42788, 42799, 42804, 42823, 42870, 42880, 42892, 42909, 42913, 42929, 42943, 42949, 42972, 42974, 43022, 43052, 43075, 43097, 43101, 43122, 43209, 43226, 43237, 43261, 43298, 43317, 43329, 43359, 43375, 43379, 43515, 43537, 43552, 43555, 43556, 43620, 43627, 43636, 43671, 43707, 43788, 43808, 43839, 43841, 43900, 43936, 43946, 43953, 44010, 44032, 44036, 44047, 44098, 44110, 44158, 44181, 44200, 44219, 44232, 44236, 44295, 44324, 44358, 44377, 44441, 44480, 44483, 44498, 44547, 44560, 44571, 44584, 44612, 44624, 44648, 44671, 44755, 44777, 44782, 44809, 44863, 44888, 44891, 44893, 45031, 45038, 45077, 45078, 45084, 45195, 45214, 45257, 45261, 45270, 45286, 45301, 45310, 45311, 45321, 45331, 45344, 45350, 45367, 45419, 45450, 45501, 45505, 45509, 45566, 45609, 45626, 45634, 45709, 45728, 45743, 45765, 45780, 45792, 45886, 45944, 46074, 46089, 46107, 46149, 46223, 46226, 46240, 46241, 46293, 46304, 46321, 46411, 46432, 46495, 46535, 46597, 46599, 46674, 46806, 46821, 46855, 46870, 46887, 46933, 47014, 47030, 47031, 47047, 47058, 47077, 47172, 47180, 47284, 47289, 47317, 47337, 47353, 47416, 47441, 47463, 47471, 47488, 47521, 47556, 47584, 47587, 47589, 47627, 47640, 47679, 47689, 47725, 47730, 47743, 47885, 48010, 48046, 48066, 48093, 48111, 48146, 48279, 48313, 48352, 48420, 48425, 48463, 48478, 48487, 48488, 48515, 48558, 48583, 48587, 48605, 48641, 48684, 48793, 48867, 48913, 48966, 48999, 49005, 49062, 49113, 49146, 49198, 49210, 49283, 49292, 49360, 49409, 49431, 49439, 49474, 49501, 49506, 49524, 49542, 49580, 49593, 49610, 49627, 49647, 49674, 49736, 49750, 49757, 49773, 49788, 49817, 49826, 49847, 49920, 49926, 49982, 50042, 50055, 50063, 50078, 50081, 50216, 50249, 50272, 50335, 50348, 50429, 50476, 50496, 50513, 50545, 50671, 50673, 50684, 50691, 50721, 50820, 50839, 50847, 50884, 50888, 50954, 51075, 51079, 51170, 51174, 51183, 51199, 51233, 51257, 51325, 51333, 51389, 51418, 51533, 51543, 51552, 51588, 51654, 51679, 51700, 51770, 51806, 51822, 51891, 51894, 51901, 51934, 51944, 51951, 52008, 52087, 52093, 52102, 52103, 52147, 52155, 52183, 52203, 52212, 52217, 52243, 52244, 52253, 52261, 52333, 52336, 52339, 52412, 52457, 52471, 52493, 52542, 52547, 52553, 52601, 52645, 52659, 52673, 52685, 52690, 52747, 52773, 52784, 52800, 52889, 52918, 52928, 52929, 52934, 53002, 53014, 53034, 53061, 53074, 53102, 53108, 53123, 53136, 53159, 53172, 53252, 53265, 53311, 53350, 53357, 53386, 53395, 53408, 53430, 53435, 53486, 53513, 53536, 53543, 53554, 53563, 53579, 53582, 53592, 53593, 53599, 53612, 53693, 53694, 53703, 53728, 53785, 53807, 53846, 53895, 53905, 53909, 53950, 54000, 54010, 54059, 54067, 54068, 54103, 54166, 54173, 54209, 54294, 54305, 54402, 54417, 54445, 54472, 54477, 54478, 54497, 54606, 54630, 54631, 54639, 54665, 54726, 54737, 54765, 54782, 54821, 54828, 54842, 54859, 54874, 54906, 54915, 54962, 55028, 55050, 55072, 55089, 55136, 55144, 55201, 55222, 55238, 55267, 55276, 55307, 55335, 55355, 55362, 55364, 55434, 55446, 55453, 55458, 55572, 55650, 55664, 55678, 55711, 55738, 55757, 55790, 55825, 55837, 55857, 55895, 55950, 55954, 55958, 55982, 55991, 56009, 56081, 56089, 56105, 56118, 56153, 56174, 56228, 56240, 56243, 56302, 56326, 56330, 56361, 56427, 56451, 56460, 56473, 56478, 56538, 56572, 56573, 56579, 56597, 56607, 56615, 56628, 56637, 56654, 56673, 56688, 56689, 56733, 56758, 56762, 56763, 56765, 56771, 56801, 56845, 56858, 56942, 57001, 57039, 57049, 57088, 57098, 57104, 57207, 57256, 57262, 57270, 57325, 57326, 57337, 57486, 57585, 57617, 57654, 57667, 57715, 57758, 57764, 57823, 57883, 57886, 57947, 57974, 58018, 58033, 58034, 58093, 58256, 58262, 58267, 58284, 58321, 58354, 58374, 58535, 58536, 58546, 58598, 58604, 58614, 58655, 58678, 58687, 58736, 58817, 58835, 58851, 58872, 58902, 58905, 58919, 58948, 58980, 59087, 59096, 59103, 59135, 59214, 59303, 59340, 59383, 59400, 59438, 59464, 59512, 59541, 59543, 59545, 59582, 59605, 59606, 59624, 59629, 59679, 59685, 59694, 59699, 59775, 59780, 59792, 59801, 59856, 59988, 60007, 60012, 60018, 60053, 60122, 60124, 60143, 60218, 60244, 60262, 60265, 60286, 60359, 60408, 60409, 60455, 60493, 60507, 60535, 60607, 60651, 60652, 60705, 60852, 60901, 60914, 60964, 60973, 61107, 61114, 61135, 61157, 61172, 61259, 61265, 61272, 61331, 61384, 61408, 61449, 61457, 61483, 61493, 61511, 61519, 61607, 61629, 61657, 61660, 61670, 61690, 61723, 61724, 61763, 61790, 61796, 61800, 61851, 61859, 61885, 61931, 61940, 61943, 61977, 61996, 62007, 62017, 62059, 62061, 62166, 62202, 62206, 62250, 62271, 62282, 62298, 62299, 62336, 62380, 62382, 62386, 62473, 62486, 62535, 62536, 62630, 62647, 62698, 62705, 62709, 62713, 62783, 62846, 62848, 62854, 62921, 62956, 62957, 62959, 62984, 63003, 63014, 63049, 63050, 63112, 63138, 63165, 63181, 63264, 63271, 63320, 63324, 63351, 63389, 63417, 63561, 63595, 63629, 63725, 63790, 63807, 63826, 63839, 63867, 63897, 63902, 63958, 63970, 64132, 64140, 64144, 64152, 64163, 64201, 64216, 64225, 64304, 64305, 64331, 64335, 64359, 64423, 64478, 64526, 64605, 64611, 64679, 64689, 64691, 64734, 64749, 64755, 64782, 64821, 64843, 64851, 64852, 64885, 64916, 64929, 64984, 64988, 64991, 64996, 64999, 65008, 65011, 65012, 65041, 65043, 65060, 65080, 65086, 65099, 65131, 65174, 65179, 65205, 65247, 65253, 65315, 65328, 65406, 65416, 65424, 65442, 65444, 65451, 65460, 65500, 65512, 65526, 65537, 65602, 65643, 65650, 65652, 65663, 65760, 65767, 65809, 65823, 65928, 65955, 65981, 65989, 66035, 66110, 66230, 66234, 66239, 66373, 66378, 66402, 66408, 66433, 66509, 66559, 66574, 66579, 66612, 66616, 66655, 66782, 66784, 66805, 66806, 66811, 66921, 66965, 66991, 66994, 67125, 67133, 67176, 67189, 67206, 67224, 67231, 67251, 67325, 67327, 67376, 67377, 67379, 67500, 67523, 67528, 67544, 67585, 67630, 67632, 67640, 67691, 67707, 67739, 67753, 67755, 67757, 67840, 67862, 67921, 67999, 68012, 68023, 68151, 68184, 68209, 68249, 68257, 68278, 68280, 68325, 68329, 68354, 68380, 68490, 68514, 68536, 68581, 68637, 68639, 68676, 68702, 68724, 68730, 68737, 68747, 68757, 68815, 68871, 68879, 68886, 68911, 68921, 68965, 68966, 69025, 69091, 69100, 69123, 69157, 69159, 69163, 69180, 69299, 69542, 69545, 69555, 69561, 69584, 69641, 69656, 69678, 69697, 69700, 69720, 69807, 69839, 69859, 69870, 69878, 69914, 69961, 70041, 70071, 70073, 70134, 70157, 70163, 70251, 70273, 70320, 70324, 70335, 70352, 70385, 70416, 70498, 70535, 70588, 70669, 70697, 70705, 70794, 70856, 70948, 70964, 70983, 70998, 71016, 71067, 71091, 71116, 71169, 71186, 71206, 71252, 71254, 71267, 71274, 71284, 71286, 71304, 71312, 71332, 71375, 71469, 71494, 71504, 71614, 71624, 71663, 71666, 71683, 71694, 71713, 71716, 71718, 71732, 71743, 71774, 71802, 71804, 71944, 72008, 72034, 72039, 72103, 72156, 72167, 72228, 72239, 72265, 72272, 72330, 72341, 72379, 72393, 72412, 72445, 72462, 72492, 72516, 72546, 72551, 72552, 72590, 72629, 72649, 72692, 72706, 72743, 72759, 72785, 72790, 72815, 72842, 72868, 72888, 72895, 72909, 72927, 72962, 73023, 73024, 73044, 73069, 73090, 73103, 73115, 73213, 73247, 73308, 73311, 73316, 73325, 73338, 73393, 73409, 73431, 73441, 73485, 73509, 73516, 73559, 73560, 73575, 73586, 73590, 73596, 73597, 73602, 73608, 73657, 73661, 73692, 73697, 73698, 73707, 73709, 73716, 73753, 73789, 73834, 73897, 73913, 74004, 74064, 74126, 74199, 74201, 74242, 74286, 74304, 74330, 74359, 74372, 74374, 74387, 74420, 74437, 74466, 74470, 74496, 74507, 74584, 74637, 74646, 74694, 74701, 74743, 74843, 74866, 74994, 75030, 75069, 75181, 75224, 75232, 75255, 75258, 75291, 75302, 75324, 75330, 75362, 75368, 75466, 75480, 75497, 75555, 75569, 75585, 75640, 75650, 75694, 75699, 75744, 75749, 75779, 75818, 75831, 75847, 75877, 75942, 75951, 75981, 76013, 76025, 76062, 76067, 76108, 76123, 76161, 76230, 76237, 76253, 76259, 76282, 76316, 76321, 76446, 76491, 76500, 76600, 76613, 76667, 76710, 76750, 76764, 76864, 76894, 76942, 77032, 77050, 77069, 77079, 77105, 77122, 77143, 77149, 77189, 77201, 77203, 77217, 77245, 77273, 77357, 77360, 77380, 77398, 77404, 77429, 77455, 77514, 77577, 77621, 77690, 77715, 77737, 77743, 77784, 77788, 77820, 77833, 77919, 77924, 77956, 77962, 77981, 77987, 77995, 78024, 78051, 78068, 78088, 78102, 78147, 78155, 78159, 78200, 78213, 78233, 78290, 78294, 78379, 78405, 78426, 78464, 78474, 78494, 78609, 78641, 78678, 78709, 78742, 78760, 78846, 78867, 78897, 78905, 78963, 79061, 79103, 79117, 79154, 79172, 79229, 79234, 79275, 79278, 79284, 79296, 79309, 79322, 79354, 79366, 79380, 79390, 79432, 79465, 79469, 79478, 79524, 79541, 79579, 79594, 79596, 79609, 79628, 79637, 79644, 79691, 79693, 79699, 79777, 79783, 79789, 79790, 79792, 79799, 79811, 79876, 79881, 79930, 79941, 79946, 79992, 79998, 80010, 80035, 80038, 80080, 80082, 80098, 80099, 80101, 80110, 80122, 80137, 80203, 80208, 80290, 80319, 80342, 80361, 80366, 80398, 80403, 80418, 80500, 80501, 80517, 80524, 80553, 80593, 80620, 80628, 80643, 80652, 80687, 80695, 80714, 80739, 80760, 80813, 80817, 80829, 80869, 80907, 80930, 80955, 80997, 81036, 81065, 81119, 81153, 81222, 81248, 81302, 81308, 81315, 81334, 81397, 81410, 81415, 81447, 81470, 81534, 81579, 81688, 81725, 81743, 81830, 81839, 81869, 81880, 81922, 81927, 82016, 82031, 82070, 82086, 82110, 82129, 82165, 82197, 82219, 82278, 82387, 82416, 82518, 82554, 82637, 82653, 82660, 82727, 82731, 82843, 82867, 82919, 82923, 83001, 83014, 83091, 83165, 83180, 83225, 83231, 83240, 83281, 83394, 83419, 83442, 83520, 83530, 83562, 83569, 83628, 83642, 83651, 83686, 83773, 83808, 83860, 83875, 83889, 83894, 83907, 84000, 84009, 84038, 84139, 84183, 84249, 84262, 84278, 84279, 84289, 84329, 84340, 84341, 84349, 84387, 84400, 84403, 84413, 84417, 84442, 84443, 84470, 84504, 84509, 84526, 84537, 84562, 84627, 84635, 84676, 84717, 84751, 84753, 84754, 84761, 84762, 84768, 84787, 84803, 84807, 84832, 84879, 84907, 84938, 84945, 84946, 84951, 85038, 85093, 85107, 85124, 85141, 85154, 85163, 85175, 85192, 85193, 85246, 85259, 85294, 85348, 85386, 85398, 85431, 85532, 85587, 85663, 85696, 85736, 85824, 85832, 85844, 85856, 85886, 85888, 85904, 85971, 86017, 86049, 86094, 86194, 86247, 86324, 86415, 86448, 86485, 86492, 86515, 86637, 86716, 86739, 86744, 86747, 86751, 86778, 86790, 86872, 86882, 86887, 86896, 86905, 86919, 87014, 87020, 87060, 87070, 87114, 87130, 87153, 87199, 87202, 87204, 87267, 87288, 87290, 87291, 87298, 87323, 87365, 87366, 87381, 87388, 87446, 87509, 87516, 87538, 87563, 87582, 87594, 87603, 87619, 87634, 87655, 87659, 87660, 87677, 87690, 87705, 87780, 87799, 87813, 87828, 87847, 87862, 87919, 87923, 87930, 87969, 88009, 88030, 88040, 88092, 88102, 88108, 88188, 88213, 88222, 88247, 88253, 88260, 88270, 88312, 88363, 88384, 88391, 88455, 88477, 88530, 88561, 88594, 88606, 88610, 88631, 88652, 88797, 88810, 88844, 88884, 88915, 88932, 88938, 88950, 89019, 89050, 89122, 89137, 89191, 89228, 89233, 89243, 89248, 89352, 89364, 89377, 89380, 89393, 89424, 89489, 89559, 89616, 89645, 89653, 89661, 89728, 89793, 89829, 89831, 89863, 89966, 89970, 90012, 90014, 90025, 90111, 90121, 90122, 90142, 90145, 90153, 90163, 90168, 90230, 90232, 90320, 90376, 90415, 90421, 90429, 90431, 90455, 90457, 90478, 90480, 90486, 90506, 90602, 90610, 90613, 90642, 90644, 90649, 90652, 90655, 90673, 90679, 90733, 90776, 90805, 90808, 90824, 90834, 90905, 90954, 90958, 90961, 90997, 91047, 91106, 91181, 91206, 91257, 91261, 91268, 91319, 91364, 91427, 91461, 91486, 91556, 91587, 91632, 91664, 91675, 91701, 91709, 91742, 91752, 91755, 91769, 91815, 91863, 91871, 91907, 91992, 92006, 92015, 92022, 92140, 92155, 92170, 92184, 92193, 92210, 92226, 92285, 92346, 92352, 92439, 92451, 92458, 92459, 92570, 92635, 92641, 92657, 92720, 92726, 92759, 92761, 92776, 92865, 92996, 93080, 93085, 93192, 93239, 93284, 93296, 93300, 93308, 93342, 93399, 93424, 93430, 93588, 93599, 93687, 93712, 93714, 93838, 93868, 93887, 93929, 93939, 93956, 94007, 94033, 94038, 94058, 94065, 94066, 94080, 94081, 94192, 94232, 94239, 94268, 94296, 94324, 94399, 94402, 94433, 94442, 94459, 94501, 94505, 94518, 94551, 94556, 94624, 94636, 94714, 94728, 94782, 94787, 94797, 94811, 94838, 94854, 94869, 94880, 94909, 94932, 94991, 95006, 95047, 95108, 95159, 95208, 95237, 95254, 95265, 95271, 95295, 95314, 95353, 95399, 95413, 95437, 95446, 95452, 95471, 95509, 95540, 95554, 95566, 95598, 95617, 95630, 95641, 95642, 95706, 95755, 95775, 95801, 95884, 95959, 95985, 96026, 96032, 96057, 96066, 96102, 96139, 96182, 96210, 96275, 96312, 96319, 96322, 96329, 96345, 96398, 96411, 96427, 96432, 96450, 96470, 96476, 96497, 96504, 96547, 96554, 96613, 96618, 96621, 96652, 96661, 96675, 96687, 96727, 96760, 96763, 96765, 96822, 96857, 96892, 96975, 96988, 97004, 97024, 97031, 97043, 97044, 97047, 97099, 97118, 97127, 97130, 97131, 97143, 97150, 97157, 97191, 97291, 97310, 97326, 97384, 97418, 97443, 97478, 97503, 97615, 97618, 97657, 97679, 97686, 97699, 97711, 97713, 97731, 97756, 97757, 97759, 97767, 97779, 97791, 97792, 97811, 97823, 97835, 97848, 97851, 97852, 97884, 97904, 97908, 97933, 97945, 97991, 97993, 98018, 98023, 98041, 98047, 98054, 98074, 98101, 98107, 98162, 98167, 98174, 98183, 98217, 98220, 98222, 98239, 98248, 98255, 98257, 98264, 98275, 98300, 98367, 98400, 98409, 98414, 98421, 98438, 98441, 98447, 98508, 98516, 98527, 98545, 98549, 98600, 98606, 98616, 98628, 98643, 98677, 98683, 98686, 98713, 98714, 98749, 98750, 98790, 98817, 98827, 98830, 98842, 98856, 98861, 98902, 98905, 98918, 98964, 98999, 99000, 99023, 99076, 99102, 99209, 99260, 99281, 99287, 99318, 99321, 99323, 99327, 99412, 99414, 99415, 99532, 99607, 99622, 99631, 99644, 99645, 99646, 99656, 99671, 99681, 99732, 99750, 99783, 99825, 99841, 99879, 99891, 99899, 99910, 99925, 99934, 99996, 100035, 100043, 100070, 100074, 100091, 100092, 100135, 100247, 100359, 100390, 100400, 100401, 100416, 100417, 100517, 100559, 100568, 100570, 100586, 100616, 100641, 100681, 100691, 100699, 100718, 100738, 100750, 100773, 100801, 100809, 100813, 100814, 100845, 100852, 100856, 100871, 100897, 100910, 100946, 100950, 100980, 100990, 101008, 101035, 101038, 101087, 101103, 101114, 101147, 101159, 101227, 101268, 101324, 101347, 101363, 101381, 101434, 101466, 101558, 101569, 101604, 101742, 101748, 101773, 101801, 101812, 101824, 101902, 101911, 101984, 101987, 102002, 102011, 102028, 102094, 102096, 102114, 102152, 102170, 102184, 102186, 102203, 102229, 102254, 102264, 102269, 102280, 102316, 102320, 102331, 102380, 102436, 102451, 102458, 102497, 102528, 102545, 102557, 102566, 102595, 102619, 102652, 102726, 102764, 102775, 102818, 102840, 102867, 102997, 103001, 103033, 103040, 103052, 103111, 103145, 103161, 103174, 103206, 103227, 103253, 103292, 103319, 103327, 103337, 103340, 103409, 103416, 103421, 103439, 103451, 103486, 103491, 103509, 103540, 103574, 103586, 103591, 103592, 103635, 103654, 103672, 103691, 103779, 103790, 103825, 103829, 103839, 103842, 103875, 103884, 103913, 103916, 103920, 103926, 103955, 103960, 103962, 103966, 103989, 103990, 103996, 104140, 104148, 104196, 104199, 104246, 104248, 104284, 104291, 104303, 104306, 104316, 104326, 104342, 104400, 104402, 104406, 104419, 104573, 104609, 104611, 104612, 104670, 104681, 104721, 104740, 104759, 104796, 104808, 104821, 104832, 104871, 104882, 104900, 104975, 104996, 105029, 105086, 105103, 105127, 105129, 105152, 105182, 105199, 105206, 105215, 105249, 105293, 105350, 105351, 105370, 105400, 105410, 105424, 105443, 105453, 105460, 105486, 105495, 105525, 105541, 105543, 105549, 105577, 105579, 105588, 105593, 105601, 105611, 105618, 105648, 105674, 105676, 105716, 105789, 105854, 105949, 106004, 106057, 106151, 106170, 106189, 106211, 106219, 106243, 106247, 106378, 106400, 106433, 106445, 106548, 106555, 106598, 106602, 106613, 106633, 106636, 106640, 106704, 106716, 106720, 106794, 106795, 106873, 106877, 106898, 107050, 107080, 107104, 107116, 107128, 107160, 107171, 107188, 107202, 107267, 107283, 107293, 107337, 107451, 107476, 107493, 107523, 107536, 107576, 107616, 107699, 107713, 107742, 107769, 107776, 107799, 107850, 107853, 107893, 107923, 107957, 107978, 108051, 108078, 108107, 108150, 108242, 108256, 108278, 108285, 108298, 108306, 108318, 108382, 108422, 108434, 108459, 108470, 108485, 108494, 108511, 108514, 108546, 108590, 108595, 108596, 108616, 108625, 108637, 108699, 108719, 108726, 108739, 108748, 108775, 108801, 108866, 108911, 108982, 108997, 109003, 109004, 109032, 109044, 109047, 109070, 109129, 109134, 109162, 109194, 109210, 109230, 109231, 109269, 109307, 109344, 109410, 109412, 109445, 109469, 109472, 109473, 109485, 109503, 109511, 109515, 109541, 109576, 109603, 109623, 109636, 109663, 109664, 109690, 109719, 109798, 109816, 109829, 109882, 110003, 110043, 110057, 110100, 110164, 110216, 110220, 110224, 110235, 110241, 110313, 110326, 110350, 110366, 110403, 110425, 110459, 110460, 110465, 110493, 110597, 110634, 110659, 110664, 110702, 110722, 110724, 110770, 110774, 110818, 110823, 110868, 110957, 110995, 111032, 111036, 111059, 111079, 111087, 111095, 111104, 111129, 111130, 111192, 111197, 111236, 111284, 111337, 111390, 111435, 111445, 111531, 111533, 111540, 111584, 111669, 111687, 111691, 111700, 111711, 111733, 111743, 111750, 111804, 111893, 111966, 112042, 112057, 112062, 112064, 112077, 112079, 112100, 112110, 112171, 112211, 112232, 112264, 112267, 112431, 112501, 112526, 112546, 112561, 112567, 112608, 112637, 112639, 112645, 112651, 112671, 112676, 112723, 112802, 112840, 112849, 112962, 113028, 113079, 113087, 113106, 113148, 113175, 113293, 113296, 113300, 113318, 113371, 113383, 113415, 113503, 113567, 113574, 113614, 113632, 113728, 113747, 113763, 113767, 113789, 113807, 113813, 113818, 113850, 113872, 113881, 113884, 113974, 114000, 114004, 114023, 114070, 114074, 114076, 114121, 114129, 114130, 114165, 114215, 114278, 114291, 114296, 114339, 114391, 114400, 114437, 114508, 114515, 114581, 114602, 114605, 114631, 114654, 114667, 114702, 114705, 114805, 114857, 114900, 114923, 114967, 114970, 115054, 115057, 115067, 115098, 115127, 115171, 115301, 115411, 115437, 115484, 115522, 115622, 115627, 115671, 115748, 115770, 115810, 115815, 115867, 115916, 115921, 115941, 115950, 115998, 116041, 116043, 116065, 116085, 116119, 116174, 116211, 116266, 116289, 116364, 116402, 116442, 116476, 116479, 116490, 116495, 116510, 116566, 116569, 116573, 116580, 116589, 116592, 116647, 116673, 116753, 116819, 116832, 116839, 116881, 116952, 117035, 117067, 117112, 117130, 117143, 117145, 117209, 117267, 117278, 117350, 117369, 117381, 117565, 117595, 117622, 117632, 117662, 117666, 117667, 117725, 117810, 117818, 117820, 117957, 118029, 118037, 118063, 118066, 118123, 118131, 118138, 118156, 118166, 118184, 118194, 118246, 118261, 118271, 118290, 118300, 118308, 118329, 118364, 118380, 118394, 118418, 118423, 118427, 118502, 118516, 118520, 118536, 118588, 118597, 118605, 118611, 118628, 118665, 118684, 118701, 118814, 118817, 118853, 118892, 118949, 118994, 119038, 119070, 119093, 119150, 119168, 119184, 119215, 119222, 119240, 119395, 119422, 119447, 119473, 119528, 119546, 119592, 119607, 119669, 119751, 119768, 119834, 119870, 119883, 119903, 119912, 119915, 119991, 119996, 120017, 120060, 120097, 120117, 120125, 120126, 120153, 120196, 120206, 120240, 120285, 120318, 120349, 120396, 120409, 120431, 120466, 120525, 120556, 120625, 120637, 120676, 120677, 120748, 120767, 120798, 120803, 120820, 120827, 120894, 120895, 120908, 120912, 120914, 120943, 120954, 120975, 121061, 121066, 121069, 121087, 121167, 121182, 121201, 121206, 121207, 121220, 121238, 121252, 121306, 121342, 121385, 121390, 121416, 121449, 121509, 121588, 121593, 121668, 121682, 121684, 121691, 121695, 121716, 121730, 121733, 121774, 121791, 121904, 121923, 122002, 122056, 122081, 122098, 122132, 122156, 122174, 122235, 122253, 122256, 122264, 122312, 122341, 122360, 122367, 122408, 122432, 122433, 122436, 122558, 122620, 122734, 122740, 122823, 122825, 122863, 122877, 122901, 122924, 122948, 122967, 122990, 122998, 123144, 123159, 123203, 123227, 123251, 123269, 123278, 123311, 123327, 123427, 123453, 123488, 123508, 123516, 123534, 123571, 123607, 123707, 123724, 123751, 123817, 123834, 123887, 124003, 124081, 124105, 124116, 124215, 124254, 124272, 124360, 124374, 124386, 124495, 124517, 124562, 124615, 124666, 124670, 124733, 124764, 124818, 124851, 124858, 124862, 124923, 124935, 124988, 125089, 125100, 125105, 125106, 125123, 125131, 125136, 125181, 125195, 125201, 125220, 125230, 125242, 125258, 125284, 125343, 125404, 125452, 125542, 125554, 125598, 125649, 125670, 125715, 125724, 125730, 125812, 125829, 125834, 125879, 125899, 125904, 125915, 125934, 125984, 126024, 126088, 126103, 126138, 126149, 126155, 126177, 126193, 126208, 126213, 126248, 126304, 126331, 126355, 126373, 126447, 126469, 126472, 126528, 126560, 126569, 126577, 126675, 126700, 126708, 126746, 126749, 126771, 126783, 126830, 126858, 126921, 126959, 127003, 127006, 127023, 127051, 127147, 127159, 127162, 127163, 127181, 127225, 127247, 127327, 127359, 127396, 127424, 127435, 127469, 127477, 127537, 127573, 127647, 127701, 127717, 127737, 127745, 127748, 127794, 127795, 127816, 127832, 127866, 127939, 127998, 128158, 128260, 128263, 128288, 128302, 128382, 128433, 128446, 128464, 128477, 128494, 128526, 128558, 128613, 128707, 128781, 128784, 128825, 128850, 128966, 128969, 128971, 129025, 129030, 129060, 129090, 129092, 129095, 129157, 129173, 129237, 129302, 129313, 129317, 129319, 129326, 129389, 129420, 129427, 129431, 129452, 129463, 129488, 129627, 129761, 129795, 129823, 129835, 129851, 129853, 129861, 129880, 129907, 129922, 129937, 129985, 129990, 130017, 130067, 130155, 130165, 130196, 130223, 130225, 130238, 130251, 130258, 130290, 130297, 130302, 130317, 130318, 130326, 130335, 130376, 130410, 130423, 130427, 130476, 130509, 130560, 130610, 130620, 130635, 130654, 130763, 130803, 130806, 130812, 130817, 130836, 130863, 130879, 130880, 130948, 130953, 130960, 131000, 131014, 131035, 131091, 131095, 131145, 131199, 131222, 131232, 131260, 131281, 131306, 131318, 131355, 131386, 131391, 131402, 131419, 131431, 131447, 131470, 131479, 131502, 131518, 131611, 131612, 131645, 131679, 131692, 131703, 131718, 131719, 131720, 131724, 131736, 131753, 131758, 131769, 131797, 131799, 131815, 131852, 131879, 131969, 132000, 132013, 132017, 132058, 132059, 132080, 132107, 132108, 132144, 132149, 132156, 132164, 132202, 132273, 132276, 132287, 132323, 132328, 132333, 132428, 132429, 132505, 132549, 132560, 132644, 132650, 132691, 132712, 132755, 132802, 132808, 132862, 132867, 132877, 132926, 132954, 132955, 132989, 133010, 133014, 133021, 133028, 133029, 133080, 133108, 133113, 133114, 133123, 133170, 133180, 133214, 133282, 133289, 133305, 133318, 133360, 133418, 133440, 133444, 133451, 133489, 133514, 133545, 133613, 133627, 133631, 133657, 133660, 133684, 133686, 133725, 133733, 133742, 133776, 133777, 133809, 133820, 133830, 133876, 133952, 133953, 133973, 133982, 134042, 134064, 134091, 134102, 134113, 134125, 134128, 134139, 134150, 134187, 134194, 134200, 134207, 134214, 134241, 134256, 134266, 134325, 134348, 134363, 134374, 134381, 134393, 134417, 134442, 134443, 134486, 134543, 134563, 134584, 134655, 134676, 134677, 134688, 134692, 134693, 134724, 134763, 134775, 134780, 134794, 134800, 134891, 134929, 134931, 134948, 134962, 134965, 134983, 135024, 135032, 135041, 135062, 135066, 135072, 135092, 135094, 135102, 135115, 135121, 135135, 135156, 135203, 135209, 135222, 135243, 135266, 135284, 135334, 135341, 135379, 135504, 135517, 135566, 135579, 135580, 135611, 135629, 135632, 135633, 135642, 135647, 135651, 135674, 135700, 135702, 135709, 135726, 135732, 135771, 135807, 135815, 135834, 135844, 135857, 135885, 135933, 135943, 135968, 135977, 135989, 136006, 136009, 136018, 136084, 136105, 136115, 136130, 136163, 136170, 136174, 136183, 136214, 136282, 136337, 136350, 136355, 136360, 136382, 136404, 136410, 136459, 136476, 136524, 136533, 136535, 136560, 136561, 136593, 136622, 136662, 136676, 136706, 136736, 136739, 136755, 136756, 136778, 136811, 136829, 136862, 136878, 136895, 136902, 136908, 136913, 136921, 136943, 136994, 137001, 137011, 137039, 137057, 137072, 137092, 137094, 137134, 137151, 137161, 137169, 137216, 137252, 137253, 137362, 137365, 137369, 137378, 137395, 137424, 137435, 137479, 137494, 137497, 137510, 137533, 137535, 137574, 137575, 137580, 137584, 137608, 137617, 137626, 137654, 137691, 137695, 137743, 137776, 137797, 137811, 137840, 137850, 137857, 137862, 137909, 137911, 137923, 137930, 137964, 138007, 138011, 138016, 138047, 138060, 138061, 138107, 138122, 138142, 138161, 138165, 138219, 138238, 138316, 138333, 138351, 138352, 138356, 138417, 138422, 138428, 138461, 138465, 138471, 138472, 138487, 138488, 138532, 138559, 138594, 138626, 138642, 138647, 138662, 138685, 138709, 138717, 138734, 138821, 138855, 138936, 138969, 138973, 138990, 139039, 139058, 139059, 139067, 139071, 139102, 139155, 139181, 139258, 139303, 139319, 139351, 139376, 139378, 139388, 139424, 139435, 139447, 139516, 139529, 139552, 139562, 139564, 139570, 139630, 139710, 139712, 139714, 139724, 139771, 139813, 139823, 139889, 139897, 139916, 139925, 139931, 139943, 139994, 140002, 140137, 140139, 140144, 140150, 140173, 140231, 140296, 140318, 140359, 140375, 140394, 140399, 140402, 140409, 140418, 140441, 140548, 140598, 140623, 140704, 140738, 140751, 140754, 140760, 140779, 140783, 140799, 140837, 140870, 140938, 141044, 141057, 141112, 141121, 141125, 141136, 141186, 141202, 141218, 141246, 141254, 141270, 141272, 141289, 141325, 141334, 141344, 141386, 141390, 141408, 141421, 141453, 141454, 141484, 141485, 141514, 141540, 141548, 141570, 141601, 141628, 141667, 141716, 141720, 141732, 141738, 141743, 141755, 141802, 141826, 141829, 141842, 141862, 141878, 141890, 141992, 141998, 142034, 142053, 142065, 142085, 142103, 142119, 142126, 142151, 142158, 142161, 142180, 142204, 142216, 142220, 142224, 142250, 142256, 142264, 142420, 142421, 142435, 142468, 142481, 142493, 142534, 142553, 142558, 142577, 142584, 142594, 142607, 142639, 142641, 142648, 142659, 142665, 142690, 142696, 142719, 142743, 142750, 142823, 142862, 142905, 142909, 142917, 142930, 143055, 143058, 143062, 143097, 143119, 143136, 143236, 143258, 143275, 143303, 143350, 143385, 143419, 143434, 143438, 143487, 143559, 143613, 143745, 143758, 143764, 143772, 143799, 143884, 143885, 143927, 143952, 143964, 144012, 144016, 144038, 144060, 144125, 144159, 144173, 144192, 144289, 144328, 144364, 144368, 144395, 144406, 144499, 144509, 144517, 144572, 144586, 144624, 144657, 144763, 144799, 144873, 144904, 145133, 145140, 145142, 145147, 145225, 145229, 145250, 145289, 145316, 145387, 145391, 145423, 145440, 145445, 145464, 145471, 145530, 145567, 145584, 145636, 145688, 145742, 145784, 145858, 145861, 145910, 145918, 145958, 145961, 145975, 145978, 146016, 146033, 146102, 146106, 146108, 146199, 146222, 146238, 146253, 146278, 146304, 146335, 146372, 146397, 146419, 146423, 146442, 146534, 146559, 146599, 146684, 146694, 146696, 146702, 146706, 146742, 146748, 146796, 146883, 146908, 146922, 146927, 146946, 146947, 146950, 146952, 146966, 146969, 147026, 147070, 147102, 147107, 147144, 147156, 147168, 147182, 147212, 147223, 147338, 147359, 147372, 147413, 147425, 147438, 147457, 147465, 147466, 147552, 147554, 147574, 147585, 147607, 147630, 147715, 147748, 147771, 147834, 147892, 147937, 147959, 147980, 148012, 148056, 148129, 148139, 148192, 148209, 148227, 148251, 148285, 148304, 148311, 148365, 148391, 148402, 148424, 148450, 148460, 148468, 148476, 148477, 148490, 148506, 148510, 148553, 148574, 148614, 148618, 148625, 148651, 148701, 148711, 148714, 148764, 148842, 148873, 148886, 148889, 148892, 148904, 148908, 149049, 149051, 149117, 149152, 149191, 149294, 149402, 149419, 149428, 149444, 149445, 149519, 149520, 149573, 149576, 149632, 149635, 149703, 149726, 149734, 149835, 149847, 149849, 149910, 149971, 149996, 150026, 150068, 150147, 150160, 150185, 150250, 150260, 150288, 150292, 150314, 150351, 150362, 150383, 150386, 150398, 150414, 150447, 150459, 150517, 150583, 150586, 150608, 150627, 150635, 150681, 150691, 150712, 150720, 150767, 150828, 150830, 150854, 150889, 150893, 150906, 150931, 150945, 150990, 151003, 151094, 151110, 151148, 151258, 151267, 151270, 151287, 151302, 151352, 151367, 151389, 151410, 151455, 151509, 151515, 151577, 151579, 151623, 151631, 151664, 151681, 151690, 151698, 151705, 151712, 151774, 151798, 151818, 151835, 151850, 151876, 151931, 151956, 152011, 152014, 152027, 152033, 152046, 152071, 152109, 152132, 152141, 152147, 152174, 152223, 152271, 152274, 152333, 152386, 152395, 152451, 152515, 152632, 152637, 152691, 152712, 152800, 152821, 152888, 152890, 152899, 152919, 152938, 153001, 153022, 153092, 153107, 153195, 153211, 153224, 153245, 153255, 153270, 153293, 153302, 153422, 153559, 153604, 153656, 153674, 153741, 153816, 153830, 153837, 153868, 153871, 153891, 153945, 153958, 154003, 154005, 154100, 154161, 154164, 154194, 154196, 154197, 154198, 154201, 154216, 154276, 154305, 154318, 154345, 154370, 154439, 154497, 154509, 154527, 154578, 154639, 154640, 154705, 154731, 154758, 154809, 154811, 154924, 154935, 154948, 154950, 154959, 155005, 155012, 155054, 155072, 155124, 155137, 155158, 155163, 155179, 155231, 155305, 155347, 155358, 155388, 155394, 155420, 155437, 155439, 155441, 155444, 155470, 155490, 155536, 155560, 155574, 155587, 155603, 155628, 155633, 155721, 155782, 155799, 155828, 155833, 155844, 155881, 155885, 156015, 156026, 156042, 156075, 156103, 156122, 156123, 156124, 156128, 156183, 156206, 156222, 156224, 156263, 156311, 156335, 156353, 156452, 156540, 156584, 156604, 156702, 156712, 156729, 156912, 156928, 156940, 156946, 156955, 156969, 156970, 157076, 157081, 157116, 157188, 157202, 157212, 157229, 157272, 157274, 157296, 157358, 157395, 157412, 157454, 157461, 157494, 157497, 157516, 157544, 157557, 157662, 157671, 157711, 157725, 157733, 157754, 157782, 157786, 157807, 157815, 157859, 157861, 157865, 157912, 157967, 158039, 158057, 158080, 158088, 158113, 158120, 158131, 158132, 158172, 158193, 158226, 158232, 158244, 158247, 158302, 158331, 158341, 158365, 158373, 158383, 158392, 158407, 158421, 158431, 158504, 158526, 158563, 158625, 158650, 158731, 158788, 158800, 158806, 158840, 158893, 158897, 158914, 158938, 158942, 158977, 159058, 159116, 159123, 159190, 159196, 159208, 159211, 159214, 159223, 159271, 159292, 159318, 159360, 159380, 159428, 159495, 159531, 159561, 159597, 159602, 159639, 159682, 159739, 159742, 159771, 159773, 159797, 159801, 159930, 159945, 160031, 160037, 160046, 160066, 160075, 160093, 160125, 160175, 160208, 160209, 160211, 160230, 160303, 160325, 160335, 160367, 160379, 160412, 160438, 160441, 160442, 160489, 160493, 160499, 160533, 160586, 160598, 160610, 160636, 160637, 160677, 160732, 160808, 160846, 160886, 160945, 161004, 161043, 161097, 161130, 161136, 161189, 161238, 161257, 161278, 161282, 161289, 161292, 161333, 161356, 161409, 161429, 161467, 161531, 161544, 161564, 161565, 161635, 161703, 161711, 161729, 161777, 161800, 161806, 161877, 161882, 161893, 161937, 161950, 161974, 162057, 162166, 162255, 162281, 162303, 162329, 162330, 162331, 162339, 162352, 162365, 162388, 162397, 162405, 162441, 162463, 162663, 162696, 162713, 162743, 162755, 162769, 162773, 162791, 162792, 162840, 162874, 162926, 162957, 162968, 162996, 163028, 163045, 163059, 163078, 163097, 163107, 163112, 163114, 163133, 163201, 163255, 163281, 163284, 163298, 163319, 163359, 163370, 163390, 163424, 163442, 163534, 163563, 163587, 163604, 163613, 163663, 163669, 163675, 163780, 163833, 163850, 163871, 163899, 163925, 164014, 164037, 164139, 164205, 164236, 164283, 164330, 164356, 164382, 164448, 164514, 164522, 164534, 164555, 164560, 164573, 164594, 164610, 164626, 164772, 164791, 164861, 164900, 164925, 164955, 164970, 164984, 165033, 165072, 165078, 165081, 165091, 165188, 165189, 165218, 165273, 165281, 165294, 165303, 165312, 165366, 165372, 165388, 165415, 165446, 165471, 165499, 165503, 165520, 165537, 165570, 165598, 165656, 165694, 165739, 165750, 165803, 165805, 165818, 165825, 165829, 165838, 165855, 165949, 165952, 166064, 166084, 166115, 166116, 166128, 166170, 166203, 166216, 166293, 166311, 166316, 166372, 166375, 166489, 166508, 166519, 166521, 166547, 166604, 166657, 166678, 166709, 166725, 166764, 166775, 166796, 166807, 166841, 166851, 166869, 166873, 166939, 166980, 166983, 167013, 167051, 167076, 167086, 167124, 167190, 167230, 167239, 167253, 167272, 167314, 167337, 167357, 167383, 167452, 167516, 167541, 167551, 167582, 167590, 167660, 167706, 167734, 167836, 167839, 167852, 167877, 167929, 167975, 168008, 168062, 168164, 168203, 168244, 168279, 168327, 168368, 168402, 168436, 168454, 168612, 168665, 168676, 168678, 168718, 168762, 168767, 168800, 168801, 168831, 168834, 168882, 168936, 169034, 169183, 169210, 169218, 169222, 169258, 169310, 169353, 169354, 169380, 169388, 169401, 169424, 169429, 169448, 169539, 169583, 169612, 169619, 169622, 169626, 169650, 169718, 169791, 169797, 169805, 169971, 169990, 170054, 170071, 170086, 170092, 170188, 170243, 170246, 170248, 170285, 170304, 170313, 170352, 170396, 170425, 170478, 170481, 170487, 170489, 170534, 170574, 170586, 170606, 170621, 170634, 170668, 170699, 170730, 170762, 170766, 170771, 170784, 170808, 170818, 170823, 170845, 170856, 170872, 170885, 170892, 170896, 170900, 170918, 170949, 171013, 171054, 171057, 171069, 171144, 171148, 171171, 171243, 171269, 171280, 171284, 171286, 171296, 171325, 171335, 171338, 171353, 171389, 171391, 171431, 171457, 171467, 171505, 171508, 171524, 171544, 171644, 171707, 171714, 171726, 171877, 171923, 171937, 171939, 172029, 172064, 172077, 172102, 172111, 172112, 172177, 172229, 172258, 172268, 172296, 172343, 172349, 172380, 172381, 172387, 172508, 172525, 172537, 172569, 172571, 172583, 172595, 172616, 172618, 172622, 172658, 172659, 172666, 172708, 172725, 172733, 172740, 172744, 172803, 172828, 172880, 172930, 172940, 172947, 172949, 172974, 172978, 173004, 173026, 173163, 173201, 173228, 173252, 173286, 173289, 173516, 173518, 173532, 173596, 173612, 173683, 173711, 173713, 173751, 173756, 173762, 173932, 173957, 173960, 173968, 174092, 174094, 174139, 174171, 174172, 174175, 174190, 174210, 174214, 174265, 174406, 174408, 174437, 174440, 174468, 174472, 174507, 174527, 174649, 174653, 174654, 174660, 174694, 174754, 174769, 174775, 174786, 174851, 174886, 174970, 174974, 175003, 175029, 175062, 175084, 175107, 175108, 175158, 175224, 175242, 175279, 175316, 175323, 175330, 175354, 175383, 175385, 175441, 175458, 175532, 175560, 175667, 175718, 175768, 175803, 175885, 175890, 175894, 175940, 175942, 175973, 175979, 175985, 176033, 176041, 176137, 176138, 176225, 176227, 176298, 176352, 176431, 176478, 176578, 176597, 176616, 176745, 176757, 176792, 176800, 176827, 176871, 176907, 177038, 177107, 177150, 177170, 177182, 177205, 177219, 177236, 177280, 177289, 177343, 177427, 177459, 177460, 177471, 177480, 177521, 177569, 177609, 177612, 177658, 177665, 177668, 177681, 177683, 177713, 177728, 177741, 177764, 177768, 177822, 177835, 177855, 177874, 177887, 177891, 177912, 177937, 177948, 177970, 177999, 178008, 178055, 178063, 178097, 178118, 178124, 178141, 178162, 178209, 178217, 178220, 178231, 178245, 178280, 178319, 178321, 178358, 178370, 178376, 178410, 178548, 178549, 178553, 178568, 178644, 178695, 178762, 178781, 178810, 178841, 178843, 178853, 178901, 178921, 178937, 178963, 178966, 178985, 179020, 179056, 179100, 179179, 179186, 179247, 179291, 179310, 179354, 179368, 179382, 179383, 179389, 179394, 179424, 179446, 179484, 179512, 179564, 179570, 179577, 179622, 179699, 179701, 179734, 179761, 179764, 179766, 179822, 179830, 179844, 179866, 179869, 179880, 179932, 179972, 180003, 180014, 180015, 180025, 180092, 180115, 180196, 180210, 180238, 180243, 180247, 180252, 180253, 180259, 180349, 180350, 180367, 180379, 180383, 180388, 180411, 180436, 180454, 180463, 180474, 180483, 180531, 180557, 180558, 180575, 180593, 180600, 180621, 180666, 180696, 180730, 180734, 180761, 180772, 180779, 180838, 180924, 180977, 180984, 181002, 181055, 181097, 181119, 181143, 181150, 181221, 181230, 181275, 181303, 181321, 181338, 181417, 181426, 181471, 181512, 181589, 181709, 181742, 181777, 181788, 181854, 181855, 181868, 181882, 181986, 182070, 182090, 182095, 182119, 182127, 182175, 182215, 182226, 182227, 182233, 182276, 182305, 182308, 182345, 182369, 182376, 182397, 182443, 182452, 182469, 182471, 182487, 182522, 182574, 182582, 182585, 182621, 182622, 182625, 182656, 182663, 182739, 182749, 182795, 182810, 182815, 182876, 182885, 182887, 182912, 182919, 182920, 182925, 182956, 182998, 183014, 183038, 183044, 183093, 183135, 183193, 183214, 183329, 183365, 183380, 183456, 183462, 183465, 183471, 183501, 183512, 183544, 183564, 183621, 183644, 183665, 183700, 183705, 183712, 183729, 183738, 183740, 183752, 183762, 183775, 183785, 183810, 183839, 184041, 184067, 184071, 184093, 184126, 184127, 184140, 184153, 184230, 184235, 184254, 184260, 184265, 184270, 184279, 184281, 184331, 184346, 184354, 184407, 184417, 184494, 184535, 184615, 184621, 184641, 184686, 184709, 184721, 184731, 184758, 184769, 184803, 184841, 184881, 184965, 184979, 185049, 185074, 185150, 185246, 185303, 185320, 185334, 185350, 185353, 185356, 185363, 185402, 185423, 185484, 185524, 185528, 185560, 185723, 185741, 185742, 185774, 185801, 185892, 185926, 185952, 186015, 186177, 186187, 186247, 186295, 186299, 186332, 186352, 186378, 186535, 186537, 186544, 186573, 186617, 186618, 186690, 186768, 186787, 186803, 186819, 186861, 186866, 186890, 186906, 186950, 186966, 187034, 187039, 187040, 187064, 187299, 187333, 187357, 187392, 187417, 187436, 187495, 187503, 187511, 187516, 187612, 187630, 187669, 187674, 187741, 187786, 187789, 187806, 187807, 187811, 187813, 187816, 188019, 188135, 188168, 188177, 188181, 188216, 188250, 188277, 188284, 188299, 188314, 188321, 188350, 188371, 188378, 188410, 188466, 188490, 188493, 188540, 188604, 188625, 188674, 188682, 188706, 188727, 188739, 188741, 188771, 188781, 188803, 188855, 188887, 188905, 188945, 188955, 188967, 188994, 188995, 189022, 189024, 189029, 189054, 189097, 189103, 189112, 189115, 189119, 189134, 189193, 189203, 189323, 189341, 189350, 189384, 189422, 189436, 189469, 189573, 189575, 189591, 189689, 189735, 189738, 189739, 189766, 189801, 189852, 189862, 189884, 189907, 189911, 189926, 189927, 190078, 190103, 190123, 190154, 190195, 190206, 190236, 190237, 190239, 190255, 190284, 190385, 190389, 190422, 190488, 190503, 190509, 190513, 190553, 190566, 190574, 190586, 190596, 190654, 190691, 190800, 190851, 190904, 190929, 190952, 191047, 191063, 191137, 191158, 191202, 191207, 191208, 191230, 191274, 191287, 191304, 191329, 191341, 191447, 191468, 191482, 191523, 191591, 191598, 191637, 191691, 191708, 191724, 191805, 191840, 191891, 191931, 192080, 192099, 192135, 192172, 192173, 192201, 192215, 192252, 192257, 192263, 192268, 192285, 192482, 192508, 192543, 192553, 192565, 192624, 192647, 192704, 192742, 192758, 192765, 192852, 192864, 192880, 192906, 192923, 192932, 192963, 192975, 193034, 193065, 193118, 193128, 193135, 193195, 193258, 193290, 193315, 193375, 193436, 193541, 193638, 193643, 193658, 193667, 193718, 193725, 193801, 193804, 193808, 193853, 193870, 193879, 193882, 193909, 193993, 194111, 194113, 194118, 194224, 194227, 194301, 194307, 194375, 194379, 194402, 194423, 194512, 194531, 194536, 194539, 194599, 194602, 194616, 194623, 194626, 194650, 194826, 194836, 194868, 194884, 194893, 194991, 194992, 195131, 195200, 195212, 195273, 195346, 195358, 195385, 195425, 195468, 195482, 195514, 195640, 195665, 195673, 195724, 195746, 195755, 195849, 195852, 195881, 195894, 195908, 195912, 195930, 195990, 195996, 196012, 196090, 196139, 196202, 196204, 196205, 196240, 196297, 196298, 196332, 196335, 196342, 196346, 196368, 196408, 196525, 196555, 196565, 196597, 196686, 196736, 196741, 196782, 196809, 196818, 196825, 196860, 196900, 196930, 196965, 196997, 197020, 197045, 197053, 197062, 197102, 197114, 197118, 197146, 197174, 197202, 197226, 197291, 197306, 197414, 197476, 197572, 197624, 197647, 197658, 197662, 197725, 197790, 197805, 197852, 197867, 197873, 197880, 197905, 197950, 197964, 197982, 197986, 197989, 197991, 198007, 198017, 198043, 198051, 198108, 198109, 198120, 198139, 198279, 198288, 198305, 198312, 198393, 198398, 198405, 198419, 198431, 198462, 198464, 198467, 198550, 198562, 198586, 198599, 198606, 198614, 198663, 198719, 198775, 198799, 198806, 198809, 198849, 198876, 198884, 198902, 198944, 198960, 198981, 199013, 199026, 199041, 199050, 199073, 199077, 199078, 199082, 199083, 199093, 199120, 199173, 199201, 199209, 199296, 199311, 199329, 199343, 199412, 199434, 199448, 199464, 199471, 199488, 199489, 199510, 199518, 199536, 199564, 199581, 199599, 199619, 199645, 199663, 199668, 199715, 199737, 199752, 199773, 199802, 199832, 199904, 199985, 199989, 200015, 200027, 200067, 200079, 200101, 200112, 200126, 200200, 200206, 200315, 200379, 200385, 200452, 200463, 200493, 200499, 200506, 200521, 200533, 200547, 200551, 200560, 200592, 200600, 200660, 200769, 200794, 200799, 200815, 200998, 201025, 201057, 201064, 201095, 201111, 201180, 201181, 201197, 201205, 201259, 201291, 201296, 201311, 201347, 201348, 201366, 201368, 201455, 201484, 201552, 201557, 201585, 201609, 201632, 201646, 201654, 201655, 201710, 201832, 201855, 201937, 201938, 201967, 201968, 201974, 202001, 202003, 202031, 202052, 202061, 202239, 202260, 202293, 202360, 202400, 202440, 202448, 202454, 202477, 202483, 202515, 202584, 202595, 202599, 202688, 202714, 202715, 202720, 202752, 202758, 202770, 202842, 202855, 202931, 202946, 202966, 202969, 203010, 203027, 203054, 203075, 203113, 203144, 203209, 203246, 203256, 203258, 203274, 203285, 203339, 203411, 203473, 203552, 203583, 203637, 203644, 203649, 203678, 203684, 203767, 203790, 203806, 203816, 203832, 203889, 203909, 203925, 203937, 204006, 204020, 204037, 204050, 204107, 204138, 204141, 204154, 204162, 204173, 204268, 204276, 204281, 204317, 204341, 204370, 204378, 204399, 204440, 204484, 204512, 204571, 204621, 204656, 204657, 204749, 204845, 204856, 204886, 204896, 204904, 204906, 204964, 204971, 204975, 204978, 204986, 205053, 205097, 205134, 205167, 205191, 205219, 205238, 205267, 205409, 205428, 205431, 205469, 205481, 205584, 205596, 205607, 205611, 205629, 205646, 205737, 205764, 205777, 205780, 205781, 205807, 205817, 205866, 205881, 205920, 205938, 205942, 205956, 206074, 206082, 206125, 206180, 206186, 206216, 206288, 206302, 206326, 206411, 206431, 206461, 206462, 206471, 206503, 206525, 206552, 206581, 206596, 206689, 206692, 206746, 206750, 206773, 206816, 206826, 206861, 206872, 206888, 206950, 206974, 206978, 206984, 207014, 207057, 207074, 207085, 207123, 207188, 207214, 207233, 207282, 207313, 207333, 207370, 207447, 207473, 207492, 207515, 207520, 207521, 207576, 207607, 207655, 207688, 207713, 207720, 207737, 207794, 207834, 207848, 207910, 207916, 207921, 207930, 207969, 208003, 208040, 208058, 208112, 208124, 208137, 208150, 208168, 208193, 208220, 208230, 208273, 208279, 208280, 208295, 208323, 208333, 208339, 208342, 208346, 208370, 208372, 208385, 208393, 208400, 208406, 208581, 208658, 208721, 208730, 208755, 208772, 208835, 208861, 208878, 208892, 208921, 208925, 208948, 209013, 209065, 209076, 209098, 209139, 209164, 209203, 209210, 209309, 209379, 209445, 209459, 209556, 209564, 209607, 209612, 209663, 209664, 209679, 209706, 209765, 209778, 209846, 209849, 209855, 209861, 209931, 209951, 210047, 210091, 210173, 210226, 210289, 210319, 210331, 210358, 210366, 210383, 210424, 210501, 210509, 210510, 210633, 210650, 210865, 210891, 210925, 210946, 210999, 211048, 211094, 211123, 211158, 211172, 211223, 211231, 211263, 211274, 211303, 211324, 211332, 211400, 211436, 211498, 211533, 211555, 211570, 211624, 211775, 211806, 211876, 211896, 211981, 212019, 212065, 212068, 212136, 212148, 212161, 212167, 212194, 212196, 212199, 212213, 212278, 212305, 212310, 212315, 212322, 212407, 212436, 212437, 212439, 212455, 212461, 212486, 212494, 212566, 212597, 212649, 212686, 212703, 212727, 212852, 212853, 212877, 212899, 212909, 212922, 212926, 212929, 212935, 212999, 213013, 213021, 213028, 213042, 213184, 213215, 213233, 213278, 213323, 213333, 213337, 213347, 213352, 213382, 213385, 213400, 213413, 213448, 213469, 213516, 213596, 213598, 213602, 213634, 213638, 213754, 213796, 213829, 213891, 213896, 213911, 213941, 213955, 213958, 213977, 213978, 214009, 214023, 214038, 214061, 214065, 214076, 214099, 214119, 214132, 214211, 214325, 214336, 214337, 214340, 214367, 214381, 214390, 214496, 214499, 214500, 214571, 214591, 214627, 214639, 214654, 214668, 214813, 214822, 214844, 214863, 214866, 214872, 214898, 214908, 214914, 214930, 214941, 214995, 214999, 215090, 215153, 215196, 215243, 215245, 215319, 215342, 215343, 215369, 215373, 215377, 215392, 215393, 215426, 215543, 215572, 215575, 215583, 215592, 215625, 215658, 215690, 215691, 215701, 215721, 215731, 215740, 215750, 215758, 215853, 215857, 215869, 215923, 215934, 215946, 215965, 216072, 216075, 216090, 216097, 216150, 216197, 216198, 216203, 216226, 216236, 216239, 216306, 216308, 216350, 216360, 216385, 216390, 216401, 216439, 216458, 216460, 216486, 216490, 216510, 216530, 216543, 216570, 216576, 216578, 216579, 216615, 216667, 216674, 216675, 216685, 216698, 216714, 216722, 216724, 216730, 216739, 216762, 216788, 216790, 216815, 216826, 216836, 216844, 216853, 216903, 217018, 217024, 217028, 217153, 217168, 217174, 217253, 217258, 217322, 217409, 217424, 217446, 217526, 217537, 217545, 217570, 217586, 217608, 217624, 217658, 217673, 217682, 217806, 217830, 217921, 218001, 218019, 218154, 218168, 218174, 218190, 218198, 218203, 218250, 218284, 218303, 218366, 218440, 218460, 218478, 218494, 218519, 218533, 218546, 218561, 218581, 218601, 218614, 218617, 218620, 218646, 218700, 218717, 218763, 218776, 218778, 218793, 218878, 218898, 218929, 218938, 219034, 219037, 219048, 219070, 219128, 219142, 219155, 219216, 219217, 219224, 219233, 219244, 219251, 219256, 219267, 219311, 219350, 219406, 219432, 219447, 219481, 219496, 219536, 219547, 219621, 219667, 219700, 219739, 219767, 219827, 219838, 219874, 219884, 219887, 219933, 219984, 220073, 220087, 220100, 220138, 220153, 220240, 220243, 220263, 220264, 220299, 220316, 220321, 220375, 220401, 220407, 220421, 220441, 220460, 220604, 220679, 220750, 220769, 220778, 220808, 220833, 220836, 220854, 220873, 220875, 220989, 220991, 221053, 221058, 221076, 221116, 221127, 221152, 221158, 221166, 221167, 221187, 221218, 221248, 221279, 221287, 221304, 221309, 221313, 221316, 221344, 221407, 221471, 221539, 221609, 221660, 221747, 221784, 221797, 221813, 221863, 221877, 221880, 221955, 221956, 221969, 221992, 222008, 222122, 222177, 222219, 222298, 222311, 222349, 222423, 222483, 222498, 222558, 222664, 222722, 222739, 222794, 222806, 222817, 222820, 222832, 222864, 222946, 222974, 222991, 223013, 223028, 223036, 223050, 223059, 223088, 223112, 223159, 223161, 223162, 223179, 223203, 223236, 223263, 223345, 223432, 223484, 223513, 223596, 223597, 223606, 223625, 223643, 223655, 223658, 223666, 223677, 223685, 223727, 223803, 223848, 223862, 223917, 223924, 223940, 223957, 223987, 223995, 223998, 224065, 224082, 224105, 224186, 224199, 224215, 224239, 224266, 224267, 224281, 224319, 224359, 224395, 224397, 224412, 224414, 224429, 224495, 224496, 224503, 224550, 224579, 224605, 224617, 224631, 224656, 224661, 224666, 224669, 224685, 224740, 224881, 224908, 224992, 225028, 225080, 225209, 225270, 225276, 225286, 225287, 225290, 225300, 225403, 225413, 225441, 225524, 225572, 225578, 225624, 225687, 225700, 225709, 225829, 225906, 226017, 226052, 226057, 226172, 226181, 226222, 226274, 226299, 226352, 226428, 226532, 226580, 226585, 226618, 226645, 226658, 226696, 226698, 226717, 226750, 226821, 226822, 226836, 226868, 226885, 226925, 226949, 226960, 226975, 227000, 227020, 227028, 227118, 227180, 227266, 227277, 227326, 227384, 227406, 227413, 227455, 227461, 227484, 227513, 227531, 227550, 227580, 227589, 227592, 227629, 227704, 227722, 227725, 227732, 227760, 227766, 227829, 227849, 227860, 227864, 227943, 227998, 228014, 228028, 228053, 228114, 228174, 228219, 228247, 228250, 228259, 228270, 228387, 228395, 228403, 228425, 228426, 228468, 228472, 228485, 228565, 228597, 228621, 228656, 228667, 228700, 228724, 228725, 228733, 228737, 228783, 228807, 228817, 228865, 228891, 228970, 228972, 229015, 229022, 229070, 229096, 229139, 229163, 229191, 229224, 229230, 229253, 229297, 229318, 229324, 229330, 229333, 229338, 229357, 229379, 229387, 229399, 229402, 229481, 229488, 229499, 229522, 229587, 229601, 229606, 229642, 229680, 229743, 229780, 229805, 229842, 229854, 229908, 229919, 229936, 229978, 230030, 230047, 230093, 230096, 230103, 230105, 230156, 230160, 230171, 230206, 230208, 230229, 230261, 230322, 230389, 230420, 230457, 230465, 230532, 230537, 230541, 230579, 230589, 230591, 230633, 230690, 230696, 230767, 230802, 230808, 230881, 230913, 230918, 230925, 230950, 230959, 230994, 231082, 231086, 231092, 231104, 231196, 231209, 231218, 231221, 231240, 231265, 231296, 231324, 231345, 231353, 231387, 231395, 231397, 231409, 231431, 231462, 231501, 231544, 231556, 231559, 231563, 231634, 231646, 231647, 231676, 231693, 231698, 231721, 231773, 231806, 231829, 231830, 231860, 231965, 231966, 231985, 231987, 231999, 232008, 232017, 232025, 232052, 232070, 232077, 232147, 232251, 232306, 232342, 232366, 232458, 232468, 232475, 232707, 232713, 232902, 232940, 232975, 233005, 233036, 233132, 233156, 233206, 233242, 233312, 233324, 233340, 233370, 233398, 233405, 233412, 233414, 233484, 233504, 233545, 233547, 233551, 233594, 233602, 233617, 233620, 233646, 233676, 233696, 233719, 233731, 233736, 233796, 233804, 233833, 233850, 233871, 233873, 233880, 233908, 233928, 233931, 233951, 233953, 233979, 234060, 234086, 234103, 234109, 234115, 234136, 234205, 234234, 234273, 234281, 234289, 234320, 234379, 234390, 234427, 234443, 234450, 234464, 234504, 234524, 234565, 234577, 234581, 234588, 234591, 234623, 234651, 234660, 234714, 234720, 234766, 234789, 234806, 234823, 234884, 234888, 234890, 234959, 234996, 235034, 235038, 235040, 235049, 235081, 235089, 235114, 235119, 235137, 235157, 235169, 235177, 235260, 235262, 235272, 235282, 235284, 235302, 235305, 235345, 235362, 235370, 235381, 235408, 235440, 235527, 235545, 235551, 235562, 235595, 235612, 235660, 235698, 235711, 235714, 235729, 235773, 235786, 235812, 235847, 235856, 235874, 235907, 235913, 235940, 235960, 235991, 235999, 236015, 236052, 236057, 236064, 236079, 236089, 236102, 236113, 236131, 236138, 236162, 236163, 236180, 236196, 236211, 236265, 236313, 236346, 236355, 236415, 236559, 236560, 236563, 236569, 236596, 236604, 236631, 236652, 236663, 236712, 236804, 236851, 236873, 236890, 236929, 236938, 236948, 236952, 236962, 236976, 237094, 237206, 237303, 237319, 237425, 237491, 237513, 237634, 237673, 237730, 237736, 237757, 237781, 237943, 237991, 238057, 238086, 238091, 238094, 238102, 238109, 238140, 238150, 238195, 238215, 238347, 238356, 238475, 238484, 238502, 238585, 238588, 238647, 238662, 238676, 238693, 238716, 238768, 238787, 238840, 238871, 238897, 238970, 238980, 238990, 239003, 239010, 239036, 239037, 239043, 239069, 239131, 239137, 239176, 239250, 239290, 239304, 239337, 239378, 239388, 239396, 239402, 239435, 239473, 239481, 239559, 239580, 239596, 239612, 239614, 239655, 239656, 239678, 239680, 239685, 239736, 239749, 239753, 239790, 239810, 239815, 239879, 240014, 240032, 240115, 240166, 240173, 240175, 240192, 240199, 240236, 240246, 240293, 240323, 240326, 240357, 240364, 240390, 240459, 240460, 240485, 240488, 240489, 240505, 240509, 240510, 240511, 240555, 240572, 240580, 240629, 240639, 240645, 240663, 240670, 240693, 240706, 240727, 240747, 240823, 240824, 240907, 240915, 240919, 240947, 240950, 241008, 241034, 241051, 241065, 241069, 241074, 241100, 241118, 241127, 241140, 241146, 241151, 241169, 241173, 241192, 241198, 241225, 241258, 241260, 241347, 241366, 241375, 241379, 241403, 241407, 241447, 241511, 241525, 241617, 241752, 241775, 241778, 241796, 241808, 241817, 241850, 241860, 241864, 241907, 241934, 241935, 241955, 241972, 241986, 242018, 242044, 242051, 242059, 242102, 242103, 242107, 242114, 242122, 242140, 242144, 242175, 242229, 242247, 242257, 242279, 242307, 242322, 242332, 242405, 242482, 242512, 242537, 242574, 242590, 242613, 242615, 242644, 242668, 242742, 242771, 242812, 242824, 242827, 242848, 242851, 242922, 242942, 242944, 243052, 243056, 243100, 243154, 243227, 243274, 243281, 243299, 243304, 243372, 243395, 243467, 243480, 243499, 243537, 243553, 243559, 243565, 243609, 243623, 243634, 243642, 243652, 243688, 243761, 243791, 243792, 243796, 243798, 243803, 243812, 243872, 243906, 243925, 243952, 243961, 243964, 243967, 244043, 244048, 244077, 244100, 244104, 244139, 244140, 244169, 244171, 244181, 244231, 244243, 244254, 244379, 244471, 244481, 244497, 244499, 244502, 244547, 244616, 244626, 244678, 244694, 244709, 244753, 244767, 244774, 244787, 244813, 244885, 244905, 244968, 244983, 244984, 245057, 245070, 245081, 245090, 245106, 245115, 245132, 245187, 245207, 245273, 245361, 245364, 245410, 245426, 245441, 245445, 245449, 245492, 245503, 245558, 245587, 245600, 245698, 245829, 245862, 245895, 245909, 245920, 245955, 246031, 246044, 246061, 246090, 246097, 246102, 246113, 246124, 246149, 246171, 246175, 246198, 246219, 246234, 246257, 246259, 246273, 246295, 246307, 246335, 246353, 246395, 246405, 246437, 246479, 246494, 246496, 246499, 246516, 246546, 246587, 246699, 246741, 246748, 246778, 246802, 246883, 246896, 246905, 246932, 246940, 247014, 247029, 247035, 247048, 247099, 247134, 247138, 247153, 247170, 247174, 247187, 247207, 247322, 247324, 247373, 247420, 247451, 247484, 247500, 247553, 247563, 247615, 247660, 247688, 247696, 247706, 247728, 247774, 247800, 247831, 247856, 247917, 247922, 247925, 247936, 247938, 247967, 247968, 247975, 248037, 248097, 248131, 248154, 248165, 248177, 248214, 248247, 248299, 248325, 248337, 248373, 248376, 248423, 248452, 248453, 248472, 248488, 248524, 248549, 248556, 248563, 248577, 248618, 248675, 248680, 248759, 248866, 248885, 248898, 248962, 249006, 249007, 249017, 249100, 249150, 249156, 249168, 249175, 249188, 249194, 249202, 249259, 249265, 249294, 249324, 249342, 249349, 249365, 249373, 249389, 249395, 249396, 249413, 249482, 249498, 249504, 249539, 249561, 249589, 249593, 249603, 249636, 249645, 249696, 249724, 249749, 249770, 249779, 249829, 249871, 249881, 249897, 249938, 249965, 249972, 249979, 250023, 250047, 250082, 250098, 250116, 250149, 250173, 250189, 250224, 250251, 250253, 250294, 250322, 250361, 250372, 250492, 250602, 250635, 250688, 250710, 250740, 250746, 250775, 250894, 250897, 250941, 250973, 250979, 250995, 251020, 251022, 251052, 251070, 251075, 251146, 251212, 251239, 251266, 251279, 251285, 251289, 251311, 251327, 251328, 251329, 251380, 251389, 251451, 251463, 251507, 251540, 251576, 251577, 251615, 251616, 251714, 251738, 251825, 251864, 251904, 251925, 251929, 251932, 251936, 251949, 251979, 251980, 252028, 252034, 252037, 252097, 252153, 252201, 252232, 252293, 252375, 252387, 252395, 252444, 252529, 252533, 252544, 252546, 252564, 252586, 252648, 252697, 252732, 252764, 252775, 252814, 252817, 252819, 252851, 252896, 252969, 252971, 252976, 252986, 253007, 253014, 253032, 253038, 253135, 253188, 253265, 253328, 253357, 253360, 253384, 253405, 253413, 253425, 253501, 253591, 253595, 253622, 253640, 253697, 253737, 253831, 253839, 253913, 253916, 253950, 253951, 253971, 253972, 254041, 254185, 254273, 254302, 254322, 254483, 254499, 254547, 254548, 254571, 254578, 254624, 254707, 254712, 254719, 254772, 254773, 254782, 254828, 254830, 254835, 254837, 254849, 254905, 254929, 254997, 255012, 255051, 255079, 255084, 255208, 255209, 255262, 255273, 255277, 255280, 255291, 255330, 255339, 255342, 255344, 255349, 255376, 255388, 255433, 255477, 255487, 255507, 255513, 255565, 255578, 255592, 255622, 255628, 255638, 255642, 255658, 255670, 255673, 255676, 255722, 255725, 255786, 255794, 255844, 255902, 255910, 255938, 255976, 256021, 256027, 256044, 256119, 256134, 256138, 256196, 256201, 256208, 256210, 256219, 256243, 256262, 256280, 256285, 256326, 256330, 256360, 256395, 256453, 256454, 256471, 256481, 256500, 256581, 256596, 256599, 256617, 256639, 256673, 256699, 256764, 256784, 256789, 256836, 256845, 256916, 256937, 256955, 256963, 257015, 257017, 257051, 257058, 257123, 257135, 257167, 257237, 257272, 257323, 257360, 257372, 257413, 257417, 257453, 257476, 257501, 257536, 257543, 257557, 257571, 257582, 257682, 257694, 257702, 257703, 257709, 257715, 257749, 257768, 257790, 257872, 257901, 257933, 257946, 257982, 257987, 258015, 258019, 258069, 258110, 258116, 258137, 258143, 258160, 258170, 258218, 258293, 258336, 258348, 258363, 258468, 258470, 258489, 258495, 258537, 258557, 258573, 258614, 258686, 258691, 258757, 258758, 258780, 258801, 258812, 258865, 258920, 258984, 258986, 259001, 259081, 259122, 259149, 259177, 259192, 259196, 259205, 259276, 259301, 259310, 259329, 259359, 259371, 259440, 259452, 259487, 259488, 259576, 259588, 259609, 259611, 259613, 259645, 259661, 259722, 259751, 259778, 259831, 259850, 259912, 259950, 260039, 260055, 260075, 260117, 260173, 260183, 260293, 260350, 260405, 260422, 260432, 260486, 260499, 260503, 260546, 260577, 260627, 260657, 260677, 260761, 260836, 260845, 260879, 260975, 260977, 261000, 261016, 261045, 261052, 261093, 261105, 261131, 261135, 261165, 261179, 261185, 261233, 261244, 261311, 261328, 261329, 261336, 261430, 261482, 261492, 261493, 261501, 261524, 261536, 261571, 261587, 261591, 261612, 261635, 261658, 261697, 261755, 261823, 261827, 261831, 261863, 261897, 261914, 261939, 261971, 262018, 262098, 262119, 262128, 262135, 262140, 262161, 262162, 262193, 262207, 262210, 262242, 262251, 262287, 262305, 262327, 262416, 262451, 262458, 262476, 262524, 262585, 262588, 262696, 262728, 262744, 262813, 262855, 262868, 262880, 262889, 262900, 262927, 262931, 263028, 263029, 263034, 263118, 263124, 263134, 263137, 263154, 263156, 263197, 263230, 263243, 263269, 263293, 263295, 263296, 263311, 263326, 263336, 263351, 263356, 263359, 263415, 263428, 263440, 263454, 263505, 263511, 263530, 263540, 263566, 263570, 263598, 263628, 263639, 263663, 263669, 263683, 263688, 263739, 263745, 263753, 263754, 263830, 263865, 263869, 263871, 263876, 263910, 263934, 263997, 264001, 264022, 264048, 264075, 264092, 264123, 264173, 264199, 264200, 264242, 264249, 264255, 264291, 264305, 264311, 264329, 264385, 264392, 264463, 264471, 264635, 264683, 264693, 264697, 264723, 264777, 264800, 264875, 264920, 264927, 264941, 264998, 265059, 265088, 265142, 265148, 265155, 265183, 265185, 265207, 265220, 265222, 265234, 265240, 265283, 265293, 265297, 265312, 265344, 265359, 265393, 265403, 265443, 265452, 265465, 265512, 265541, 265566, 265594, 265617, 265662, 265675, 265717, 265764, 265823, 265836, 265842, 265872, 265897, 265916, 265944, 266043, 266082, 266145, 266169, 266203, 266214, 266241, 266294, 266298, 266324, 266346, 266378, 266434, 266464, 266469, 266489, 266522, 266547, 266574, 266591, 266603, 266608, 266609, 266610, 266613, 266655, 266675, 266683, 266709, 266720, 266733, 266774, 266786, 266793, 266800, 266850, 266880, 266888, 266981, 266986, 267004, 267025, 267045, 267057, 267064, 267089, 267129, 267164, 267196, 267208, 267276, 267290, 267417, 267449, 267450, 267455, 267467, 267476, 267497, 267508, 267569, 267582, 267604, 267619, 267654, 267733, 267755, 267760, 267869, 267872, 267894, 267897, 267915, 267930, 267981, 268018, 268039, 268047, 268073, 268096, 268106, 268112, 268203, 268206, 268215, 268230, 268237, 268244, 268281, 268302, 268305, 268312, 268319, 268358, 268436, 268440, 268471, 268487, 268518, 268525, 268568, 268570, 268645, 268654, 268665, 268670, 268683, 268712, 268722, 268729, 268755, 268802, 268811, 268818, 268869, 268906, 268942, 268952, 268997, 269041, 269084, 269138, 269155, 269188, 269219, 269223, 269229, 269239, 269289, 269295, 269304, 269336, 269356, 269400, 269422, 269479, 269530, 269541, 269607, 269622, 269646, 269654, 269674, 269688, 269784, 269807, 269815, 269826, 269850, 269852, 269854, 269885, 269893, 269894, 269946, 269970, 269971, 269972, 270054, 270126, 270144, 270179, 270208, 270211, 270233, 270266, 270282, 270289, 270313, 270343, 270355, 270365, 270387, 270395, 270541, 270580, 270581, 270607, 270617, 270632, 270637, 270663, 270672, 270727, 270734, 270753, 270785, 270800, 270801, 270803, 270805, 270835, 270860, 270927, 270953, 270977, 270994, 271015, 271038, 271060, 271081, 271104, 271122, 271172, 271200, 271252, 271256, 271278, 271302, 271325, 271343, 271347, 271348, 271360, 271382, 271404, 271513, 271562, 271602, 271671, 271694, 271712, 271768, 271801, 271832, 271872, 271927, 271943, 272000, 272038, 272080, 272100, 272110, 272136, 272191, 272212, 272225, 272249, 272264, 272275, 272329, 272341, 272391, 272485, 272490, 272536, 272575, 272601, 272612, 272618, 272651, 272653, 272654, 272678, 272741, 272759, 272781, 272802, 272819, 272854, 272871, 272894, 272896, 272913, 272916, 272942, 273161, 273185, 273207, 273263, 273306, 273364, 273384, 273400, 273453, 273460, 273494, 273514, 273523, 273581, 273617, 273622, 273643, 273651, 273657, 273661, 273693, 273728, 273748, 273758, 273777, 273806, 273827, 273831, 273834, 273858, 273885, 273900, 273909, 273911, 273929, 273963, 273989, 274002, 274055, 274117, 274124, 274134, 274135, 274136, 274146, 274149, 274156, 274164, 274195, 274211, 274273, 274281, 274315, 274402, 274415, 274475, 274493, 274596, 274626, 274681, 274687, 274689, 274696, 274754, 274775, 274797, 274886, 274912, 274940, 274954, 275046, 275061, 275069, 275092, 275137, 275146, 275154, 275157, 275190, 275192, 275195, 275202, 275233, 275259, 275289, 275312, 275324, 275326, 275361, 275377, 275393, 275421, 275422, 275437, 275450, 275467, 275468, 275479, 275526, 275541, 275544, 275562, 275582, 275636, 275670, 275680, 275719, 275754, 275765, 275770, 275914, 275964, 275965, 275981, 275986, 276018, 276057, 276063, 276087, 276138, 276159, 276173, 276228, 276250, 276268, 276280, 276284, 276308, 276315, 276323, 276370, 276380, 276394, 276402, 276440, 276455, 276571, 276573, 276580, 276589, 276596, 276613, 276640, 276684, 276732, 276751, 276786, 276868, 276870, 276877, 276926, 276945, 276954, 276957, 276961, 276975, 276980, 277012, 277014, 277019, 277048, 277061, 277088, 277102, 277126, 277154, 277177, 277189, 277198, 277235, 277260, 277301, 277306, 277324, 277333, 277366, 277382, 277420, 277436, 277444, 277470, 277487, 277494, 277530, 277556, 277573, 277590, 277637, 277650, 277681, 277686, 277710, 277713, 277715, 277735, 277737, 277767, 277807, 277851, 277990, 278075, 278115, 278154, 278249, 278256, 278261, 278307, 278332, 278396, 278406, 278410, 278413, 278464, 278502, 278505, 278508, 278511, 278512, 278513, 278549, 278557, 278570, 278695, 278709, 278756, 278775, 278791, 278819, 278832, 278853, 278930, 278956, 279042, 279047, 279051, 279058, 279073, 279094, 279106, 279109, 279142, 279144, 279162, 279164, 279171, 279172, 279173, 279183, 279184, 279203, 279265, 279274, 279287, 279359, 279360, 279399, 279408, 279439, 279450, 279459, 279461, 279493, 279494, 279529, 279551, 279607, 279628, 279657, 279659, 279674, 279681, 279690, 279692, 279781, 279799, 279801, 279808, 279818, 279822, 279834, 279864, 279870, 279894, 279934, 280002, 280010, 280013, 280069, 280104, 280135, 280151, 280177, 280179, 280189, 280195, 280203, 280235, 280251, 280307, 280320, 280367, 280399, 280417, 280442, 280468, 280479, 280490, 280500, 280517, 280531, 280537, 280538, 280577, 280596, 280601, 280604, 280615, 280681, 280684, 280691, 280706, 280740, 280799, 280810, 280825, 280836, 280883, 280909, 280925, 280949, 280963, 280968, 280974, 280975, 280996, 280999, 281064, 281080, 281106, 281112, 281122, 281142, 281147, 281216, 281233, 281243, 281261, 281264, 281401, 281402, 281425, 281441, 281443, 281446, 281449, 281466, 281481, 281516, 281535, 281542, 281564, 281566, 281598, 281732, 281742, 281767, 281781, 281785, 281788, 281803, 281812, 281823, 281856, 281860, 281877, 281937, 281971, 282032, 282041, 282068, 282079, 282102, 282106, 282111, 282117, 282122, 282140, 282226, 282287, 282288, 282312, 282438, 282465, 282469, 282491, 282557, 282599, 282605, 282640, 282652, 282655, 282674, 282692, 282722, 282745, 282774, 282860, 282900, 282903, 282905, 282916, 282965, 283004, 283069, 283122, 283142, 283143, 283155, 283156, 283162, 283202, 283267, 283309, 283323, 283332, 283469, 283515, 283528, 283531, 283552, 283568, 283583, 283595, 283613, 283639, 283666, 283682, 283703, 283749, 283803, 283826, 283856, 283869, 283884, 283928, 283946, 283954, 283955, 284021, 284099, 284136, 284141, 284157, 284188, 284222, 284230, 284254, 284269, 284283, 284333, 284344, 284353, 284385, 284391, 284412, 284437, 284449, 284458, 284467, 284518, 284545, 284546, 284552, 284555, 284568, 284577, 284624, 284637, 284658, 284680, 284685, 284735, 284759, 284803, 284818, 284832, 284931, 284955, 284991, 285021, 285027, 285081, 285123, 285143, 285157, 285181, 285225, 285230, 285237, 285299, 285313, 285329, 285351, 285369, 285447, 285455, 285463, 285477, 285479, 285484, 285503, 285533, 285539, 285553, 285584, 285609, 285656, 285664, 285683, 285719, 285728, 285736, 285747, 285755, 285782, 285863, 285928, 285929, 285949, 286014, 286030, 286031, 286035, 286101, 286117, 286139, 286177, 286202, 286228, 286251, 286274, 286283, 286290, 286336, 286372, 286417, 286423, 286451, 286493, 286604, 286630, 286674, 286681, 286704, 286710, 286720, 286747, 286774, 286798, 286809, 286831, 286848, 286878, 286894, 286977, 286984, 287027, 287070, 287078, 287115, 287133, 287137, 287221, 287307, 287373, 287381, 287394, 287398, 287411, 287448, 287466, 287469, 287479, 287530, 287559, 287587, 287629, 287663, 287669, 287719, 287741, 287786, 287802, 287842, 287902, 287915, 287953, 287955, 287982, 288007, 288076, 288125, 288127, 288136, 288183, 288281, 288386, 288402, 288429, 288478, 288491, 288502, 288562, 288629, 288650, 288718, 288788, 288832, 288880, 288932, 288983, 288999, 289006, 289034, 289089, 289135, 289141, 289182, 289253, 289262, 289276, 289278, 289303, 289352, 289357, 289385, 289414, 289438, 289447, 289450, 289480, 289489, 289519, 289572, 289579, 289593, 289604, 289640, 289651, 289675, 289700, 289727, 289773, 289818, 289826, 289851, 289859, 289863, 289922, 289927, 289994, 290024, 290066, 290122, 290203, 290210, 290244, 290312, 290350, 290411, 290414, 290450, 290491, 290509, 290523, 290547, 290567, 290592, 290599, 290609, 290619, 290620, 290702, 290705, 290721, 290763, 290783, 290800, 290812, 290863, 290877, 290901, 290905, 290923, 290925, 290947, 290957, 290991, 290997, 291028, 291063, 291066, 291091, 291099, 291110, 291193, 291194, 291195, 291202, 291255, 291267, 291297, 291315, 291372, 291390, 291413, 291452, 291461, 291489, 291490, 291516, 291519, 291553, 291573, 291582, 291613, 291622, 291631, 291719, 291739, 291768, 291819, 291848, 291885, 291900, 291917, 291928, 291941, 291999, 292008, 292042, 292048, 292056, 292086, 292087, 292093, 292097, 292156, 292183, 292207, 292282, 292290, 292294, 292347, 292364, 292379, 292407, 292412, 292446, 292480, 292496, 292522, 292558, 292573, 292592, 292600, 292616, 292619, 292623, 292629, 292696, 292697, 292719, 292782, 292794, 292805, 292836, 292838, 292845, 292876, 292888, 292895, 292907, 292928, 292935, 292942, 292952, 292963, 292970, 293004, 293040, 293045, 293164, 293199, 293209, 293228, 293231, 293247, 293271, 293298, 293409, 293422, 293442, 293461, 293506, 293510, 293556, 293581, 293592, 293595, 293646, 293698, 293779, 293788, 293794, 293838, 293839, 293851, 293894, 293917, 293934, 293955, 294010, 294032, 294060, 294086, 294094, 294185, 294230, 294232, 294276, 294284, 294315, 294349, 294422, 294469, 294475, 294500, 294522, 294549, 294627, 294652, 294696, 294701, 294724, 294738, 294739, 294773, 294795, 294796, 294803, 294858, 294879, 294966, 295010, 295030, 295130, 295151, 295158, 295222, 295236, 295327, 295357, 295375, 295377, 295421, 295453, 295469, 295540, 295562, 295575, 295585, 295665, 295702, 295752, 295842, 295856, 295911, 295951, 295985, 296049, 296088, 296112, 296136, 296138, 296150, 296153, 296166, 296170, 296237, 296275, 296285, 296305, 296421, 296430, 296431, 296457, 296467, 296470, 296478, 296480, 296510, 296568, 296597, 296630, 296643, 296678, 296686, 296709, 296711, 296774, 296811, 296834, 296871, 296922, 296947, 296963, 296980, 296990, 297013, 297042, 297046, 297049, 297095, 297104, 297225, 297252, 297256, 297297, 297323, 297328, 297364, 297366, 297386, 297405, 297466, 297502, 297529, 297564, 297611, 297631, 297701, 297719, 297778, 297836, 297867, 297955, 297998, 298040, 298058, 298081, 298094, 298110, 298129, 298142, 298179, 298180, 298245, 298246, 298252, 298267, 298269, 298273, 298373, 298378, 298409, 298438, 298449, 298481, 298517, 298520, 298554, 298602, 298606, 298640, 298649, 298671, 298717, 298729, 298785, 298818, 298841, 298943, 298945, 298946, 298987, 299019, 299026, 299037, 299100, 299102, 299111, 299123, 299141, 299174, 299175, 299181, 299193, 299288, 299293, 299298, 299303, 299340, 299370, 299399, 299425, 299431, 299436, 299444, 299449, 299455, 299460, 299476, 299478, 299508, 299514, 299533, 299562, 299569, 299576, 299586, 299591, 299632, 299653, 299696, 299698, 299758, 299821, 299822, 299828, 299913, 299932, 299938, 299941, 299968, 299987, 300007, 300026, 300049, 300084, 300085, 300086, 300087, 300114, 300199, 300250, 300261, 300271, 300294, 300326, 300338, 300343, 300348, 300350, 300352, 300355, 300379, 300396, 300435, 300442, 300487, 300524, 300534, 300536, 300542, 300559, 300580, 300592, 300640, 300690, 300768, 300786, 300794, 300819, 300824, 300834, 300853, 300908, 300914, 301018, 301031, 301034, 301105, 301114, 301145, 301158, 301163, 301188, 301200, 301216, 301258, 301339, 301355, 301357, 301409, 301423, 301431, 301482, 301615, 301638, 301651, 301654, 301662, 301679, 301703, 301704, 301705, 301714, 301722, 301724, 301768, 301795, 301820, 301823, 301835, 301861, 301922, 301937, 301946, 301954, 301965, 302014, 302018, 302024, 302079, 302106, 302132, 302197, 302208, 302244, 302252, 302253, 302254, 302276, 302280, 302322, 302365, 302370, 302434, 302493, 302509, 302515, 302608, 302609, 302610, 302632, 302666, 302696, 302718, 302741, 302782, 302825, 302888, 302931, 302953, 302967, 303014, 303029, 303059, 303150, 303152, 303212, 303304, 303307, 303320, 303377, 303380, 303389, 303428, 303477, 303500, 303512, 303530, 303531, 303586, 303647, 303709, 303760, 303788, 303789, 303817, 303896, 303923, 303970, 304009, 304013, 304045, 304051, 304087, 304163, 304175, 304199, 304341, 304373, 304392, 304488, 304492, 304498, 304528, 304555, 304584, 304606, 304614, 304666, 304681, 304691, 304708, 304871, 304919, 304923, 304961, 304965, 305003, 305008, 305047, 305084, 305092, 305117, 305142, 305143, 305196, 305255, 305380, 305401, 305458, 305471, 305484, 305509, 305523, 305564, 305624, 305686, 305719, 305724, 305754, 305790, 305800, 305804, 305814, 305889, 305926, 305964, 306051, 306064, 306089, 306110, 306226, 306233, 306243, 306252, 306317, 306330, 306331, 306337, 306352, 306387, 306392, 306436, 306460, 306470, 306522, 306583, 306592, 306613, 306674, 306677, 306686, 306690, 306713, 306728, 306788, 306799, 306803, 306854, 306907, 306910, 306961, 306998, 307059, 307095, 307123, 307125, 307174, 307179, 307294, 307303, 307331, 307438, 307468, 307472, 307480, 307548, 307559, 307571, 307650, 307690, 307716, 307790, 307840, 307876, 307928, 307966, 307990, 307993, 308006, 308015, 308031, 308041, 308065, 308073, 308082, 308096, 308102, 308106, 308124, 308141, 308142, 308158, 308164, 308187, 308201, 308210, 308225, 308236, 308277, 308289, 308306, 308343, 308380, 308401, 308410, 308411, 308453, 308467, 308471, 308473, 308482, 308495, 308627, 308635, 308652, 308656, 308684, 308727, 308742, 308743, 308744, 308837, 308865, 308884, 308905, 308926, 308940, 308946, 309005, 309017, 309018, 309061, 309072, 309099, 309119, 309128, 309134, 309147, 309190, 309224, 309251, 309277, 309288, 309295, 309304, 309305, 309314, 309318, 309348, 309361, 309363, 309418, 309426, 309439, 309453, 309462, 309473, 309486, 309494, 309547, 309554, 309570, 309582, 309620, 309623, 309624, 309633, 309684, 309726, 309766, 309777, 309779, 309822, 309875, 309920, 309974, 309979, 309990, 310020, 310037, 310088, 310098, 310114, 310121, 310136, 310143, 310149, 310150, 310173, 310218, 310260, 310276, 310279, 310282, 310308, 310335, 310350, 310386, 310397, 310425, 310481, 310597, 310601, 310672, 310724, 310731, 310738, 310746, 310801, 310841, 310850, 310879, 310882, 310889, 310915, 310937, 310962, 310979, 310981, 311035, 311113, 311120, 311142, 311159, 311190, 311228, 311237, 311254, 311259, 311285, 311304, 311314, 311317, 311324, 311337, 311349, 311355, 311425, 311456, 311462, 311655, 311721, 311730, 311750, 311845, 311863, 311909, 311965, 311981, 312027, 312043, 312051, 312056, 312093, 312118, 312146, 312161, 312180, 312193, 312255, 312266, 312278, 312286, 312363, 312377, 312394, 312408, 312446, 312456, 312494, 312510, 312538, 312556, 312570, 312592, 312697, 312713, 312745, 312764, 312778, 312853, 312867, 312904, 312927, 312928, 312936, 312957, 312971, 312986, 313019, 313083, 313096, 313119, 313153, 313189, 313263, 313265, 313297, 313392, 313454, 313468, 313516, 313525, 313566, 313582, 313591, 313626, 313690, 313700, 313773, 313783, 313815, 313858, 313908, 313919, 313925, 314004, 314015, 314041, 314052, 314068, 314084, 314096, 314111, 314114, 314131, 314178, 314190, 314204, 314205, 314219, 314246, 314412, 314440, 314451, 314452, 314474, 314611, 314647, 314668, 314731, 314742, 314749, 314763, 314779, 314782, 314797, 314831, 314879, 314902, 314903, 314933, 314971, 314993, 315001, 315041, 315051, 315063, 315087, 315100, 315181, 315183, 315194, 315237, 315253, 315268, 315323, 315354, 315385, 315420, 315502, 315512, 315540, 315548, 315550, 315558, 315569, 315652, 315656, 315664, 315692, 315706, 315707, 315708, 315712, 315759, 315814, 315820, 315828, 315831, 315865, 315882, 315904, 315905, 315966, 315980, 315994, 316004, 316015, 316019, 316055, 316099, 316118, 316146, 316192, 316212, 316218, 316309, 316337, 316390, 316397, 316477, 316500, 316567, 316581, 316591, 316594, 316637, 316639, 316684, 316710, 316725, 316787, 316819, 316827, 316835, 316853, 316900, 316969, 316985, 317013, 317040, 317043, 317074, 317077, 317086, 317118, 317121, 317150, 317157, 317158, 317175, 317204, 317210, 317239, 317298, 317306, 317340, 317370, 317389, 317415, 317419, 317421, 317544, 317576, 317584, 317604, 317609, 317615, 317625, 317635, 317648, 317653, 317690, 317720, 317725, 317743, 317744, 317755, 317760, 317773, 317783, 317813, 317823, 317857, 317870, 317888, 317903, 317952, 317958, 317960, 318040, 318083, 318138, 318174, 318216, 318220, 318226, 318264, 318382, 318412, 318444, 318477, 318492, 318498, 318541, 318551, 318577, 318614, 318630, 318656, 318670, 318740, 318751, 318759, 318761, 318772, 318857, 318904, 318972, 318979, 319008, 319055, 319142, 319178, 319261, 319286, 319311, 319325, 319341, 319357, 319381, 319429, 319490, 319525, 319533, 319574, 319589, 319633, 319666, 319683, 319719, 319723, 319790, 319841, 319874, 319888, 319921, 319931, 319941, 319943, 320023, 320038, 320061, 320064, 320074, 320093, 320122, 320125, 320173, 320240, 320244, 320251, 320253, 320267, 320320, 320345, 320395, 320412, 320481, 320494, 320505, 320534, 320550, 320592, 320629, 320631, 320646, 320647, 320674, 320723, 320761, 320766, 320769, 320809, 320817, 320839, 320855, 320864, 320871, 320875, 320887, 320946, 320960, 321026, 321044, 321060, 321069, 321104, 321126, 321158, 321161, 321177, 321212, 321245, 321251, 321260, 321405, 321413, 321424, 321445, 321495, 321510, 321529, 321544, 321584, 321595, 321597, 321648, 321655, 321724, 321735, 321781, 321790, 321824, 321838, 321924, 321954, 321956, 321966, 321990, 322006, 322022, 322054, 322065, 322074, 322075, 322114, 322120, 322152, 322166, 322167, 322173, 322178, 322182, 322188, 322220, 322223, 322229, 322256, 322301, 322342, 322382, 322430, 322434, 322453, 322460, 322484, 322497, 322511, 322514, 322523, 322526, 322566, 322591, 322594, 322595, 322596, 322599, 322611, 322639, 322640, 322641, 322659, 322660, 322704, 322714, 322715, 322718, 322747, 322765, 322799, 322802, 322831, 322842, 322896, 322913, 322935, 322963, 323054, 323106, 323123, 323132, 323157, 323189, 323220, 323223, 323233, 323237, 323304, 323346, 323377, 323396, 323418, 323445, 323462, 323467, 323502, 323518, 323559, 323587, 323589, 323602, 323604, 323610, 323615, 323619, 323633, 323636, 323658, 323690, 323694, 323714, 323776, 323791, 323794, 323826, 323863, 323923, 323930, 323935, 323976, 324018, 324062, 324063, 324075, 324080, 324095, 324106, 324148, 324149, 324150, 324172, 324187, 324268, 324311, 324341, 324373, 324382, 324449, 324506, 324510, 324516, 324526, 324552, 324555, 324561, 324565, 324566, 324570, 324642, 324650, 324739, 324813, 324876, 324888, 324970, 324988, 325014, 325033, 325066, 325074, 325088, 325091, 325104, 325109, 325116, 325155, 325181, 325192, 325193, 325196, 325209, 325235, 325242, 325253, 325261, 325262, 325279, 325285, 325329, 325339, 325341, 325371, 325387, 325391, 325540, 325564, 325583, 325606, 325624, 325696, 325719, 325724, 325740, 325763, 325765, 325812, 325817, 325854, 325857, 325891, 325913, 325950, 325955, 325956, 325963, 325965, 325967, 326021, 326056, 326070, 326113, 326114, 326129, 326170, 326173, 326211, 326235, 326238, 326273, 326275, 326305, 326325, 326350, 326353, 326398, 326429, 326432, 326458, 326464, 326470, 326487, 326493, 326497, 326516, 326549, 326568, 326623, 326647, 326649, 326652, 326657, 326695, 326759, 326764, 326771, 326786, 326807, 326833, 326847, 326856, 326866, 326891, 326947, 326951, 326978, 326988, 326992, 326993, 327016, 327020, 327049, 327071, 327079, 327095, 327118, 327217, 327240, 327254, 327269, 327285, 327295, 327297, 327319, 327336, 327341, 327366, 327369, 327372, 327385, 327391, 327393, 327432, 327435, 327444, 327449, 327494, 327499, 327520, 327531, 327532, 327551, 327560, 327563, 327597, 327613, 327628, 327633, 327659, 327677, 327693, 327694, 327718, 327737, 327747, 327762, 327765, 327825, 327862, 327875, 327896, 328012, 328024, 328050, 328061, 328126, 328137, 328139, 328171, 328178, 328179, 328204, 328211, 328215, 328277, 328285, 328301, 328305, 328336, 328345, 328381, 328421, 328428, 328438, 328454, 328468, 328472, 328476, 328480, 328484, 328509, 328522, 328551, 328564, 328583, 328636, 328650, 328691, 328710, 328743, 328744, 328777, 328778, 328791, 328808, 328823, 328841, 329004, 329012, 329057, 329115, 329130, 329156, 329231, 329343, 329353, 329362, 329394, 329409, 329435, 329484, 329501, 329514, 329517, 329535, 329542, 329551, 329562, 329584, 329600, 329657, 329696, 329716, 329727, 329754, 329771, 329780, 329814, 329849, 329859, 329865, 329941, 329958, 329983, 329984, 329987, 330005, 330031, 330051, 330053, 330065, 330112, 330153, 330156, 330164, 330179, 330230, 330232, 330236, 330255, 330258, 330262, 330299, 330318, 330324, 330341, 330342, 330365, 330397, 330416, 330437, 330463, 330467, 330485, 330490, 330498, 330555, 330574, 330599, 330616, 330626, 330655, 330660, 330661, 330689, 330720, 330769, 330778, 330812, 330863, 330876, 330878, 330921, 330959, 330973, 330975, 330979, 331039, 331047, 331049, 331075, 331169, 331205, 331207, 331381, 331411, 331439, 331491, 331497, 331531, 331552, 331558, 331597, 331613, 331667, 331681, 331688, 331695, 331699, 331700, 331702, 331711, 331731, 331768, 331770, 331772, 331786, 331817, 331827, 331834, 331839, 331851, 331905, 331913, 331968, 331983, 331999, 332026, 332063, 332067, 332090, 332091, 332098, 332101, 332110, 332124, 332180, 332184, 332185, 332217, 332238, 332246, 332292, 332319, 332320, 332344, 332349, 332370, 332379, 332393, 332394, 332400, 332443, 332456, 332480, 332518, 332530, 332563, 332567, 332585, 332617, 332620, 332628, 332670, 332711, 332719, 332720, 332760, 332766, 332773, 332784, 332786, 332792, 332826, 332829, 332836, 332840, 332843, 332857, 332920, 332926, 332950, 332997, 333019, 333026, 333027, 333045, 333050, 333053, 333088, 333142, 333165, 333186, 333243, 333316, 333317, 333354, 333356, 333430, 333435, 333440, 333473, 333478, 333526, 333543, 333545, 333560, 333580, 333601, 333621, 333627, 333671, 333711, 333733, 333760, 333763, 333765, 333776, 333783, 333857, 333893, 333895, 333951, 333972, 333974, 333991, 333993, 334023, 334040, 334045, 334107, 334125, 334126, 334146, 334212, 334262, 334274, 334285, 334286, 334316, 334329, 334334, 334346, 334365, 334366, 334369, 334393, 334453, 334458, 334467, 334479, 334509, 334510, 334555, 334594, 334607, 334613, 334614, 334633, 334667, 334676, 334683, 334695, 334699, 334723, 334770, 334823, 334852, 334895, 334931, 335004, 335022, 335023, 335034, 335039, 335099, 335108, 335179, 335231, 335309, 335313, 335338, 335351, 335359, 335364, 335407, 335545, 335560, 335597, 335609, 335622, 335633, 335641, 335648, 335688, 335691, 335743, 335806, 335819, 335837, 335838, 335856, 335945, 335964, 335994, 336003, 336019, 336068, 336072, 336073, 336093, 336096, 336126, 336131, 336174, 336183, 336203, 336266, 336301, 336319, 336336, 336353, 336375, 336391, 336411, 336413, 336418, 336450, 336467, 336517, 336560, 336568, 336609, 336634, 336657, 336669, 336672, 336683, 336711, 336730, 336763, 336812, 336818, 336834, 336847, 336849, 336863, 336869, 336875, 336882, 336896, 336967, 336970, 336974, 337002, 337057, 337098, 337099, 337102, 337106, 337119, 337153, 337162, 337176, 337240, 337256, 337268, 337290, 337325, 337355, 337411, 337413, 337428, 337436, 337468, 337471, 337513, 337521, 337526, 337530, 337533, 337558, 337587, 337642, 337671, 337681, 337690, 337700, 337729, 337793, 337805, 337823, 337835, 337842, 337861, 337886, 337912, 337922, 337929, 337930, 337949, 337982, 338007, 338011, 338022, 338033, 338088, 338113, 338133, 338135, 338163, 338188, 338210, 338232, 338242, 338288, 338338, 338342, 338347, 338369, 338376, 338378, 338405, 338472, 338537, 338569, 338578, 338605, 338606, 338611, 338613, 338623, 338643, 338646, 338661, 338695, 338738, 338741, 338756, 338761, 338853, 338889, 338935, 338987, 338990, 339050, 339051, 339097, 339173, 339295, 339296, 339313, 339315, 339335, 339349, 339359, 339360, 339361, 339373, 339376, 339451, 339464, 339481, 339562, 339573, 339587, 339685, 339712, 339723, 339755, 339795, 339804, 339812, 339830, 339846, 339856, 339896, 339934, 339941, 339957, 339962, 340003, 340024, 340036, 340051, 340066, 340129, 340141, 340147, 340184, 340197, 340378, 340380, 340396, 340406, 340411, 340417, 340431, 340444, 340472, 340493, 340540, 340541, 340576, 340622, 340634, 340644, 340657, 340666, 340679, 340697, 340699, 340727, 340739, 340745, 340843, 340856, 340873, 340881, 340883, 340920, 340935, 340954, 340960, 340964, 340986, 341002, 341022, 341067, 341071, 341149, 341201, 341208, 341249, 341287, 341320, 341408, 341465, 341472, 341478, 341487, 341493, 341503, 341517, 341554, 341572, 341576, 341604, 341674, 341688, 341738, 341754, 341767, 341773, 341865, 341877, 341898, 341914, 341959, 342011, 342017, 342034, 342104, 342135, 342142, 342169, 342260, 342263, 342368, 342371, 342375, 342400, 342434, 342438, 342446, 342478, 342516, 342525, 342553, 342559, 342571, 342573, 342593, 342695, 342697, 342698, 342699, 342712, 342729, 342739, 342749, 342767, 342787, 342790, 342886, 342894, 342897, 342987, 342999, 343004, 343054, 343073, 343074, 343152, 343163, 343193, 343205, 343213, 343226, 343257, 343273, 343291, 343292, 343341, 343346, 343435, 343472, 343520, 343558, 343612, 343638, 343657, 343674, 343685, 343697, 343724, 343752, 343821, 343856, 343866, 343869, 343925, 343951, 343953, 343970, 344020, 344024, 344042, 344056, 344064, 344065, 344085, 344090, 344136, 344157, 344197, 344243, 344247, 344302, 344436, 344518, 344538, 344555, 344560, 344590, 344596, 344612, 344624, 344646, 344660, 344686, 344695, 344725, 344727, 344902, 344959, 344963, 345036, 345053, 345089, 345099, 345144, 345215, 345218, 345252, 345292, 345293, 345333, 345343, 345345, 345370, 345508, 345538, 345592, 345596, 345603, 345610, 345617, 345685, 345709, 345815, 345822, 345832, 345849, 345981, 346041, 346087, 346108, 346137, 346151, 346188, 346189, 346208, 346228, 346241, 346263, 346293, 346316, 346342, 346397, 346409, 346440, 346505, 346534, 346546, 346549, 346672, 346674, 346689, 346695, 346711, 346719, 346738, 346740, 346763, 346775, 346776, 346778, 346779, 346785, 346812, 346841, 346848, 346855, 346867, 346882, 346891, 346911, 346920, 346922, 346940, 346949, 346960, 346993, 347019, 347031, 347041, 347047, 347057, 347067, 347142, 347157, 347177, 347179, 347220, 347227, 347228, 347277, 347327, 347339, 347341, 347350, 347377, 347393, 347397, 347436, 347445, 347446, 347463, 347466, 347475, 347484, 347534, 347572, 347594, 347608, 347613, 347629, 347643, 347666, 347681, 347695, 347708, 347785, 347815, 347855, 347871, 347885, 347887, 347937, 347940, 347976, 347984, 348027, 348038, 348053, 348071, 348099, 348103, 348133, 348163, 348170, 348197, 348200, 348210, 348230, 348238, 348243, 348280, 348285, 348354, 348360, 348409, 348471, 348515, 348526, 348544, 348583, 348590, 348596, 348614, 348623, 348636, 348650, 348717, 348725, 348752, 348862, 348867, 348909, 348942, 348989, 349000, 349018, 349033, 349056, 349065, 349071, 349083, 349084, 349145, 349184, 349257, 349299, 349328, 349349, 349352, 349427, 349429, 349481, 349505, 349516, 349551, 349588, 349654, 349680, 349698, 349709, 349779, 349781, 349821, 349833, 349865, 349877, 349880, 349890, 349895, 349908, 349918, 349930, 349949, 349971, 349994, 350059, 350147, 350178, 350181, 350227, 350233, 350260, 350303, 350335, 350361, 350410, 350470, 350474, 350501, 350603, 350617, 350667, 350672, 350682, 350687, 350693, 350700, 350719, 350762, 350841, 350855, 350858, 350872, 350904, 350911, 350942, 350981, 350996, 350999, 351004, 351073, 351166, 351175, 351183, 351185, 351229, 351297, 351302, 351308, 351313, 351326, 351388, 351394, 351420, 351467, 351468, 351478, 351482, 351594, 351621, 351633, 351645, 351659, 351664, 351711, 351742, 351743, 351784, 351794, 351802, 351808, 351814, 351821, 351854, 351872, 351892, 351896, 351897, 351906, 351938, 351946, 351955, 352013, 352051, 352069, 352095, 352096, 352121, 352163, 352180, 352214, 352264, 352269, 352316, 352344, 352395, 352415, 352467, 352475, 352484, 352499, 352517, 352551, 352568, 352609, 352614, 352619, 352632, 352637, 352644, 352667, 352677, 352712, 352721, 352740, 352749, 352753, 352756, 352794, 352798, 352819, 352870, 352879, 352914, 352927, 352934, 352946, 352949, 352996, 353000, 353054, 353086, 353132, 353174, 353219, 353243, 353266, 353280, 353361, 353401, 353417, 353447, 353450, 353470, 353474, 353511, 353527, 353528, 353536, 353537, 353558, 353572, 353588, 353598, 353610, 353654, 353658, 353662, 353670, 353675, 353679, 353720, 353756, 353787, 353792, 353821, 353831, 353837, 353839, 353860, 353922, 353926, 353936, 353961, 353987, 354030, 354037, 354041, 354050, 354075, 354085, 354091, 354099, 354107, 354115, 354131, 354137, 354165, 354212, 354229, 354242, 354302, 354336, 354363, 354370, 354413, 354470, 354483, 354499, 354541, 354560, 354630, 354642, 354654, 354685, 354693, 354734, 354743, 354765, 354787, 354822, 354823, 354827, 354839, 354852, 354857, 354875, 354958, 355001, 355029, 355057, 355058, 355086, 355117, 355132, 355137, 355159, 355199, 355209, 355211, 355232, 355284, 355314, 355332, 355362, 355379, 355381, 355387, 355400, 355469, 355478, 355543, 355619, 355628, 355654, 355714, 355733, 355789, 355821, 355822, 355894, 355901, 355904, 355918, 355931, 355972, 355982, 355998, 356002, 356057, 356058, 356059, 356106, 356207, 356210, 356219, 356221, 356251, 356280, 356338, 356380, 356462, 356473, 356554, 356574, 356578, 356600, 356664, 356696, 356697, 356711, 356715, 356758, 356773, 356786, 356831, 356867, 356886, 356992, 357000, 357002, 357016, 357098, 357108, 357128, 357165, 357166, 357233, 357244, 357288, 357304, 357309, 357344, 357402, 357451, 357478, 357482, 357492, 357537, 357543, 357552, 357556, 357559, 357587, 357593, 357623, 357628, 357648, 357660, 357703, 357732, 357735, 357755, 357823, 357846, 357851, 357857, 357868, 357950, 357974, 357981, 357995, 357997, 358017, 358043, 358062, 358096, 358112, 358138, 358145, 358146, 358152, 358156, 358165, 358198, 358221, 358222, 358291, 358300, 358306, 358317, 358335, 358345, 358349, 358391, 358427, 358467, 358471, 358491, 358492, 358511, 358520, 358535, 358560, 358562, 358572, 358594, 358595, 358608, 358632, 358707, 358745, 358746, 358797, 358828, 358841, 358875, 358886, 358894, 358959, 358964, 358967, 358971, 359007, 359027, 359050, 359060, 359079, 359093, 359094, 359101, 359134, 359139, 359162, 359210, 359224, 359253, 359263, 359266, 359339, 359350, 359357, 359361, 359389, 359399, 359405, 359415, 359440, 359454, 359487, 359500, 359504, 359505, 359514, 359516, 359557, 359587, 359590, 359631, 359641, 359651, 359662, 359670, 359674, 359712, 359739, 359761, 359773, 359776, 359808, 359859, 359879, 359889, 359905, 359918, 359926, 359939, 359956, 359972, 359984, 359986, 359999, 360061, 360064, 360069, 360072, 360089, 360090, 360109, 360115, 360116, 360234, 360253, 360261, 360262, 360297, 360310, 360330, 360331, 360338, 360350, 360372, 360376, 360377, 360398, 360409, 360437, 360441, 360449, 360461, 360490, 360510, 360565, 360586, 360616, 360635, 360649, 360658, 360660, 360676, 360712, 360722, 360763, 360778, 360780, 360783, 360791, 360799, 360809, 360846, 360849, 360854, 360905, 360956, 360970, 360976, 360998, 361003, 361021, 361121, 361159, 361254, 361271, 361274, 361276, 361300, 361301, 361332, 361336, 361339, 361343, 361371, 361388, 361394, 361404, 361424, 361429, 361441, 361464, 361476, 361525, 361546, 361562, 361621, 361639, 361642, 361646, 361647, 361656, 361676, 361711, 361720, 361730, 361754, 361787, 361792, 361829, 361874, 361910, 362039, 362045, 362055, 362075, 362092, 362115, 362138, 362140, 362189, 362207, 362211, 362241, 362248, 362277, 362280, 362307, 362318, 362333, 362341, 362380, 362466, 362480, 362512, 362525, 362558, 362563, 362641, 362649, 362653, 362674, 362708, 362718, 362732, 362739, 362778, 362822, 362830, 362846, 362852, 362865, 362868, 362898, 362907, 362914, 362927, 362950, 362959, 362961, 362976, 363038, 363049, 363065, 363070, 363098, 363101, 363128, 363137, 363175, 363189, 363227, 363241, 363273, 363276, 363289, 363291, 363304, 363310, 363338, 363371, 363422, 363435, 363443, 363467, 363474, 363476, 363481, 363489, 363502, 363541, 363542, 363543, 363566, 363585, 363597, 363606, 363612, 363614, 363633, 363646, 363663, 363678, 363697, 363699, 363707, 363715, 363721, 363744, 363769, 363785, 363786, 363795, 363799, 363803, 363826, 363845, 363849, 363871, 363888, 363890, 363922, 363946, 363952, 363965, 363980, 363984, 363989, 363996, 363999, 364008, 364014, 364051, 364064, 364066, 364147, 364185, 364191, 364212, 364219, 364226, 364228, 364239, 364242, 364249, 364259, 364274, 364284, 364299, 364304, 364305, 364310, 364339, 364359, 364407, 364425, 364448, 364459, 364472, 364474, 364499, 364508, 364525, 364533, 364548, 364557, 364580, 364593, 364605, 364615, 364757, 364758, 364767, 364768, 364785, 364819, 364832, 364853, 364873, 364891, 364924, 364930, 364951, 364958, 364969, 364980, 365022, 365023, 365033, 365043, 365058, 365059, 365062, 365079, 365092, 365122, 365126, 365143, 365179, 365182, 365249, 365283, 365306, 365333, 365352, 365362, 365400, 365413, 365466, 365467, 365505, 365511, 365528, 365536, 365539, 365562, 365593, 365606, 365615, 365628, 365632, 365638, 365716, 365756, 365805, 365807, 365814, 365836, 365845, 365868, 365884, 365888, 365920, 365937, 365955, 365957, 365981, 365995, 366003, 366070, 366075, 366095, 366115, 366124, 366131, 366147, 366168, 366203, 366238, 366280, 366321, 366324, 366327, 366345, 366368, 366383, 366401, 366418, 366425, 366441, 366472, 366520, 366615, 366637, 366670, 366687, 366691, 366731, 366740, 366745, 366746, 366759, 366762, 366772, 366778, 366787, 366793, 366890, 366920, 366925, 366926, 366952, 366967, 366971, 366982, 366990, 366998, 367013, 367020, 367033, 367049, 367058, 367104, 367128, 367137, 367151, 367157, 367170, 367183, 367189, 367194, 367209, 367273, 367284, 367293, 367300, 367319, 367327, 367354, 367387, 367388, 367389, 367409, 367433, 367446, 367447, 367449, 367512, 367535, 367536, 367540, 367578, 367589, 367599, 367618, 367619, 367651, 367655, 367660, 367682, 367701, 367710, 367713, 367722, 367731, 367752, 367769, 367780, 367782, 367797, 367839, 367850, 367854, 367990, 367995, 368033, 368035, 368051, 368074, 368093, 368104, 368110, 368126, 368132, 368133, 368145, 368158, 368211, 368247, 368277, 368289, 368292, 368316, 368317, 368325, 368338, 368373, 368413, 368415, 368428, 368478, 368486, 368497, 368574, 368579, 368623, 368638, 368693, 368712, 368741, 368780, 368834, 368862, 368866, 368874, 368902, 368979, 369065, 369072, 369086, 369089, 369121, 369136, 369142, 369154, 369176, 369227, 369250, 369293, 369301, 369302, 369327, 369334, 369345, 369414, 369415, 369451, 369477, 369493, 369506, 369573, 369593, 369604, 369631, 369648, 369654, 369675, 369676, 369690, 369714, 369729, 369735, 369791, 369803, 369834, 369845, 369848, 369852, 369900, 369924, 369981, 370032, 370044, 370074, 370102, 370115, 370123, 370272, 370289, 370334, 370340, 370344, 370350, 370356, 370388, 370417, 370445, 370452, 370453, 370479, 370490, 370534, 370541, 370543, 370641, 370672, 370685, 370710, 370731, 370753, 370756, 370772, 370803, 370828, 370844, 370861, 370885, 370892, 370896, 370905, 370958, 370962, 370974, 370979, 370981, 371015, 371039, 371058, 371089, 371115, 371181, 371236, 371274, 371297, 371314, 371317, 371353, 371354, 371367, 371389, 371406, 371410, 371451, 371457, 371466, 371473, 371481, 371485, 371508, 371531, 371532, 371534, 371544, 371589, 371627, 371628, 371638, 371666, 371668, 371773, 371793, 371808, 371825, 371839, 371850, 371895, 371905, 371909, 371910, 371921, 371948, 371968, 371973, 371986, 371988, 372019, 372025, 372028, 372033, 372035, 372061, 372067, 372072, 372087, 372098, 372116, 372117, 372130, 372137, 372159, 372170, 372177, 372178, 372182, 372184, 372185, 372200, 372201, 372203, 372213, 372246, 372267, 372270, 372307, 372345, 372355, 372395, 372404, 372416, 372428, 372430, 372437, 372441, 372472, 372477, 372488, 372492, 372505, 372514, 372515, 372539, 372614, 372633, 372696, 372709, 372736, 372738, 372741, 372755, 372761, 372790, 372817, 372821, 372848, 372855, 372859, 372863, 372874, 372900, 372930, 372939, 372982, 372997, 373018, 373037, 373047, 373051, 373063, 373078, 373127, 373138, 373146, 373151, 373154, 373166, 373223, 373238, 373249, 373253, 373264, 373275, 373340, 373351, 373362, 373398, 373400, 373410, 373415, 373426, 373475, 373478, 373485, 373506, 373523, 373551, 373579, 373629, 373640, 373704, 373734, 373764, 373774, 373776, 373818, 373825, 373878, 373922, 374018, 374022, 374044, 374073, 374114, 374171, 374200, 374209, 374229, 374268, 374270, 374276, 374364, 374451, 374459, 374521, 374526, 374528, 374551, 374593, 374619, 374627, 374639, 374665, 374669, 374706, 374736, 374774, 374790, 374791, 374812, 374820, 374830, 374836, 374874, 374875, 374898, 374931, 374950, 374985, 374987, 375004, 375015, 375041, 375100, 375125, 375144, 375162, 375175, 375214, 375248, 375261, 375284, 375293, 375321, 375361, 375414, 375460, 375466, 375475, 375602, 375608, 375617, 375660, 375694, 375733, 375738, 375742, 375748, 375752, 375843, 375867, 375893, 375997, 376001, 376019, 376021, 376039, 376050, 376074, 376083, 376087, 376101, 376154, 376157, 376160, 376164, 376167, 376170, 376225, 376232, 376256, 376334, 376342, 376365, 376399, 376402, 376456, 376460, 376494, 376559, 376566, 376568, 376569, 376627, 376636, 376707, 376724, 376731, 376742, 376747, 376751, 376765, 376793, 376795, 376810, 376816, 376834, 376840, 376859, 376869, 376897, 376938, 376977, 376981, 377008, 377010, 377035, 377060, 377089, 377097, 377113, 377121, 377173, 377196, 377212, 377346, 377359, 377361, 377394, 377409, 377450, 377452, 377472, 377490, 377510, 377526, 377529, 377539, 377619, 377623, 377640, 377645, 377719, 377749, 377757, 377770, 377774, 377778, 377800, 377822, 377855, 377897, 377909, 377920, 377994, 378026, 378052, 378061, 378085, 378103, 378104, 378168, 378195, 378283, 378289, 378309, 378322, 378390, 378395, 378400, 378458, 378467, 378487, 378496, 378513, 378524, 378555, 378576, 378633, 378634, 378720, 378721, 378776, 378778, 378787, 378868, 378871, 378901, 378907, 378978, 378991, 379034, 379069, 379080, 379106, 379129, 379144, 379148, 379152, 379153, 379157, 379160, 379168, 379169, 379183, 379249, 379270, 379292, 379310, 379323, 379344, 379350, 379352, 379363, 379603, 379607, 379700, 379706, 379708, 379713, 379717, 379746, 379776, 379795, 379825, 379844, 379911, 379916, 379985, 380029, 380038, 380041, 380046, 380047, 380081, 380093, 380095, 380135, 380146, 380182, 380192, 380214, 380274, 380295, 380358, 380376, 380448, 380473, 380476, 380530, 380533, 380563, 380589, 380617, 380635, 380655, 380691, 380748, 380762, 380767, 380777, 380844, 380874, 380882, 380943, 380948, 380950, 381007, 381014, 381049, 381051, 381080, 381177, 381238, 381246, 381263, 381264, 381274, 381277, 381278, 381389, 381400, 381456, 381487, 381495, 381552, 381555, 381559, 381580, 381582, 381640, 381646, 381654, 381673, 381689, 381699, 381717, 381780, 381820, 381826, 381836, 381856, 381859, 381893, 381925, 381986, 381993, 382002, 382018, 382019, 382027, 382037, 382045, 382061, 382065, 382132, 382156, 382186, 382210, 382250, 382256, 382269, 382281, 382295, 382327, 382351, 382442, 382456, 382461, 382462, 382482, 382499, 382515, 382520, 382533, 382538, 382551, 382558, 382572, 382577, 382629, 382651, 382656, 382661, 382666, 382687, 382693, 382698, 382738, 382762, 382786, 382798, 382838, 382984, 383026, 383029, 383056, 383095, 383137, 383160, 383173, 383196, 383215, 383217, 383264, 383330, 383358, 383386, 383415, 383430, 383511, 383514, 383555, 383556, 383610, 383629, 383652, 383666, 383784, 383828, 383954, 384047, 384051, 384127, 384230, 384288, 384299, 384310, 384331, 384334, 384336, 384341, 384374, 384491, 384496, 384512, 384516, 384527, 384540, 384544, 384550, 384551, 384555, 384601, 384668, 384669, 384679, 384717, 384721, 384738, 384798, 384813, 384825, 384829, 384855, 384856, 384867, 384922, 384965, 384983, 385010, 385064, 385070, 385116, 385129, 385158, 385168, 385260, 385357, 385376, 385401, 385463, 385468, 385480, 385496, 385535, 385609, 385635, 385695, 385699, 385718, 385743, 385787, 385793, 385804, 385843, 385900, 385919, 385929, 385943, 385968, 385986, 386004, 386017, 386032, 386047, 386067, 386080, 386083, 386100, 386104, 386160, 386166, 386185, 386220, 386222, 386257, 386268, 386283, 386299, 386301, 386308, 386320, 386332, 386343, 386415, 386449, 386475, 386484, 386489, 386503, 386522, 386551, 386560, 386577, 386598, 386657, 386664, 386681, 386682, 386684, 386685, 386709, 386786, 386809, 386833, 386839, 386881, 386913, 386930, 386933, 386945, 386990, 386993, 387025, 387028, 387040, 387051, 387053, 387062, 387089, 387090, 387137, 387164, 387180, 387187, 387193, 387208, 387213, 387216, 387263, 387266, 387284, 387307, 387328, 387338, 387354, 387398, 387414, 387439, 387453, 387474, 387506, 387511, 387544, 387583, 387612, 387616, 387727, 387762, 387839, 387876, 387923, 387973, 388030, 388040, 388054, 388090, 388095, 388110, 388129, 388196, 388203, 388262, 388264, 388284, 388304, 388322, 388357, 388371, 388398, 388434, 388617, 388651, 388665, 388679, 388695, 388700, 388704, 388722, 388739, 388780, 388874, 388893, 388943, 388967, 389019, 389022, 389038, 389069, 389084, 389097, 389101, 389197, 389264, 389287, 389297, 389319, 389331, 389353, 389365, 389442, 389443, 389449, 389464, 389485, 389486, 389504, 389544, 389594, 389601, 389612, 389625, 389667, 389673, 389690, 389776, 389829, 389838, 389871, 389919, 389927, 389965, 389974, 389979, 389998, 390044, 390072, 390082, 390140, 390163, 390165, 390180, 390227, 390230, 390232, 390259, 390270, 390314, 390331, 390339, 390371, 390397, 390410, 390419, 390422, 390434, 390438, 390468, 390485, 390494, 390495, 390496, 390499, 390570, 390594, 390608, 390610, 390640, 390695, 390711, 390730, 390840, 390846, 390880, 390881, 390957, 390971, 391018, 391021, 391037, 391048, 391071, 391101, 391127, 391178, 391207, 391235, 391382, 391428, 391448, 391475, 391505, 391555, 391583, 391630, 391649, 391658, 391697, 391701, 391728, 391743, 391762, 391773, 391782, 391786, 391800, 391814, 391817, 391831, 391865, 391985, 392050, 392077, 392080, 392113, 392173, 392205, 392209, 392211, 392267, 392271, 392286, 392319, 392382, 392383, 392402, 392421, 392436, 392437, 392457, 392505, 392531, 392593, 392617, 392636, 392703, 392706, 392736, 392738, 392761, 392777, 392779, 392781, 392793, 392795, 392804, 392816, 392827, 392851, 392854, 392889, 392915, 392944, 392954, 392958, 392965, 393010, 393023, 393046, 393090, 393165, 393167, 393170, 393193, 393271, 393276, 393326, 393377, 393426, 393455, 393481, 393505, 393543, 393546, 393548, 393553, 393561, 393588, 393623, 393636, 393648, 393717, 393743, 393806, 393821, 393839, 393898, 393917, 393956, 393959, 393965, 393967, 393976, 393983, 394008, 394096, 394098, 394132, 394134, 394157, 394180, 394190, 394203, 394237, 394238, 394265, 394302, 394309, 394313, 394317, 394352, 394359, 394388, 394394, 394402, 394522, 394532, 394568, 394574, 394655, 394660, 394671, 394705, 394744, 394745, 394746, 394810, 394834, 394855, 394890, 394893, 394954, 394973, 394985, 394991, 394998, 395009, 395028, 395044, 395054, 395058, 395114, 395122, 395164, 395174, 395227, 395228, 395265, 395281, 395317, 395319, 395321, 395325, 395333, 395350, 395352, 395357, 395398, 395415, 395441, 395445, 395467, 395476, 395487, 395493, 395582, 395598, 395606, 395660, 395718, 395734, 395750, 395765, 395782, 395797, 395863, 395949, 395967, 395982, 396044, 396070, 396087, 396110, 396131, 396140, 396144, 396150, 396178, 396183, 396186, 396208, 396217, 396255, 396272, 396290, 396294, 396306, 396342, 396390, 396397, 396399, 396402, 396471, 396477, 396567, 396580, 396582, 396631, 396659, 396663, 396670, 396679, 396706, 396726, 396753, 396760, 396773, 396796, 396801, 396808, 396812, 396828, 396851, 396879, 396925, 396933, 396939, 396998, 397030, 397150, 397162, 397215, 397292, 397302, 397312, 397333, 397382, 397408, 397412, 397483, 397501, 397524, 397542, 397573, 397587, 397644, 397715, 397732, 397752, 397786, 397798, 397808, 397848, 397855, 397861, 397896, 397934, 397971, 397983, 398016, 398035, 398064, 398089, 398093, 398101, 398162, 398169, 398180, 398188, 398217, 398235, 398286, 398354, 398355, 398356, 398371, 398389, 398394, 398451, 398462, 398509, 398516, 398526, 398535, 398545, 398570, 398596, 398619, 398634, 398648, 398655, 398659, 398686, 398729, 398747, 398778, 398781, 398782, 398789, 398795, 398796, 398814, 398833, 398895, 398898, 398921, 398972, 399039, 399078, 399090, 399101, 399217, 399229, 399258, 399272, 399367, 399380, 399415, 399420, 399454, 399472, 399553, 399557, 399641, 399686, 399700, 399745, 399753, 399834, 399863, 399876, 399886, 399917, 399924, 399932, 399975, 399990, 400019, 400030, 400031, 400033, 400060, 400139, 400147, 400167, 400180, 400201, 400220, 400261, 400290, 400294, 400296, 400322, 400333, 400336, 400380, 400381, 400409, 400456, 400518, 400604, 400623, 400644, 400663, 400696, 400722, 400737, 400797, 400814, 400830, 400860, 400864, 400914, 400919, 400946, 400973, 400977, 401005, 401073, 401094, 401159, 401203, 401269, 401305, 401408, 401431, 401467, 401553, 401567, 401585, 401596, 401601, 401634, 401639, 401657, 401699, 401723, 401750, 401769, 401786, 401812, 401827, 401838, 401848, 401850, 401892, 401927, 401942, 401962, 402025, 402031, 402121, 402128, 402146, 402184, 402196, 402225, 402236, 402328, 402338, 402351, 402381, 402405, 402406, 402408, 402513, 402561, 402572, 402643, 402646, 402675, 402676, 402683, 402730, 402740, 402763, 402767, 402773, 402774, 402788, 402794, 402817, 402848, 402859, 402873, 402917, 402961, 402976, 403001, 403006, 403018, 403035, 403039, 403042, 403049, 403121, 403126, 403139, 403148, 403152, 403174, 403197, 403222, 403225, 403233, 403247, 403330, 403340, 403350, 403372, 403397, 403430, 403433, 403441, 403502, 403514, 403533, 403552, 403556, 403572, 403606, 403619, 403671, 403674, 403714, 403749, 403754, 403765, 403829, 403839, 403850, 403869, 403911, 403930, 403956, 403990, 404117, 404118, 404129, 404190, 404191, 404219, 404220, 404228, 404266, 404284, 404289, 404320, 404367, 404373, 404400, 404421, 404441, 404505, 404512, 404540, 404547, 404574, 404579, 404585, 404605, 404628, 404637, 404651, 404749, 404772, 404938, 404973, 404977, 404988, 405015, 405041, 405059, 405060, 405064, 405071, 405083, 405099, 405171, 405178, 405241, 405243, 405305, 405320, 405353, 405393, 405407, 405411, 405423, 405498, 405554, 405581, 405657, 405658, 405718, 405840, 405863, 406057, 406073, 406094, 406095, 406194, 406211, 406214, 406221, 406291, 406302, 406315, 406323, 406395, 406398, 406442, 406475, 406480, 406634, 406642, 406671, 407002, 407036, 407109, 407120, 407122, 407207, 407223, 407246, 407255, 407270, 407285, 407297, 407333, 407370, 407429, 407436, 407525, 407549, 407557, 407577, 407661, 407684, 407747, 407782, 407816, 407883, 407918, 407950, 408012, 408103, 408114, 408115, 408125, 408148, 408172, 408195, 408234, 408289, 408347, 408361, 408362, 408412, 408428, 408446, 408457, 408508, 408532, 408542, 408596, 408601, 408621, 408651, 408695, 408713, 408714, 408754, 408767, 408801, 408821, 408834, 408855, 408892, 408942, 408963, 409005, 409014, 409017, 409038, 409047, 409056, 409074, 409091, 409174, 409200, 409241, 409259, 409280, 409293, 409299, 409323, 409334, 409348, 409351, 409369, 409380, 409382, 409389, 409390, 409434, 409441, 409475, 409532, 409542, 409544, 409643, 409651, 409691, 409751, 409879, 409924, 410016, 410031, 410056, 410155, 410226, 410229, 410256, 410270, 410404, 410463, 410503, 410588, 410617, 410707, 410891, 410905, 410912, 410939, 410940, 410987, 410998, 411060, 411064, 411077, 411114, 411124, 411131, 411211, 411319, 411328, 411407, 411491, 411559, 411671, 411675, 411704, 411729, 411759, 411978, 412004, 412084, 412088, 412117, 412130, 412174, 412179, 412195, 412206, 412226, 412244, 412292, 412300, 412302, 412345, 412359, 412365, 412470, 412486, 412574, 412626, 412633, 412670, 412700, 412721, 412737, 412741, 412781, 412785, 412850, 412861, 412891, 412911, 412965, 412972, 412983, 412989, 412992, 413014, 413016, 413032, 413033, 413036, 413045, 413103, 413106, 413117, 413120, 413138, 413146, 413184, 413251, 413277, 413360, 413401, 413470, 413482, 413518, 413526, 413556, 413557, 413561, 413645, 413662, 413682, 413713, 413715, 413721, 413805, 413851, 413866, 413894, 413900, 413904, 413938, 413986, 413996, 414003, 414013, 414022, 414048, 414108, 414114, 414143, 414181, 414183, 414191, 414284, 414286, 414290, 414292, 414295, 414304, 414344, 414373, 414386, 414403, 414429, 414440, 414469, 414492, 414520, 414522, 414571, 414600, 414607, 414681, 414686, 414687, 414688, 414749, 414753, 414758, 414767, 414787, 414810, 414846, 414887, 414940, 414956, 414957, 414964, 414988, 415000, 415028, 415056, 415069, 415113, 415115, 415144, 415147, 415156, 415168, 415189, 415241, 415307, 415333, 415381, 415387, 415467, 415519, 415600, 415613, 415636, 415657, 415680, 415688, 415762, 415843, 415898, 415959, 415969, 415975, 415987, 416046, 416058, 416062, 416086, 416201, 416240, 416276, 416291, 416330, 416442, 416469, 416496, 416497, 416526, 416536, 416579, 416588, 416603, 416631, 416635, 416663, 416688, 416716, 416721, 416759, 416874, 416908, 416944, 417061, 417062, 417149, 417171, 417186, 417192, 417199, 417206, 417216, 417346, 417366, 417369, 417393, 417414, 417473, 417479, 417480, 417489, 417509, 417545, 417551, 417606, 417616, 417688, 417777, 417790, 417795, 417812, 417847, 417852, 417865, 417883, 417890, 417917, 417936, 417940, 417959, 417962, 417969, 417972, 418010, 418023, 418025, 418033, 418082, 418131, 418167, 418219, 418239, 418272, 418308, 418338, 418359, 418372, 418427, 418580, 418582, 418591, 418616, 418625, 418682, 418722, 418740, 418744, 418771, 418786, 418831, 418859, 418883, 418886, 418924, 418930, 419017, 419043, 419046, 419084, 419087, 419094, 419136, 419230, 419240, 419252, 419275, 419338, 419379, 419438, 419445, 419484, 419539, 419640, 419683, 419693, 419700, 419726, 419741, 419827, 419861, 419867, 419885, 419908, 419914, 419927, 419937, 419976, 420007, 420040, 420041, 420058, 420083, 420193, 420197, 420245, 420260, 420268, 420355, 420372, 420378, 420536, 420553, 420558, 420584, 420618, 420634, 420674, 420715, 420732, 420747, 420748, 420769, 420783, 420787, 420889, 420967, 420987, 420996, 421020, 421045, 421077, 421105, 421143, 421162, 421168, 421179, 421185, 421191, 421192, 421197, 421237, 421245, 421253, 421280, 421283, 421319, 421342, 421407, 421422, 421488, 421564, 421579, 421609, 421675, 421688, 421699, 421755, 421766, 421773, 421822, 421832, 421840, 421845, 421854, 421865, 421916, 421923, 421940, 421965, 421974, 421979, 421983, 422086, 422131, 422137, 422191, 422213, 422269, 422381, 422463, 422478, 422492, 422524, 422537, 422553, 422575, 422622, 422688, 422689, 422697, 422710, 422731, 422732, 422766, 422795, 422808, 422813, 422825, 422849, 422884, 422899, 422909, 422915, 422958, 422972, 422982, 423015, 423020, 423031, 423089, 423106, 423219, 423220, 423228, 423269, 423295, 423297, 423308, 423342, 423349, 423386, 423405, 423412, 423424, 423429, 423471, 423490, 423494, 423562, 423601, 423604, 423633, 423635, 423645, 423675, 423686, 423708, 423725, 423746, 423748, 423769, 423775, 423782, 423800, 423819, 423827, 423880, 423885, 423895, 423901, 423919, 423949, 423972, 423998, 424012, 424045, 424059, 424066, 424079, 424119, 424134, 424200, 424292, 424307, 424354, 424368, 424372, 424442, 424454, 424479, 424487, 424555, 424556, 424603, 424616, 424629, 424706, 424734, 424751, 424774, 424792, 424803, 424839, 424844, 424882, 424895, 424899, 424970, 424979, 424991, 425014, 425026, 425041, 425050, 425093, 425096, 425102, 425103, 425146, 425264, 425300, 425344, 425382, 425390, 425425, 425447, 425531, 425577, 425621, 425622, 425667, 425673, 425681, 425694, 425789, 425795, 425800, 425807, 425813, 425833, 425851, 425866, 425990, 425998, 426001, 426035, 426115, 426116, 426162, 426164, 426181, 426182, 426191, 426227, 426228, 426249, 426288, 426347, 426348, 426392, 426400, 426407, 426431, 426442, 426448, 426452, 426463, 426467, 426487, 426546, 426622, 426631, 426639, 426651, 426659, 426668, 426766, 426785, 426793, 426936, 426957, 426964, 426981, 427011, 427025, 427026, 427050, 427159, 427175, 427184, 427205, 427314, 427356, 427413, 427430, 427462, 427466, 427529, 427575, 427580, 427582, 427597, 427673, 427674, 427677, 427698, 427701, 427734, 427754, 427820, 427901, 427906, 427942, 427946, 428008, 428014, 428026, 428034, 428076, 428078, 428093, 428095, 428161, 428184, 428218, 428270, 428275, 428293, 428296, 428302, 428406, 428407, 428448, 428479, 428534, 428676, 428697, 428723, 428774, 428784, 428785, 428787, 428797, 428803, 428871, 428885, 428905, 428921, 428954, 428980, 429001, 429030, 429059, 429068, 429077, 429100, 429166, 429297, 429317, 429408, 429432, 429451, 429488, 429516, 429575, 429590, 429600, 429663, 429670, 429708, 429737, 429739, 429770, 429775, 429782, 429795, 429818, 429850, 429873, 429955, 429960, 429969, 430012, 430018, 430045, 430110, 430132, 430138, 430146, 430156, 430175, 430237, 430238, 430239, 430242, 430260, 430264, 430302, 430386, 430400, 430415, 430537, 430539, 430558, 430575, 430595, 430608, 430612, 430653, 430703, 430737, 430819, 430824, 430826, 430868, 430870, 430885, 430905, 430916, 430924, 430930, 430950, 430975, 430983, 430989, 431011, 431032, 431072, 431110, 431114, 431184, 431188, 431205, 431242, 431278, 431309, 431337, 431408, 431425, 431428, 431450, 431460, 431491, 431572, 431590, 431614, 431633, 431643, 431664, 431668, 431692, 431710, 431779, 431783, 431814, 431817, 431911, 431937, 431953, 431984, 431994, 431996, 432009, 432029, 432048, 432112, 432120, 432154, 432195, 432261, 432300, 432331, 432369, 432387, 432422, 432440, 432460, 432478, 432480, 432483, 432495, 432517, 432521, 432562, 432672, 432683, 432708, 432731, 432739, 432754, 432891, 432911, 432925, 432935, 432941, 432945, 432988, 432992, 433022, 433033, 433047, 433122, 433136, 433188, 433196, 433247, 433248, 433256, 433264, 433281, 433285, 433343, 433375, 433382, 433384, 433401, 433405, 433439, 433440, 433486, 433497, 433506, 433522, 433556, 433637, 433645, 433688, 433703, 433720, 433745, 433754, 433786, 433810, 433848, 433871, 433872, 433873, 433883, 433936, 433977, 433978, 433994, 434005, 434033, 434124, 434160, 434179, 434234, 434286, 434288, 434342, 434348, 434358, 434360, 434366, 434459, 434490, 434492, 434533, 434547, 434553, 434589, 434615, 434697, 434745, 434748, 434801, 434833, 434886, 434936, 434955, 435003, 435011, 435028, 435072, 435105, 435152, 435154, 435188, 435231, 435254, 435268, 435284, 435286, 435325, 435370, 435372, 435389, 435404, 435436, 435437, 435444, 435478, 435527, 435529, 435593, 435629, 435634, 435662, 435696, 435698, 435731, 435735, 435736, 435743, 435767, 435816, 435820, 435876, 435889, 435915, 435946, 436004, 436055, 436094, 436116, 436121, 436160, 436167, 436170, 436251, 436288, 436316, 436329, 436339, 436368, 436373, 436438, 436451, 436454, 436461, 436491, 436507, 436544, 436620, 436624, 436636, 436641, 436653, 436656, 436675, 436691, 436717, 436767, 436784, 436803, 436813, 436836, 436837, 436923, 436972, 437115, 437151, 437196, 437218, 437235, 437276, 437286, 437308, 437397, 437419, 437450, 437474, 437495, 437497, 437519, 437529, 437548, 437610, 437707, 437720, 437724, 437726, 437728, 437744, 437747, 437755, 437818, 437890, 437920, 437948, 438019, 438042, 438102, 438161, 438192, 438209, 438217, 438267, 438312, 438394, 438440, 438490, 438498, 438508, 438534, 438558, 438571, 438583, 438603, 438615, 438620, 438654, 438703, 438714, 438715, 438755, 438759, 438763, 438799, 438819, 438889, 438899, 438936, 438967, 438975, 438980, 438985, 439005, 439008, 439030, 439035, 439050, 439066, 439094, 439115, 439135, 439140, 439174, 439180, 439206, 439232, 439251, 439264, 439272, 439306, 439331, 439400, 439419, 439432, 439439, 439443, 439478, 439504, 439538, 439557, 439571, 439576, 439578, 439587, 439601, 439604, 439638, 439656, 439695, 439727, 439750, 439755, 439800, 439817, 439839, 439842, 439850, 439874, 439908, 439910, 439942, 439956, 439964, 439980, 439981, 439989, 440007, 440008, 440065, 440067, 440072, 440115, 440116, 440156, 440160, 440176, 440209, 440212, 440218, 440234, 440255, 440270, 440277, 440279, 440316, 440318, 440324, 440362, 440415, 440418, 440428, 440430, 440437, 440457, 440462, 440484, 440497, 440505, 440532, 440574, 440583, 440597, 440603, 440615, 440629, 440631, 440643, 440669, 440673, 440688, 440710, 440718, 440781, 440810, 440873, 440899, 440913, 440914, 440954, 440989, 441010, 441030, 441033, 441069, 441074, 441138, 441184, 441255, 441275, 441317, 441350, 441391, 441401, 441407, 441417, 441430, 441453, 441456, 441463, 441498, 441512, 441535, 441555, 441574, 441606, 441615, 441618, 441629, 441632, 441645, 441650, 441665, 441697, 441698, 441709, 441712, 441736, 441834, 441838, 441851, 441890, 441896, 441915, 441917, 441935, 441936, 441964, 442008, 442061, 442072, 442119, 442127, 442143, 442183, 442210, 442263, 442298, 442328, 442334, 442363, 442405, 442421, 442466, 442488, 442568, 442626, 442652, 442658, 442689, 442693, 442695, 442699, 442746, 442761, 442762, 442767, 442769, 442774, 442804, 442825, 442843, 442861, 442868, 442966, 442979, 442980, 442988, 442998, 443014, 443029, 443049, 443074, 443121, 443145, 443150, 443173, 443185, 443224, 443239, 443254, 443260, 443268, 443271, 443282, 443304, 443310, 443319, 443331, 443402, 443418, 443428, 443435, 443436, 443437, 443543, 443596, 443597, 443629, 443643, 443645, 443682, 443687, 443694, 443702, 443718, 443728, 443736, 443742, 443839, 443848, 443850, 443854, 443859, 443867, 443950, 443951, 443967, 443986, 443992, 443993, 444009, 444020, 444021, 444041, 444043, 444054, 444138, 444143, 444148, 444170, 444180, 444226, 444375, 444380, 444391, 444402, 444429, 444432, 444448, 444512, 444516, 444553, 444568, 444585, 444587, 444607, 444611, 444621, 444623, 444671, 444679, 444688, 444711, 444715, 444732, 444748, 444751, 444784, 444796, 444816, 444830, 444873, 444902, 444935, 444964, 445003, 445007, 445022, 445030, 445103, 445113, 445124, 445139, 445225, 445246, 445249, 445316, 445317, 445343, 445361, 445372, 445373, 445387, 445390, 445414, 445453, 445474, 445552, 445566, 445613, 445657, 445677, 445730, 445740, 445743, 445758, 445761, 445768, 445845, 445883, 445912, 445914, 445922, 445940, 445955, 445959, 445960, 446000, 446005, 446030, 446073, 446078, 446096, 446127, 446179, 446193, 446211, 446233, 446271, 446277, 446279, 446283, 446303, 446327, 446328, 446375, 446400, 446401, 446476, 446487, 446495, 446498, 446527, 446613, 446635, 446721, 446740, 446755, 446817, 446832, 446882, 446908, 446920, 446938, 446946, 446966, 446978, 446988, 447025, 447044, 447083, 447112, 447130, 447142, 447162, 447176, 447206, 447224, 447236, 447239, 447261, 447268, 447348, 447368, 447403, 447429, 447431, 447539, 447546, 447589, 447600, 447624, 447628, 447657, 447710, 447726, 447735, 447739, 447762, 447777, 447797, 447830, 447866, 447885, 447895, 447904, 447911, 448034, 448042, 448046, 448051, 448061, 448063, 448069, 448105, 448118, 448161, 448175, 448183, 448198, 448208, 448230, 448247, 448253, 448260, 448270, 448272, 448276, 448312, 448354, 448399, 448411, 448464, 448485, 448501, 448535, 448557, 448582, 448587, 448590, 448598, 448601, 448603, 448605, 448646, 448663, 448665, 448670, 448680, 448683, 448687, 448694, 448747, 448784, 448789, 448810, 448812, 448885, 448906, 448942, 448945, 449026, 449036, 449049, 449080, 449145, 449149, 449178, 449205, 449209, 449217, 449241, 449331, 449340, 449360, 449383, 449393, 449403, 449405, 449410, 449432, 449441, 449462, 449512, 449518, 449536, 449547, 449553, 449563, 449601, 449609, 449630, 449648, 449714, 449723, 449766, 449771, 449838, 449881, 449886, 449894, 449901, 449906, 449947, 449979, 450004, 450015, 450022, 450061, 450100, 450112, 450132, 450134, 450137, 450139, 450181, 450186, 450230, 450327, 450407, 450408, 450449, 450478, 450491, 450507, 450518, 450531, 450642, 450718, 450722, 450725, 450801, 450829, 450834, 450901, 450906, 450923, 450957, 450963, 451028, 451040, 451066, 451096, 451097, 451117, 451133, 451139, 451177, 451212, 451217, 451246, 451263, 451299, 451307, 451351, 451370, 451375, 451387, 451490, 451576, 451577, 451626, 451639, 451678, 451717, 451728, 451738, 451739, 451750, 451762, 451818, 451831, 451863, 451865, 451877, 451880, 451894, 451899, 451927, 451955, 451997, 452018, 452023, 452026, 452050, 452096, 452101, 452246, 452283, 452339, 452343, 452383, 452425, 452455, 452456, 452458, 452536, 452558, 452614, 452677, 452685, 452692, 452702, 452729, 452744, 452761, 452789, 452819, 452832, 452839, 452845, 452849, 452857, 452866, 452912, 453016, 453024, 453045, 453072, 453080, 453113, 453122, 453140, 453193, 453222, 453259, 453278, 453307, 453325, 453331, 453337, 453359, 453383, 453396, 453482, 453489, 453507, 453517, 453518, 453528, 453546, 453618, 453623, 453650, 453713, 453732, 453733, 453749, 453750, 453760, 453808, 453840, 453864, 453872, 453904, 453938, 453940, 453952, 453956, 453965, 454071, 454076, 454083, 454110, 454166, 454198, 454239, 454241, 454281, 454298, 454304, 454305, 454324, 454333, 454361, 454399, 454400, 454418, 454439, 454446, 454467, 454485, 454486, 454502, 454532, 454539, 454551, 454570, 454580, 454606, 454662, 454750, 454763, 454766, 454773, 454929, 455022, 455129, 455210, 455219, 455248, 455260, 455275, 455286, 455287, 455288, 455323, 455343, 455350, 455364, 455414, 455512, 455524, 455526, 455563, 455564, 455578, 455596, 455681, 455686, 455736, 455742, 455804, 455870, 455941, 455949, 455973, 455980, 456023, 456052, 456077, 456092, 456099, 456128, 456146, 456185, 456199, 456259, 456267, 456292, 456316, 456325, 456367, 456369, 456412, 456459, 456463, 456497, 456506, 456565, 456570, 456574, 456643, 456665, 456711, 456727, 456754, 456764, 456828, 456842, 456878, 456926, 456990, 456991, 457000, 457005, 457013, 457020, 457023, 457027, 457033, 457038, 457042, 457057, 457073, 457074, 457081, 457082, 457101, 457104, 457114, 457137, 457146, 457190, 457211, 457250, 457269, 457282, 457316, 457319, 457322, 457402, 457410, 457452, 457514, 457519, 457525, 457532, 457571, 457604, 457617, 457618, 457633, 457641, 457645, 457655, 457660, 457708, 457717, 457719, 457722, 457744, 457781, 457826, 457872, 457883, 457900, 457967, 457977, 457982, 458027, 458116, 458130, 458157, 458164, 458169, 458188, 458214, 458311, 458318, 458360, 458380, 458410, 458425, 458452, 458493, 458562, 458590, 458601, 458728, 458739, 458750, 458754, 458778, 458789, 458832, 458840, 458852, 458860, 458873, 458900, 458902, 458939, 458940, 458943, 458954, 459006, 459014, 459113, 459131, 459134, 459182, 459186, 459193, 459206, 459271, 459354, 459414, 459425, 459483, 459490, 459502, 459505, 459508, 459526, 459558, 459561, 459570, 459610, 459617, 459641, 459723, 459729, 459739, 459745, 459775, 459812, 459818, 459826, 459875, 459913, 459949, 459968, 459975, 459992, 460039, 460052, 460054, 460121, 460237, 460245, 460247, 460324, 460345, 460364, 460386, 460387, 460394, 460402, 460428, 460476, 460542, 460557, 460562, 460598, 460615, 460699, 460732, 460772, 460809, 460849, 460911, 460938, 460965, 460970, 460995, 461009, 461039, 461074, 461094, 461116, 461146, 461160, 461161, 461212, 461229, 461261, 461268, 461270, 461373, 461454, 461501, 461514, 461523, 461656, 461719, 461757, 461763, 461817, 461821, 461845, 461860, 461887, 461919, 461923, 462019, 462078, 462096, 462104, 462127, 462132, 462155, 462174, 462218, 462233, 462240, 462248, 462269, 462271, 462322, 462341, 462344, 462352, 462390, 462408, 462429, 462449, 462463, 462508, 462509, 462534, 462536, 462552, 462559, 462568, 462570, 462580, 462649, 462652, 462656, 462671, 462674, 462676, 462712, 462734, 462773, 462788, 462791, 462818, 462832, 462850, 462867, 462881, 462893, 462914, 462934, 462943, 462970, 462986, 462990, 463010, 463026, 463029, 463054, 463077, 463083, 463103, 463126, 463128, 463167, 463172, 463222, 463246, 463255, 463270, 463294, 463301, 463342, 463431, 463437, 463444, 463471, 463506, 463524, 463604, 463605, 463643, 463657, 463658, 463672, 463676, 463682, 463700, 463713, 463724, 463725, 463726, 463772, 463795, 463798, 463814, 463838, 463839, 463863, 463902, 463914, 463927, 463937, 463977, 463998, 464017, 464023, 464055, 464063, 464072, 464074, 464156, 464160, 464169, 464172, 464178, 464200, 464204, 464213, 464255, 464264, 464270, 464316, 464326, 464363, 464373, 464387, 464409, 464547, 464574, 464611, 464626, 464646, 464746, 464829, 464835, 464854, 464856, 464873, 464880, 464932, 464963, 464973, 464984, 465019, 465059, 465082, 465142, 465149, 465152, 465165, 465284, 465309, 465384, 465438, 465446, 465511, 465536, 465538, 465543, 465575, 465631, 465668, 465690, 465697, 465709, 465710, 465779, 465823, 465832, 465833, 465850, 465863, 465871, 465887, 465897, 465932, 465981, 466003, 466130, 466136, 466137, 466183, 466219, 466271, 466279, 466284, 466352, 466353, 466381, 466391, 466394, 466428, 466432, 466437, 466452, 466503, 466536, 466540, 466544, 466546, 466633, 466655, 466726, 466730, 466755, 466784, 466789, 466952, 466956, 466964, 466980, 467034, 467039, 467067, 467102, 467125, 467131, 467174, 467188, 467201, 467205, 467217, 467275, 467305, 467333, 467391, 467415, 467439, 467511, 467521, 467562, 467596, 467608, 467612, 467616, 467619, 467664, 467671, 467727, 467748, 467809, 467810, 467964, 468014, 468119, 468135, 468138, 468159, 468165, 468207, 468233, 468252, 468256, 468258, 468297, 468303, 468308, 468331, 468424, 468433, 468470, 468480, 468523, 468561, 468574, 468656, 468674, 468675, 468684, 468723, 468765, 468781, 468810, 468856, 468949, 468999, 469000, 469099, 469151, 469157, 469160, 469172, 469287, 469321, 469337, 469346, 469428, 469432, 469447, 469454, 469473, 469477, 469479, 469505, 469512, 469545, 469563, 469567, 469579, 469608, 469626, 469628, 469629, 469648, 469748, 469797, 469833, 469841, 469863, 469870, 469890, 469892, 469895, 469899, 469931, 469939, 469982, 470017, 470057, 470077, 470096, 470122, 470151, 470162, 470193, 470209, 470229, 470261, 470275, 470290, 470303, 470358, 470379, 470409, 470421, 470457, 470472, 470525, 470570, 470604, 470617, 470636, 470644, 470670, 470681, 470713, 470716, 470743, 470763, 470767, 470794, 470799, 470800, 470804, 470862, 470926, 470930, 470942, 470975, 471008, 471037, 471062, 471083, 471087, 471098, 471116, 471142, 471163, 471180, 471213, 471276, 471279, 471309, 471310, 471329, 471343, 471434, 471467, 471474, 471502, 471524, 471525, 471539, 471552, 471554, 471562, 471574, 471583, 471601, 471613, 471630, 471636, 471651, 471661, 471756, 471796, 471803, 471804, 471821, 471829, 471872, 471889, 471912, 471919, 471920, 471930, 471940, 471949, 472016, 472038, 472118, 472131, 472134, 472146, 472196, 472205, 472213, 472258, 472264, 472267, 472311, 472354, 472420, 472422, 472434, 472454, 472499, 472532, 472542, 472546, 472568, 472592, 472617, 472621, 472665, 472682, 472693, 472705, 472706, 472713, 472719, 472726, 472759, 472816, 472817, 472823, 472842, 472866, 472907, 472946, 472947, 472982, 472996, 473039, 473045, 473068, 473086, 473088, 473095, 473102, 473148, 473208, 473251, 473290, 473313, 473329, 473453, 473461, 473518, 473639, 473642, 473656, 473689, 473691, 473791, 473800, 473805, 473832, 473901, 473922, 473924, 474018, 474023, 474046, 474058, 474082, 474087, 474092, 474104, 474120, 474138, 474153, 474169, 474171, 474195, 474198, 474322, 474374, 474382, 474392, 474466, 474485, 474496, 474539, 474625, 474659, 474674, 474695, 474721, 474749, 474807, 474814, 474831, 474848, 474867, 474915, 474923, 474969, 474986, 474999, 475001, 475021, 475103, 475141, 475183, 475196, 475233, 475269, 475331, 475369, 475379, 475381, 475383, 475409, 475429, 475450, 475454, 475507, 475511, 475517, 475535, 475559, 475565, 475577, 475622, 475711, 475726, 475754, 475808, 475899, 475928, 475972, 476039, 476075, 476184, 476187, 476202, 476232, 476338, 476358, 476369, 476388, 476415, 476436, 476451, 476461, 476540, 476546, 476549, 476569, 476580, 476627, 476655, 476668, 476683, 476709, 476726, 476775, 476833, 476864, 476895, 476974, 476983, 477003, 477004, 477008, 477032, 477037, 477076, 477100, 477134, 477225, 477247, 477277, 477327, 477361, 477373, 477414, 477474, 477477, 477538, 477545, 477557, 477613, 477643, 477649, 477650, 477652, 477727, 477766, 477812, 477832, 477835, 477872, 477880, 477927, 477946, 477990, 477996, 478006, 478066, 478070, 478077, 478093, 478131, 478138, 478139, 478156, 478161, 478163, 478167, 478204, 478235, 478246, 478257, 478298, 478328, 478337, 478366, 478408, 478423, 478451, 478515, 478545, 478588, 478595, 478629, 478674, 478682, 478685, 478689, 478714, 478799, 478875, 478882, 478902, 478921, 478923, 478940, 479048, 479108, 479148, 479151, 479164, 479165, 479173, 479205, 479226, 479234, 479242, 479267, 479281, 479290, 479296, 479303, 479369, 479382, 479401, 479450, 479458, 479488, 479499, 479528, 479532, 479536, 479554, 479586, 479665, 479690, 479693, 479695, 479723, 479737, 479747, 479753, 479803, 479806, 479822, 479838, 479839, 479851, 479884, 479922, 479923, 479939, 479948, 479953, 479970, 480004, 480046, 480049, 480071, 480076, 480116, 480119, 480120, 480124, 480145, 480158, 480168, 480181, 480188, 480190, 480208, 480232, 480246, 480300, 480305, 480330, 480356, 480365, 480367, 480428, 480431, 480440, 480477, 480487, 480494, 480512, 480519, 480526, 480537, 480572, 480584, 480599, 480611, 480612, 480689, 480696, 480744, 480829, 480850, 480917, 480920, 480922, 480945, 480958, 480992, 480995, 481036, 481151, 481203, 481271, 481272, 481332, 481367, 481469, 481513, 481520, 481525, 481549, 481557, 481607, 481614, 481624, 481626, 481669, 481763, 481790, 481824, 481844, 481845, 481889, 481891, 481904, 481918, 481920, 481921, 481924, 481928, 481970, 481991, 482050, 482058, 482074, 482078, 482079, 482081, 482095, 482128, 482135, 482146, 482152, 482174, 482225, 482234, 482243, 482262, 482267, 482334, 482336, 482343, 482351, 482361, 482384, 482401, 482430, 482437, 482525, 482542, 482563, 482580, 482637, 482641, 482652, 482659, 482772, 482788, 482838, 482867, 482925, 482943, 482961, 482962, 483034, 483056, 483061, 483074, 483076, 483087, 483105, 483146, 483175, 483179, 483182, 483245, 483266, 483330, 483352, 483360, 483394, 483419, 483454, 483458, 483484, 483488, 483506, 483509, 483533, 483538, 483547, 483554, 483594, 483607, 483619, 483620, 483632, 483698, 483738, 483756, 483799, 483809, 483873, 483886, 483920, 483929, 483974, 483986, 484020, 484043, 484049, 484107, 484138, 484194, 484265, 484296, 484314, 484356, 484381, 484395, 484403, 484410, 484423, 484427, 484430, 484436, 484451, 484463, 484466, 484495, 484498, 484532, 484537, 484542, 484547, 484591, 484596, 484641, 484660, 484675, 484730, 484733, 484758, 484773, 484823, 484851, 484889, 484922, 484943, 484946, 485022, 485028, 485029, 485075, 485076, 485133, 485140, 485171, 485194, 485203, 485215, 485241, 485291, 485293, 485294, 485370, 485378, 485391, 485421, 485434, 485471, 485488, 485538, 485572, 485593, 485622, 485663, 485711, 485730, 485776, 485780, 485790, 485800, 485837, 485883, 485889, 485891, 485896, 485937, 485961, 485999, 486058, 486076, 486081, 486091, 486102, 486110, 486150, 486170, 486200, 486235, 486323, 486358, 486395, 486402, 486432, 486472, 486478, 486486, 486498, 486512, 486550, 486551, 486617, 486743, 486784, 486786, 486808, 486830, 486854, 486856, 486874, 486908, 486943, 486959, 486960, 486966, 486969, 486996, 487016, 487049, 487053, 487057, 487058, 487088, 487127, 487189, 487195, 487219, 487243, 487257, 487270, 487278, 487282, 487340, 487424, 487425, 487476, 487496, 487509, 487523, 487527, 487556, 487582, 487625, 487650, 487668, 487675, 487676, 487692, 487719, 487726, 487742, 487751, 487767, 487800, 487810, 487813, 487826, 487828, 487870, 487874, 487913, 487948, 487955, 487956, 487959, 487968, 488030, 488092, 488097, 488116, 488167, 488200, 488208, 488323, 488341, 488348, 488352, 488458, 488467, 488479, 488494, 488498, 488506, 488511, 488532, 488537, 488549, 488567, 488582, 488597, 488634, 488642, 488663, 488682, 488724, 488729, 488763, 488801, 488822, 488845, 488891, 488894, 488897, 488898, 488919, 488946, 488953, 488963, 488981, 489019, 489023, 489041, 489049, 489130, 489149, 489158, 489167, 489180, 489236, 489253, 489293, 489302, 489314, 489340, 489343, 489359, 489386, 489413, 489432, 489449, 489461, 489470, 489532, 489602, 489681, 489723, 489784, 489802, 489808, 489809, 489850, 489866, 489895, 489907, 489927, 489972, 490037, 490053, 490063, 490072, 490153, 490167, 490186, 490189, 490213, 490229, 490263, 490316, 490331, 490347, 490354, 490430, 490441, 490461, 490488, 490502, 490532, 490551, 490563, 490573, 490614, 490619, 490640, 490665, 490666, 490689, 490705, 490724, 490761, 490783, 490798, 490859, 490862, 490867, 490928, 490936, 491039, 491048, 491061, 491065, 491071, 491083, 491162, 491179, 491211, 491225, 491244, 491252, 491255, 491318, 491324, 491328, 491337, 491365, 491383, 491389, 491414, 491434, 491441, 491465, 491472, 491474, 491499, 491521, 491532, 491538, 491584, 491597, 491614, 491699, 491746, 491800, 491804, 491884, 491894, 491913, 491944, 491950, 491961, 492020, 492049, 492050, 492089, 492106, 492110, 492124, 492141, 492154, 492167, 492181, 492201, 492217, 492231, 492270, 492286, 492299, 492333, 492351, 492359, 492379, 492381, 492383, 492434, 492444, 492481, 492501, 492521, 492564, 492565, 492572, 492586, 492592, 492639, 492670, 492672, 492693, 492717, 492720, 492724, 492754, 492763, 492800, 492815, 492872, 492897, 492904, 492930, 492932, 492948, 492955, 492960, 492963, 492964, 493003, 493025, 493117, 493127, 493135, 493136, 493179, 493192, 493195, 493303, 493359, 493367, 493370, 493379, 493418, 493461, 493501, 493526, 493545, 493547, 493554, 493570, 493576, 493579, 493602, 493611, 493648, 493661, 493680, 493710, 493746, 493748, 493770, 493790, 493795, 493846, 493860, 493915, 493917, 493923, 493936, 493955, 493957, 493998, 494018, 494052, 494053, 494078, 494093, 494116, 494144, 494261, 494279, 494289, 494290, 494399, 494426, 494479, 494483, 494493, 494500, 494510, 494511, 494532, 494554, 494568, 494626, 494633, 494643, 494673, 494685, 494693, 494696, 494704, 494784, 494789, 494798, 494832, 494864, 494897, 494925, 494970, 495002, 495015, 495040, 495061, 495067, 495154, 495166, 495207, 495218, 495260, 495276, 495279, 495310, 495361, 495410, 495432, 495457, 495473, 495480, 495529, 495564, 495579, 495601, 495613, 495628, 495631, 495659, 495696, 495739, 495750, 495809, 495823, 495836, 495962, 495963, 495978, 495988, 496005, 496007, 496021, 496124, 496149, 496181, 496191, 496231, 496266, 496267, 496273, 496285, 496294, 496323, 496349, 496358, 496420, 496436, 496448, 496452, 496485, 496496, 496530, 496541, 496543, 496553, 496564, 496663, 496731, 496770, 496823, 496842, 496874, 496875, 496907, 496970, 497029, 497031, 497044, 497059, 497065, 497088, 497096, 497112, 497117, 497119, 497128, 497155, 497171, 497188, 497192, 497250, 497251, 497262, 497271, 497302, 497344, 497362, 497389, 497390, 497521, 497540, 497542, 497568, 497575, 497634, 497649, 497695, 497708, 497710, 497711, 497726, 497749, 497758, 497792, 497823, 497827, 497906, 497914, 497998, 498105, 498118, 498128, 498157, 498169, 498190, 498193, 498223, 498227, 498230, 498258, 498300, 498309, 498310, 498328, 498330, 498335, 498353, 498367, 498369, 498375, 498377, 498382, 498387, 498436, 498465, 498502, 498507, 498511, 498534, 498559, 498650, 498672, 498677, 498696, 498712, 498729, 498732, 498742, 498745, 498764, 498773, 498791, 498794, 498798, 498807, 498827, 498840, 498851, 498860, 498879, 498883, 498888, 498892, 498918, 498944, 498950, 498952, 499005, 499041, 499108, 499133, 499145, 499209, 499211, 499264, 499323, 499337, 499342, 499346, 499347, 499396, 499413, 499430, 499446, 499448, 499461, 499495, 499505, 499511, 499525, 499536, 499566, 499568, 499578, 499610, 499629, 499636, 499650, 499693, 499709, 499725, 499727, 499759, 499787, 499806, 499833, 499854, 499856, 499878, 499932, 499942, 499955, 499980, 499991, 500004, 500014, 500021, 500062, 500080, 500111, 500126, 500130, 500143, 500230, 500237, 500239, 500243, 500278, 500300, 500326, 500329, 500337, 500338, 500368, 500372, 500470, 500489, 500491, 500501, 500521, 500562, 500607, 500629, 500655, 500661, 500782, 500828, 500835, 500856, 500868, 500879, 500889, 500900, 500909, 500975, 500977, 501034, 501037, 501042, 501087, 501100, 501112, 501180, 501258, 501266, 501273, 501290, 501310, 501345, 501381, 501386, 501424, 501434, 501449, 501560, 501598, 501600, 501602, 501658, 501691, 501706, 501735, 501758, 501767, 501803, 501928, 501936, 501947, 501952, 501954, 502023, 502054, 502071, 502084, 502095, 502103, 502108, 502158, 502165, 502205, 502215, 502232, 502234, 502265, 502282, 502287, 502290, 502331, 502340, 502351, 502461, 502521, 502531, 502556, 502562, 502598, 502694, 502695, 502732, 502736, 502737, 502768, 502773, 502784, 502801, 502841, 502854, 502866, 502882, 502893, 502938, 502943, 502993, 503016, 503024, 503038, 503073, 503079, 503089, 503113, 503124, 503196, 503211, 503219, 503223, 503239, 503248, 503280, 503288, 503307, 503326, 503380, 503405, 503455, 503475, 503480, 503489, 503513, 503516, 503587, 503593, 503599, 503606, 503634, 503654, 503660, 503663, 503670, 503687, 503711, 503791, 503795, 503819, 503874, 503921, 503922, 503948, 503999, 504011, 504023, 504064, 504096, 504130, 504149, 504170, 504182, 504196, 504229, 504234, 504278, 504280, 504291, 504313, 504319, 504346, 504360, 504373, 504394, 504397, 504400, 504405, 504417, 504425, 504434, 504436, 504448, 504462, 504481, 504515, 504517, 504590, 504607, 504620, 504623, 504624, 504627, 504637, 504647, 504653, 504739, 504768, 504786, 504788, 504792, 504822, 504838, 504863, 504865, 504879, 504883, 504908, 504950, 504969, 505017, 505019, 505038, 505064, 505078, 505108, 505139, 505197, 505211, 505218, 505292, 505456, 505467, 505482, 505484, 505485, 505512, 505605, 505649, 505665, 505667, 505689, 505707, 505727, 505743, 505802, 505890, 505899, 505903, 505904, 505917, 505995, 506003, 506036, 506051, 506091, 506096, 506098, 506147, 506172, 506209, 506214, 506242, 506264, 506304, 506313, 506328, 506338, 506417, 506441, 506444, 506469, 506515, 506554, 506572, 506623, 506687, 506774, 506797, 506809, 506811, 506832, 507001, 507049, 507076, 507091, 507101, 507125, 507126, 507142, 507163, 507192, 507200, 507203, 507213, 507297, 507299, 507303, 507312, 507330, 507332, 507344, 507356, 507402, 507407, 507446, 507448, 507449, 507511, 507515, 507536, 507580, 507604, 507615, 507619, 507670, 507833, 507847, 507849, 507864, 507877, 507909, 507978, 508002, 508017, 508033, 508088, 508103, 508107, 508133, 508158, 508199, 508253, 508267, 508286, 508294, 508322, 508342, 508350, 508352, 508378, 508387, 508444, 508471, 508496, 508507, 508519, 508522, 508527, 508612, 508628, 508637, 508641, 508771, 508782, 508854, 508862, 508866, 508867, 508876, 508877, 508937, 508992, 509005, 509053, 509085, 509089, 509094, 509099, 509126, 509127, 509198, 509221, 509236, 509238, 509243, 509259, 509277, 509316, 509333, 509342, 509343, 509347, 509351, 509360, 509361, 509400, 509481, 509484, 509520, 509523, 509539, 509543, 509550, 509557, 509563, 509590, 509608, 509609, 509615, 509628, 509653, 509659, 509670, 509676, 509684, 509709, 509732, 509768, 509786, 509813, 509814, 509817, 509880, 509907, 509908, 509935, 509965, 509973, 509994, 510034, 510055, 510060, 510084, 510119, 510165, 510166, 510175, 510198, 510273, 510280, 510300, 510301, 510366, 510389, 510406, 510444, 510447, 510472, 510503, 510540, 510559, 510592, 510593, 510624, 510657, 510682, 510692, 510719, 510738, 510793, 510877, 510889, 510973, 510992, 511000, 511003, 511023, 511034, 511070, 511074, 511076, 511101, 511151, 511155, 511156, 511191, 511194, 511202, 511212, 511273, 511275, 511342, 511348, 511413, 511426, 511436, 511492, 511554, 511566, 511626, 511641, 511662, 511676, 511728, 511772, 511825, 511827, 511831, 511864, 511893, 511896, 511944, 511969, 511983, 511994, 512018, 512029, 512090, 512098, 512121, 512147, 512174, 512183, 512192, 512194, 512195, 512199, 512205, 512219, 512227, 512382, 512386, 512388, 512413, 512419, 512455, 512460, 512507, 512556, 512599, 512611, 512631, 512701, 512712, 512730, 512740, 512744, 512783, 512861, 512877, 512929, 512940, 512945, 512975, 513004, 513006, 513041, 513043, 513057, 513058, 513100, 513113, 513128, 513134, 513160, 513259, 513261, 513276, 513293, 513304, 513331, 513341, 513376, 513391, 513397, 513401, 513434, 513462, 513483, 513484, 513540, 513582, 513609, 513612, 513651, 513664, 513699, 513701, 513708, 513831, 513865, 513942, 513969, 513975, 513997, 514002, 514017, 514029, 514071, 514085, 514141, 514227, 514236, 514265, 514318, 514324, 514335, 514410, 514413, 514414, 514421, 514459, 514463, 514497, 514508, 514533, 514555, 514577, 514584, 514604, 514676, 514683, 514734, 514735, 514756, 514777, 514812, 514827, 514828, 514838, 514894, 514902, 514930, 514965, 514975, 514980, 514995, 515001, 515014, 515074, 515080, 515108, 515133, 515142, 515150, 515167, 515169, 515171, 515238, 515255, 515257, 515269, 515312, 515320, 515359, 515401, 515413, 515447, 515461, 515462, 515486, 515499, 515520, 515529, 515588, 515619, 515650, 515659, 515709, 515732, 515739, 515748, 515758, 515807, 515820, 515821, 515831, 515848, 515860, 515861, 515875, 515891, 515923, 515937, 515957, 515968, 515971, 515975, 515985, 516013, 516035, 516051, 516052, 516076, 516097, 516105, 516122, 516138, 516142, 516151, 516152, 516210, 516243, 516263, 516291, 516334, 516347, 516359, 516369, 516411, 516459, 516490, 516504, 516511, 516642, 516672, 516731, 516777, 516794, 516800, 516808, 516817, 516902, 516911, 516963, 516968, 517015, 517018, 517095, 517104, 517109, 517114, 517117, 517126, 517166, 517175, 517177, 517205, 517208, 517228, 517240, 517251, 517265, 517300, 517308, 517312, 517315, 517350, 517351, 517414, 517420, 517476, 517490, 517491, 517538, 517554, 517562, 517592, 517617, 517642, 517643, 517694, 517756, 517773, 517795, 517836, 517838, 517856, 517860, 517872, 517875, 517892, 517914, 517933, 517979, 518005, 518032, 518044, 518046, 518090, 518111, 518140, 518167, 518181, 518273, 518287, 518288, 518307, 518314, 518316, 518345, 518346, 518383, 518404, 518441, 518511, 518517, 518526, 518540, 518542, 518575, 518615, 518659, 518808, 518821, 518827, 518834, 518849, 518876, 518884, 518922, 518946, 518984, 518995, 519002, 519009, 519025, 519038, 519052, 519056, 519062, 519064, 519070, 519095, 519135, 519183, 519271, 519287, 519299, 519301, 519373, 519441, 519457, 519518, 519541, 519546, 519559, 519570, 519575, 519588, 519603, 519607, 519648, 519654, 519684, 519687, 519741, 519817, 519877, 519887, 519899, 519911, 519939, 519960, 519964, 519987, 520003, 520022, 520029, 520042, 520057, 520138, 520166, 520171, 520189, 520215, 520239, 520285, 520291, 520322, 520365, 520460, 520469, 520494, 520496, 520514, 520558, 520566, 520662, 520687, 520695, 520718, 520750, 520759, 520763, 520819, 520857, 520903, 520911, 520915, 520957, 520977, 521020, 521080, 521115, 521130, 521156, 521198, 521215, 521221, 521314, 521341, 521358, 521374, 521384, 521397, 521402, 521424, 521459, 521467, 521497, 521506, 521527, 521578, 521582, 521583, 521628, 521673, 521702, 521707, 521893, 522004, 522013, 522019, 522028, 522050, 522086, 522124, 522138, 522145, 522149, 522162, 522169, 522180, 522182, 522211, 522217, 522230, 522239, 522248, 522259, 522357, 522360, 522390, 522392, 522441, 522480, 522492, 522499, 522500, 522504, 522530, 522540, 522556, 522572, 522580, 522616, 522676, 522711, 522712, 522745, 522766, 522803, 522880, 522898, 522904, 522906, 522923, 522936, 522937, 522945, 522954, 522971, 523046, 523082, 523126, 523152, 523169, 523181, 523194, 523268, 523277, 523316, 523333, 523370, 523395, 523431, 523450, 523531, 523561, 523579, 523580, 523603, 523672, 523680, 523718, 523725, 523755, 523774, 523825, 523834, 523840, 523889, 523899, 523908, 523918, 523928, 523939, 523946, 523971, 523990, 524009, 524014, 524019, 524032, 524045, 524063, 524068, 524080, 524087, 524131, 524138, 524185, 524230, 524249, 524275, 524299, 524350, 524364, 524369, 524390, 524406, 524431, 524447, 524473, 524504, 524518, 524547, 524569, 524571, 524575, 524604, 524611, 524619, 524695, 524725, 524728, 524741, 524752, 524816, 524824, 524827, 524859, 524872, 524878, 524910, 524914, 524925, 524958, 524969, 524974, 524985, 525019, 525063, 525085, 525091, 525114, 525117, 525134, 525161, 525179, 525222, 525236, 525285, 525291, 525324, 525333, 525421, 525452, 525458, 525465, 525500, 525635, 525684, 525699, 525700, 525729, 525738, 525740, 525745, 525747, 525748, 525768, 525772, 525815, 525850, 525940, 525943, 525951, 525983, 525991, 526004, 526056, 526067, 526120, 526153, 526171, 526198, 526203, 526238, 526301, 526390, 526407, 526426, 526466, 526517, 526526, 526600, 526604, 526627, 526628, 526694, 526709, 526710, 526715, 526808, 526856, 526864, 526892, 526998, 527031, 527042, 527063, 527098, 527173, 527204, 527230, 527246, 527256, 527275, 527281, 527328, 527356, 527423, 527478, 527572, 527585, 527622, 527642, 527662, 527664, 527666, 527683, 527685, 527751, 527762, 527801, 527813, 527846, 527854, 527931, 527960, 528004, 528061, 528069, 528090, 528127, 528148, 528159, 528203, 528216, 528226, 528310, 528452, 528469, 528567, 528571, 528579, 528608, 528637, 528652, 528714, 528728, 528756, 528759, 528783, 528833, 528889, 528900, 528903, 528904, 528934, 528964, 528972, 528997, 529008, 529043, 529088, 529100, 529107, 529197, 529208, 529291, 529305, 529334, 529351, 529399, 529416, 529424, 529426, 529438, 529467, 529469, 529477, 529507, 529526, 529534, 529546, 529550, 529571, 529593, 529607, 529635, 529647, 529671, 529676, 529686, 529695, 529750, 529755, 529764, 529781, 529783, 529790, 529804, 529808, 529855, 529879, 529887, 529927, 529929, 529968, 529983, 529986, 529991, 530015, 530045, 530086, 530116, 530148, 530155, 530170, 530217, 530235, 530240, 530255, 530260, 530267, 530306, 530316, 530334, 530355, 530378, 530434, 530490, 530511, 530529, 530575, 530599, 530628, 530631, 530654, 530662, 530667, 530702, 530715, 530723, 530737, 530738, 530784, 530794, 530816, 530837, 530839, 530873, 530883, 530910, 530911, 530914, 530924, 530929, 530948, 531003, 531004, 531037, 531078, 531080, 531101, 531128, 531129, 531213, 531234, 531275, 531285, 531291, 531335, 531337, 531360, 531399, 531426, 531469, 531571, 531621, 531640, 531651, 531667, 531714, 531742, 531753, 531758, 531766, 531841, 531854, 531913, 531956, 532007, 532025, 532056, 532108, 532154, 532287, 532295, 532330, 532335, 532392, 532434, 532436, 532478, 532498, 532595, 532634, 532639, 532684, 532708, 532713, 532761, 532812, 532813, 532902, 532903, 532910, 532920, 532949, 533016, 533055, 533073, 533103, 533116, 533118, 533151, 533154, 533181, 533194, 533262, 533274, 533277, 533303, 533319, 533397, 533402, 533419, 533451, 533458, 533487, 533533, 533638, 533644, 533678, 533690, 533709, 533711, 533776, 533801, 533862, 533944, 533959, 533991, 534001, 534015, 534022, 534026, 534069, 534097, 534235, 534264, 534276, 534279, 534298, 534314, 534334, 534377, 534436, 534439, 534475, 534518, 534520, 534570, 534585, 534592, 534601, 534645, 534660, 534673, 534759, 534772, 534813, 534857, 534865, 534974, 535021, 535077, 535089, 535128, 535168, 535203, 535218, 535225, 535268, 535291, 535310, 535331, 535379, 535408, 535420, 535429, 535445, 535449, 535457, 535462, 535464, 535498, 535509, 535568, 535576, 535676, 535752, 535762, 535772, 535775, 535806, 535815, 535843, 535860, 535893, 535914, 536039, 536041, 536051, 536072, 536119, 536127, 536146, 536228, 536244, 536266, 536327, 536332, 536336, 536337, 536344, 536355, 536389, 536397, 536451, 536466, 536480, 536515, 536530, 536537, 536544, 536561, 536576, 536579, 536590, 536597, 536601, 536638, 536682, 536687, 536712, 536721, 536735, 536781, 536808, 536837, 536843, 536852, 536902, 536906, 536909, 536968, 536988, 536993, 537008, 537019, 537023, 537041, 537046, 537056, 537063, 537064, 537081, 537103, 537136, 537157, 537173, 537193, 537207, 537209, 537210, 537213, 537268, 537274, 537291, 537311, 537313, 537322, 537327, 537328, 537338, 537353, 537355, 537356, 537372, 537376, 537432, 537435, 537436, 537496, 537504, 537575, 537674, 537681, 537731, 537740, 537772, 537835, 537883, 537896, 537917, 537922, 537927, 537928, 537946, 537954, 537984, 537986, 538008, 538057, 538091, 538108, 538120, 538129, 538170, 538247, 538265, 538267, 538272, 538280, 538338, 538393, 538403, 538429, 538456, 538494, 538524, 538538, 538571, 538610, 538686, 538717, 538718, 538782, 538789, 538800, 538811, 538819, 538846, 538850, 538865, 538887, 538937, 538949, 539001, 539016, 539075, 539211, 539232, 539277, 539309, 539311, 539315, 539337, 539358, 539427, 539441, 539448, 539459, 539494, 539499, 539501, 539532, 539536, 539544, 539581, 539605, 539615, 539620, 539625, 539629, 539634, 539649, 539654, 539671, 539675, 539684, 539710, 539775, 539795, 539873, 539877, 539884, 539954, 539982, 539985, 540015, 540051, 540056, 540082, 540112, 540118, 540307, 540325, 540335, 540355, 540383, 540455, 540477, 540488, 540540, 540545, 540599, 540622, 540635, 540664, 540710, 540712, 540726, 540738, 540750, 540758, 540771, 540786, 540795, 540806, 540855, 540906, 540910, 540945, 540954, 541009, 541019, 541026, 541039, 541070, 541099, 541101, 541125, 541165, 541172, 541199, 541257, 541291, 541293, 541333, 541345, 541356, 541372, 541470, 541506, 541533, 541606, 541682, 541708, 541738, 541759, 541822, 541839, 541875, 541886, 541888, 541902, 541914, 541924, 541931, 541933, 541963, 541980, 542012, 542048, 542072, 542073, 542080, 542112, 542144, 542151, 542160, 542176, 542177, 542218, 542235, 542285, 542288, 542313, 542338, 542340, 542347, 542352, 542355, 542362, 542391, 542436, 542510, 542515, 542530, 542582, 542589, 542632, 542641, 542646, 542652, 542657, 542661, 542673, 542707, 542736, 542746, 542803, 542834, 542870, 542921, 542937, 542939, 542941, 542968, 542973, 542984, 542992, 543000, 543032, 543097, 543103, 543108, 543151, 543177, 543190, 543194, 543228, 543237, 543251, 543327, 543364, 543377, 543433, 543434, 543502, 543545, 543576, 543645, 543675, 543682, 543702, 543715, 543734, 543751, 543757, 543786, 543835, 543851, 543856, 543943, 543981, 544010, 544020, 544030, 544091, 544113, 544128, 544175, 544187, 544188, 544207, 544228, 544255, 544265, 544266, 544271, 544294, 544295, 544424, 544427, 544442, 544458, 544475, 544484, 544513, 544523, 544568, 544573, 544605, 544625, 544641, 544672, 544726, 544773, 544786, 544836, 544840, 544845, 544859, 544898, 544903, 544914, 544982, 544999, 545056, 545103, 545169, 545186, 545213, 545232, 545245, 545253, 545266, 545268, 545331, 545370, 545410, 545414, 545456, 545479, 545518, 545521, 545549, 545558, 545561, 545575, 545577, 545585, 545609, 545620, 545632, 545646, 545665, 545682, 545694, 545703, 545713, 545791, 545800, 545825, 545828, 545853, 545858, 545903, 545910, 545955, 545976, 545998, 546142, 546157, 546198, 546217, 546226, 546237, 546264, 546288, 546294, 546338, 546363, 546381, 546407, 546455, 546498, 546503, 546517, 546560, 546583, 546621, 546633, 546704, 546735, 546742, 546753, 546802, 546805, 546860, 546864, 546877, 546881, 546917, 546954, 546960, 546967, 546978, 547018, 547039, 547086, 547087, 547099, 547103, 547106, 547125, 547137, 547159, 547169, 547180, 547185, 547186, 547188, 547190, 547209, 547220, 547222, 547231, 547317, 547324, 547337, 547395, 547415, 547424, 547436, 547447, 547456, 547474, 547482, 547510, 547513, 547533, 547548, 547598, 547625, 547634, 547663, 547678, 547686, 547695, 547709, 547783, 547785, 547791, 547807, 547850, 547872, 547884, 547891, 547906, 547924, 547934, 547937, 547954, 547960, 548001, 548038, 548048, 548061, 548065, 548066, 548094, 548101, 548105, 548161, 548226, 548246, 548268, 548294, 548305, 548373, 548395, 548431, 548443, 548445, 548452, 548507, 548513, 548517, 548540, 548587, 548612, 548615, 548627, 548638, 548648, 548655, 548683, 548818, 548900, 548960, 548978, 548981, 549110, 549124, 549169, 549170, 549200, 549208, 549211, 549215, 549217, 549220, 549337, 549384, 549464, 549527, 549533, 549548, 549553, 549575, 549576, 549645, 549676, 549694, 549731, 549808, 549830, 549881, 549886, 549888, 549935, 549965, 549992, 550015, 550022, 550074, 550161, 550198, 550244, 550249, 550252, 550308, 550389, 550393, 550505, 550545, 550585, 550723, 550724, 550732, 550755, 550784, 550787, 550793, 550800, 550828, 550833, 550884, 550922, 550933, 550941, 550960, 550973, 551088, 551090, 551106, 551134, 551158, 551255, 551267, 551275, 551292, 551538, 551557, 551575, 551644, 551718, 551806, 551817, 551858, 551907, 551913, 551997, 552036, 552065, 552067, 552157, 552223, 552237, 552240, 552261, 552333, 552352, 552360, 552374, 552420, 552466, 552480, 552517, 552585, 552603, 552633, 552693, 552718, 552727, 552734, 552758, 552806, 552821, 552824, 552876, 552878, 552892, 552920, 553026, 553064, 553122, 553152, 553161, 553194, 553201, 553203, 553251, 553253, 553257, 553262, 553269, 553310, 553315, 553323, 553405, 553450, 553506, 553512, 553530, 553576, 553577, 553596, 553597, 553643, 553771, 553791, 553833, 553857, 553919, 553945, 553955, 553956, 553973, 553991, 554023, 554034, 554052, 554064, 554099, 554138, 554204, 554259, 554276, 554305, 554312, 554319, 554324, 554405, 554468, 554498, 554508, 554548, 554550, 554607, 554632, 554638, 554646, 554654, 554679, 554691, 554722, 554727, 554746, 554747, 554759, 554781, 554793, 554803, 554863, 554869, 554875, 554904, 554962, 554974, 554997, 555009, 555052, 555063, 555065, 555084, 555093, 555102, 555108, 555134, 555213, 555215, 555239, 555254, 555263, 555266, 555321, 555327, 555339, 555392, 555420, 555437, 555468, 555486, 555498, 555506, 555551, 555560, 555568, 555585, 555599, 555667, 555683, 555696, 555709, 555712, 555778, 555792, 555847, 555857, 555863, 555907, 555909, 555910, 555922, 555950, 555953, 555969, 555997, 556050, 556051, 556059, 556062, 556130, 556133, 556148, 556191, 556193, 556195, 556285, 556303, 556405, 556420, 556424, 556428, 556442, 556453, 556492, 556503, 556506, 556521, 556530, 556539, 556598, 556602, 556603, 556621, 556637, 556714, 556741, 556743, 556763, 556822, 556888, 556929, 556960, 557020, 557060, 557074, 557092, 557094, 557100, 557113, 557120, 557122, 557129, 557138, 557166, 557167, 557168, 557173, 557230, 557243, 557256, 557273, 557274, 557281, 557288, 557323, 557325, 557367, 557428, 557511, 557562, 557574, 557585, 557606, 557608, 557629, 557634, 557657, 557733, 557754, 557757, 557758, 557782, 557784, 557826, 557832, 557855, 557859, 557862, 557930, 557933, 557998, 558034, 558065, 558131, 558132, 558178, 558196, 558238, 558240, 558247, 558262, 558281, 558360, 558412, 558424, 558476, 558480, 558492, 558529, 558545, 558562, 558601, 558603, 558612, 558629, 558666, 558672, 558678, 558702, 558804, 558819, 558902, 558934, 558987, 558996, 559055, 559064, 559090, 559096, 559156, 559254, 559268, 559288, 559294, 559305, 559318, 559360, 559404, 559429, 559456, 559473, 559510, 559526, 559536, 559540, 559546, 559548, 559598, 559644, 559649, 559651, 559800, 559895, 559947, 559980, 559992, 560003, 560028, 560066, 560068, 560115, 560169, 560176, 560177, 560184, 560219, 560239, 560246, 560262, 560311, 560325, 560334, 560339, 560356, 560403, 560410, 560446, 560451, 560497, 560502, 560567, 560568, 560596, 560612, 560675, 560681, 560684, 560688, 560694, 560697, 560701, 560709, 560715, 560751, 560767, 560779, 560780, 560788, 560808, 560828, 560849, 560855, 560866, 560987, 560993, 561028, 561038, 561096, 561132, 561160, 561169, 561190, 561239, 561297, 561303, 561315, 561327, 561362, 561369, 561391, 561397, 561414, 561415, 561416, 561431, 561435, 561455, 561458, 561466, 561468, 561503, 561506, 561582, 561636, 561641, 561646, 561680, 561683, 561686, 561701, 561721, 561743, 561767, 561796, 561820, 561835, 561841, 561848, 561854, 561867, 561872, 561875, 561919, 561948, 561963, 561981, 561995, 562000, 562008, 562025, 562088, 562107, 562124, 562138, 562140, 562143, 562153, 562185, 562187, 562251, 562259, 562289, 562298, 562304, 562325, 562332, 562387, 562397, 562399, 562439, 562462, 562492, 562534, 562550, 562558, 562614, 562634, 562639, 562647, 562662, 562678, 562714, 562739, 562744, 562748, 562781, 562811, 562834, 562846, 562849, 562887, 562920, 562937, 562977, 562979, 563020, 563028, 563032, 563045, 563095, 563146, 563179, 563238, 563302, 563322, 563340, 563351, 563362, 563369, 563443, 563468, 563532, 563572, 563584, 563587, 563614, 563650, 563684, 563692, 563762, 563793, 563871, 563877, 563882, 563895, 563902, 563914, 563940, 563957, 563962, 563968, 563974, 564028, 564049, 564064, 564111, 564123, 564126, 564132, 564211, 564215, 564272, 564286, 564299, 564304, 564308, 564320, 564322, 564342, 564385, 564408, 564420, 564446, 564508, 564510, 564530, 564573, 564595, 564610, 564637, 564659, 564684, 564732, 564742, 564751, 564793, 564844, 564884, 564933, 564961, 564991, 565107, 565131, 565137, 565246, 565291, 565318, 565346, 565354, 565384, 565395, 565417, 565442, 565446, 565447, 565475, 565490, 565556, 565608, 565617, 565623, 565653, 565689, 565695, 565697, 565713, 565716, 565738, 565748, 565772, 565775, 565777, 565781, 565787, 565879, 565924, 565932, 565991, 565997, 566013, 566052, 566054, 566066, 566097, 566098, 566125, 566143, 566163, 566171, 566176, 566221, 566226, 566233, 566251, 566282, 566289, 566309, 566312, 566321, 566322, 566366, 566368, 566369, 566419, 566425, 566426, 566465, 566474, 566505, 566522, 566547, 566552, 566561, 566562, 566575, 566651, 566674, 566715, 566717, 566729, 566732, 566752, 566773, 566784, 566815, 566828, 566835, 566855, 566858, 566891, 566909, 566966, 566998, 567072, 567110, 567160, 567191, 567211, 567221, 567254, 567255, 567266, 567291, 567311, 567313, 567321, 567329, 567394, 567417, 567447, 567460, 567461, 567494, 567524, 567531, 567556, 567574, 567599, 567623, 567653, 567708, 567715, 567720, 567797, 567837, 567885, 567903, 567941, 567973, 567980, 568081, 568093, 568178, 568182, 568188, 568189, 568213, 568236, 568294, 568321, 568334, 568373, 568375, 568416, 568425, 568427, 568449, 568454, 568501, 568522, 568527, 568594, 568617, 568627, 568660, 568710, 568723, 568828, 568864, 568877, 568902, 568952, 568954, 568997, 569030, 569047, 569055, 569060, 569108, 569115, 569131, 569158, 569176, 569211, 569219, 569256, 569268, 569273, 569339, 569346, 569360, 569384, 569441, 569450, 569451, 569457, 569469, 569475, 569502, 569529, 569554, 569563, 569606, 569612, 569616, 569617, 569643, 569726, 569734, 569739, 569820, 569825, 569828, 569853, 569907, 569910, 569956, 569962, 569972, 569990, 570004, 570070, 570075, 570080, 570191, 570197, 570318, 570393, 570475, 570481, 570484, 570508, 570513, 570519, 570530, 570613, 570625, 570629, 570667, 570707, 570708, 570776, 570786, 570803, 570808, 570849, 570881, 570894, 570900, 570942, 570946, 570948, 570971, 571025, 571038, 571066, 571117, 571123, 571137, 571163, 571164, 571171, 571174, 571209, 571218, 571221, 571223, 571236, 571242, 571288, 571319, 571355, 571356, 571357, 571388, 571452, 571513, 571560, 571564, 571568, 571631, 571725, 571770, 571795, 571805, 571806, 571815, 571830, 571832, 571846, 571864, 571870, 571878, 571883, 571887, 571906, 571929, 571947, 571966, 571967, 571976, 572006, 572021, 572052, 572066, 572100, 572112, 572123, 572134, 572153, 572162, 572193, 572201, 572262, 572280, 572327, 572328, 572340, 572374, 572375, 572379, 572401, 572410, 572419, 572434, 572492, 572500, 572573, 572579, 572595, 572599, 572649, 572665, 572671, 572683, 572690, 572693, 572708, 572719, 572826, 572844, 572870, 572873, 572942, 572959, 572979, 573029, 573031, 573040, 573071, 573096, 573099, 573112, 573143, 573148, 573149, 573163, 573178, 573210, 573218, 573263, 573342, 573349, 573363, 573377, 573390, 573519, 573538, 573584, 573607, 573625, 573626, 573670, 573724, 573768, 573779, 573793, 573841, 573847, 573851, 573862, 573867, 573870, 573895, 573897, 573898, 573907, 573924, 573943, 573979, 573982, 574047, 574060, 574108, 574116, 574128, 574159, 574196, 574210, 574226, 574234, 574323, 574377, 574502, 574520, 574537, 574541, 574611, 574690, 574704, 574817, 574831, 574843, 574846, 574858, 574860, 574869, 574917, 574925, 574949, 574999, 575000, 575063, 575078, 575097, 575127, 575134, 575161, 575178, 575188, 575203, 575212, 575223, 575250, 575261, 575264, 575266, 575286, 575306, 575308, 575323, 575324, 575395, 575429, 575443, 575444, 575450, 575523, 575530, 575534, 575557, 575595, 575648, 575700, 575728, 575769, 575782, 575797, 575835, 575840, 575852, 575863, 575918, 575920, 575964, 575980, 576023, 576048, 576075, 576080, 576083, 576113, 576134, 576173, 576192, 576212, 576221, 576249, 576290, 576344, 576360, 576387, 576398, 576416, 576437, 576473, 576492, 576565, 576590, 576615, 576626, 576627, 576634, 576664, 576665, 576671, 576696, 576708, 576717, 576724, 576753, 576774, 576789, 576817, 576862, 576896, 576922, 576973, 576975, 577036, 577043, 577090, 577115, 577141, 577145, 577193, 577202, 577205, 577207, 577212, 577223, 577235, 577332, 577346, 577401, 577414, 577428, 577435, 577532, 577540, 577611, 577633, 577651, 577658, 577675, 577720, 577732, 577743, 577746, 577875, 577890, 577913, 577916, 577917, 577921, 577925, 577941, 577942, 577989, 578064, 578072, 578092, 578100, 578106, 578129, 578134, 578142, 578161, 578204, 578207, 578218, 578321, 578322, 578335, 578340, 578403, 578410, 578413, 578425, 578442, 578444, 578449, 578498, 578501, 578523, 578533, 578536, 578559, 578575, 578589, 578602, 578605, 578614, 578705, 578712, 578757, 578759, 578762, 578772, 578793, 578806, 578819, 578831, 578892, 578911, 578938, 578944, 578958, 578960, 578998, 579002, 579058, 579072, 579075, 579077, 579086, 579095, 579111, 579119, 579121, 579171, 579186, 579242, 579244, 579250, 579262, 579267, 579275, 579312, 579313, 579322, 579339, 579365, 579375, 579378, 579471, 579511, 579553, 579560, 579586, 579595, 579613, 579616, 579688, 579729, 579825, 579833, 579890, 579912, 579928, 579939, 579965, 579973, 580046, 580060, 580073, 580110, 580121, 580156, 580163, 580166, 580169, 580216, 580228, 580242, 580243, 580246, 580248, 580256, 580267, 580281, 580318, 580322, 580341, 580345, 580346, 580350, 580380, 580440, 580448, 580469, 580480, 580481, 580511, 580530, 580562, 580623, 580627, 580691, 580733, 580752, 580772, 580816, 580825, 580831, 580841, 580844, 580849, 580859, 580860, 580866, 580914, 580920, 580977, 580987, 580996, 581031, 581049, 581053, 581092, 581100, 581119, 581130, 581143, 581171, 581251, 581254, 581320, 581326, 581374, 581449, 581458, 581462, 581466, 581492, 581528, 581573, 581607, 581622, 581629, 581641, 581736, 581740, 581744, 581746, 581782, 581822, 581852, 581948, 581977, 581992, 582005, 582019, 582040, 582047, 582050, 582052, 582066, 582128, 582142, 582292, 582304, 582349, 582371, 582376, 582378, 582380, 582403, 582416, 582438, 582447, 582457, 582480, 582525, 582592, 582596, 582648, 582690, 582756, 582820, 582822, 582843, 582849, 582885, 582930, 582954, 582960, 583016, 583061, 583064, 583119, 583164, 583216, 583236, 583285, 583333, 583344, 583358, 583369, 583376, 583403, 583443, 583444, 583452, 583461, 583466, 583473, 583476, 583490, 583503, 583505, 583512, 583520, 583530, 583536, 583542, 583576, 583587, 583642, 583706, 583726, 583753, 583822, 583827, 583866, 583912, 583913, 583918, 583930, 583954, 583964, 583968, 583999, 584001, 584003, 584004, 584014, 584021, 584024, 584027, 584045, 584058, 584063, 584078, 584086, 584109, 584113, 584124, 584127, 584130, 584136, 584155, 584169, 584170, 584191, 584197, 584218, 584230, 584247, 584296, 584331, 584337, 584345, 584348, 584361, 584368, 584373, 584400, 584404, 584423, 584446, 584461, 584467, 584490, 584505, 584509, 584573, 584589, 584622, 584677, 584679, 584682, 584704, 584718, 584806, 584811, 584823, 584833, 584867, 584916, 584935, 584944, 584945, 584972, 584974, 584987, 584988, 584994, 585004, 585040, 585090, 585097, 585111, 585120, 585129, 585150, 585157, 585160, 585204, 585206, 585223, 585226, 585244, 585249, 585280, 585292, 585298, 585300, 585306, 585316, 585325, 585327, 585336, 585353, 585354, 585362, 585378, 585416, 585421, 585424, 585425, 585433, 585451, 585499, 585510, 585517, 585527, 585528, 585571, 585577, 585584, 585635, 585686, 585688, 585710, 585729, 585751, 585770, 585780, 585786, 585845, 585847, 585851, 585852, 585887, 585910, 585917, 586001, 586024, 586049, 586064, 586074, 586081, 586096, 586144, 586173, 586180, 586213, 586269, 586320, 586354, 586361, 586385, 586400, 586410, 586435, 586455, 586461, 586483, 586521, 586522, 586536, 586583, 586585, 586614, 586616, 586676, 586678, 586741, 586745, 586758, 586764, 586863, 586918, 586925, 586927, 586929, 586959, 587048, 587052, 587077, 587079, 587087, 587110, 587112, 587133, 587190, 587195, 587219, 587257, 587261, 587290, 587305, 587309, 587330, 587343, 587361, 587385, 587401, 587540, 587557, 587565, 587576, 587615, 587629, 587657, 587660, 587665, 587678, 587680, 587690, 587691, 587704, 587718, 587736, 587778, 587788, 587810, 587830, 587833, 587841, 587861, 587876, 587880, 587881, 587924, 587933, 587942, 587944, 587946, 587947, 587962, 587965, 587984, 588011, 588029, 588072, 588075, 588088, 588096, 588119, 588121, 588134, 588149, 588156, 588162, 588186, 588194, 588204, 588245, 588260, 588298, 588313, 588332, 588365, 588402, 588417, 588498, 588505, 588508, 588531, 588567, 588583, 588589, 588591, 588609, 588649, 588765, 588797, 588838, 588852, 588860, 588867, 588868, 588871, 588882, 588893, 588896, 588932, 588941, 588966, 589004, 589073, 589075, 589089, 589099, 589128, 589179, 589238, 589245, 589252, 589263, 589266, 589269, 589307, 589325, 589326, 589354, 589359, 589383, 589389, 589419, 589443, 589476, 589482, 589507, 589513, 589544, 589560, 589580, 589605, 589620, 589640, 589656, 589692, 589697, 589713, 589799, 589829, 589844, 589855, 589872, 589889, 589912, 589933, 589947, 589972, 589989, 590021, 590036, 590048, 590094, 590122, 590156, 590206, 590221, 590230, 590262, 590320, 590321, 590328, 590369, 590405, 590427, 590463, 590474, 590476, 590491, 590526, 590527, 590539, 590561, 590564, 590584, 590621, 590647, 590736, 590742, 590783, 590835, 590900, 590921, 590944, 590992, 591035, 591041, 591073, 591088, 591098, 591149, 591162, 591182, 591202, 591204, 591206, 591247, 591259, 591264, 591285, 591295, 591300, 591303, 591315, 591332, 591356, 591364, 591403, 591456, 591464, 591471, 591538, 591556, 591580, 591703, 591708, 591747, 591781, 591788, 591867, 591922, 591935, 591939, 592001, 592002, 592036, 592078, 592093, 592103, 592131, 592133, 592144, 592177, 592188, 592222, 592223, 592255, 592259, 592263, 592275, 592292, 592306, 592318, 592353, 592357, 592387, 592427, 592432, 592470, 592483, 592497, 592527, 592570, 592612, 592665, 592685, 592690, 592693, 592695, 592712, 592715, 592772, 592815, 592828, 592850, 592861, 592873, 592911, 592916, 592926, 593048, 593053, 593054, 593117, 593151, 593156, 593205, 593236, 593242, 593254, 593265, 593293, 593322, 593325, 593381, 593382, 593424, 593426, 593434, 593451, 593481, 593502, 593505, 593516, 593534, 593535, 593538, 593540, 593561, 593584, 593630, 593640, 593665, 593679, 593701, 593724, 593743, 593758, 593762, 593788, 593814, 593831, 593833, 593849, 593857, 593871, 593874, 593875, 593879, 593904, 593974, 593975, 593980, 593999, 594027, 594043, 594050, 594069, 594090, 594104, 594118, 594133, 594164, 594194, 594196, 594237, 594246, 594252, 594260, 594263, 594363, 594399, 594404, 594412, 594429, 594439, 594443, 594453, 594471, 594487, 594495, 594507, 594510, 594536, 594537, 594539, 594572, 594624, 594626, 594635, 594673, 594690, 594704, 594715, 594726, 594733, 594754, 594768, 594778, 594805, 594807, 594841, 594896, 594917, 594923, 594942, 594953, 594967, 594990, 595010, 595012, 595017, 595057, 595121, 595132, 595139, 595161, 595201, 595219, 595260, 595296, 595334, 595339, 595379, 595422, 595475, 595509, 595545, 595547, 595621, 595640, 595642, 595663, 595694, 595711, 595748, 595784, 595788, 595790, 595802, 595806, 595863, 595883, 595917, 595922, 595975, 595981, 595993, 596050, 596060, 596077, 596092, 596138, 596204, 596209, 596211, 596234, 596258, 596271, 596293, 596326, 596343, 596414, 596428, 596432, 596438, 596443, 596488, 596495, 596500, 596506, 596519, 596595, 596609, 596643, 596645, 596660, 596674, 596679, 596684, 596687, 596688, 596716, 596733, 596751, 596777, 596800, 596806, 596840, 596845, 596850, 596855, 596867, 596928, 596991, 597000, 597037, 597046, 597051, 597055, 597090, 597098, 597109, 597111, 597151, 597169, 597189, 597212, 597231, 597239, 597281, 597300, 597313, 597339, 597343, 597359, 597372, 597406, 597411, 597444, 597463, 597500, 597512, 597534, 597547, 597567, 597656, 597701, 597794, 597814, 597820, 597850, 597916, 597918, 597921, 598003, 598048, 598063, 598066, 598085, 598173, 598174, 598176, 598194, 598211, 598248, 598256, 598284, 598296, 598298, 598378, 598403, 598426, 598449, 598535, 598584, 598586, 598590, 598599, 598606, 598616, 598620, 598630, 598640, 598643, 598647, 598658, 598745, 598760, 598766, 598770, 598785, 598813, 598834, 598884, 598887, 598909, 598934, 598963, 598981, 599035, 599059, 599064, 599078, 599113, 599114, 599152, 599162, 599167, 599196, 599197, 599237, 599276, 599307, 599309, 599313, 599314, 599316, 599330, 599333, 599364, 599384, 599402, 599403, 599415, 599429, 599431, 599447, 599454, 599528, 599574, 599587, 599592, 599595, 599621, 599628, 599638, 599648, 599649, 599651, 599695, 599717, 599735, 599741, 599748, 599770, 599793, 599807, 599831, 599841, 599860, 599917, 599957, 599967, 599971, 599978, 600011, 600022, 600045, 600129, 600137, 600182, 600190, 600195, 600216, 600218, 600221, 600248, 600272, 600286, 600287, 600318, 600321, 600328, 600370, 600377, 600401, 600441, 600448, 600481, 600500, 600509, 600543, 600552, 600569, 600620, 600623, 600635, 600640, 600646, 600648, 600671, 600711, 600717, 600721, 600722, 600797, 600801, 600810, 600840, 600849, 600957, 600960, 601016, 601027, 601035, 601048, 601083, 601111, 601155, 601169, 601209, 601217, 601231, 601265, 601284, 601345, 601346, 601419, 601425, 601467, 601476, 601509, 601544, 601561, 601570, 601585, 601609, 601639, 601672, 601716, 601775, 601785, 601861, 601871, 601882, 601891, 601924, 601951, 601955, 601960, 602015, 602036, 602046, 602060, 602095, 602103, 602134, 602186, 602210, 602224, 602225, 602240, 602243, 602250, 602254, 602267, 602290, 602310, 602348, 602352, 602357, 602364, 602382, 602496, 602499, 602514, 602521, 602561, 602566, 602576, 602585, 602588, 602594, 602638, 602644, 602647, 602654, 602721, 602748, 602776, 602857, 602875, 602906, 602968, 602978, 602994, 602996, 602997, 603027, 603052, 603077, 603117, 603138, 603148, 603150, 603151, 603217, 603226, 603235, 603242, 603248, 603251, 603262, 603311, 603343, 603381, 603391, 603395, 603418, 603438, 603454, 603459, 603488, 603556, 603560, 603588, 603613, 603645, 603651, 603660, 603702, 603704, 603733, 603759, 603809, 603814, 603878, 603908, 603911, 603943, 603961, 603977, 603983, 603991, 604007, 604075, 604109, 604113, 604139, 604162, 604165, 604220, 604225, 604243, 604250, 604279, 604327, 604338, 604344, 604354, 604379, 604392, 604419, 604444, 604460, 604465, 604489, 604490, 604565, 604576, 604605, 604631, 604653, 604667, 604672, 604691, 604750, 604801, 604836, 604840, 604845, 604957, 604980, 605004, 605021, 605049, 605106, 605109, 605113, 605174, 605177, 605195, 605202, 605224, 605236, 605324, 605326, 605334, 605340, 605383, 605401, 605414, 605423, 605436, 605482, 605491, 605502, 605533, 605542, 605583, 605593, 605601, 605603, 605615, 605625, 605646, 605649, 605663, 605683, 605684, 605720, 605737, 605757, 605763, 605800, 605810, 605821, 605879, 605881, 605890, 605913, 605916, 605940, 605982, 605985, 606004, 606018, 606019, 606030, 606039, 606061, 606088, 606116, 606121, 606126, 606131, 606141, 606143, 606161, 606162, 606192, 606212, 606234, 606245, 606262, 606265, 606298, 606300, 606308, 606310, 606362, 606376, 606377, 606380, 606381, 606391, 606405, 606443, 606447, 606485, 606487, 606498, 606504, 606513, 606523, 606530, 606543, 606580, 606583, 606623, 606630, 606638, 606639, 606663, 606680, 606697, 606700, 606730, 606737, 606759, 606774, 606788, 606817, 606819, 606871, 606884, 606921, 606947, 606959, 606970, 606982, 606996, 607008, 607011, 607020, 607038, 607039, 607058, 607061, 607081, 607106, 607114, 607117, 607191, 607197, 607220, 607247, 607260, 607284, 607289, 607298, 607313, 607334, 607393, 607427, 607471, 607482, 607487, 607498, 607521, 607538, 607587, 607598, 607602, 607637, 607639, 607640, 607649, 607667, 607677, 607740, 607800, 607824, 607834, 607861, 607872, 607882, 607917, 607940, 607945, 607953, 607961, 607974, 607980, 607991, 607995, 607996, 608016, 608060, 608069, 608080, 608085, 608088, 608134, 608141, 608179, 608182, 608215, 608247, 608279, 608280, 608292, 608326, 608336, 608350, 608368, 608385, 608440, 608446, 608453, 608591, 608615, 608685, 608725, 608728, 608764, 608768, 608783, 608786, 608788, 608797, 608810, 608823, 608846, 608883, 608894, 608898, 608900, 608904, 608913, 608926, 608966, 608968, 608983, 609083, 609118, 609121, 609143, 609156, 609167, 609176, 609183, 609219, 609226, 609295, 609297, 609312, 609370, 609399, 609476, 609486, 609490, 609499, 609531, 609555, 609596, 609604, 609618, 609632, 609686, 609727, 609740, 609748, 609749, 609752, 609753, 609762, 609775, 609791, 609792, 609865, 609871, 609937, 609958, 609995, 610011, 610018, 610035, 610075, 610142, 610146, 610187, 610270, 610281, 610285, 610319, 610333, 610345, 610362, 610376, 610377, 610435, 610436, 610439, 610493, 610531, 610548, 610557, 610565, 610627, 610639, 610644, 610654, 610688, 610707, 610788, 610801, 610809, 610814, 610828, 610837, 610853, 610900, 610909, 610916, 610935, 610956, 610958, 610974, 611006, 611020, 611046, 611076, 611122, 611135, 611144, 611163, 611176, 611181, 611189, 611198, 611224, 611236, 611241, 611266, 611269, 611270, 611301, 611312, 611342, 611355, 611365, 611367, 611370, 611371, 611390, 611418, 611446, 611485, 611492, 611500, 611540, 611543, 611555, 611561, 611610, 611623, 611668, 611681, 611683, 611707, 611711, 611716, 611737, 611738, 611760, 611770, 611783, 611828, 611830, 611831, 611850, 611876, 611885, 611901, 611925, 611948, 612023, 612031, 612066, 612093, 612107, 612123, 612131, 612140, 612162, 612189, 612257, 612307, 612331, 612379, 612383, 612421, 612452, 612502, 612512, 612526, 612533, 612550, 612582, 612611, 612616, 612622, 612663, 612699, 612720, 612728, 612777, 612862, 612877, 612912, 612914, 612968, 613004, 613019, 613020, 613042, 613043, 613111, 613141, 613178, 613183, 613190, 613195, 613229, 613317, 613337, 613348, 613374, 613390, 613404, 613465, 613487, 613498, 613521, 613541, 613546, 613579, 613612, 613661, 613699, 613712, 613723, 613773, 613786, 613796, 613820, 613992, 614014, 614042, 614069, 614084, 614087, 614104, 614130, 614133, 614151, 614196, 614203, 614208, 614270, 614271, 614315, 614319, 614342, 614360, 614373, 614374, 614380, 614387, 614400, 614412, 614421, 614433, 614446, 614449, 614505, 614511, 614538, 614548, 614586, 614609, 614610, 614624, 614648, 614656, 614664, 614680, 614686, 614699, 614707, 614723, 614726, 614741, 614785, 614798, 614823, 614825, 614857, 614883, 614896, 614938, 614973, 614992, 615010, 615017, 615043, 615082, 615086, 615093, 615109, 615147, 615159, 615196, 615200, 615215, 615228, 615233, 615252, 615256, 615301, 615318, 615361, 615383, 615431, 615434, 615438, 615458, 615499, 615529, 615535, 615570, 615605, 615638, 615663, 615677, 615678, 615703, 615708, 615740, 615749, 617345, 617807, 617820, 618668, 618731, 618897, 620301, 620489, 620790, 621746, 621988, 622088, 622108, 622392, 623299, 623476, 623738, 626799, 628185, 629656, 630759, 632805, 633518, 634149, 634633, 635080, 636540, 636896, 638868, 639270, 639684, 639949, 641833, 643046, 644540, 645582, 647495, 649507, 652237, 653038, 653153, 653329, 653687, 653793, 654029, 654055, 654458, 654523, 655268, 655980, 656550, 661220, 661588, 662379, 662569, 663263, 664830, 666931, 667411, 667456, 668406, 668508, 669089, 670179, 670457, 670667, 671231, 671759, 672241, 673007, 673890, 674089, 674573, 674945, 675803, 676300, 677329, 677706, 678303, 679466, 679519, 680360, 680451, 680626, 680892, 681607, 682120, 683329, 683607, 684026, 684765, 685217, 686080, 686368, 687065, 687233, 687803, 687921, 688782, 688852, 689868, 690556, 691427, 692138, 692235, 692874, 694326, 694578, 698308] \n",
      "List other tokens: [] \n",
      "Rows : 23323\n"
     ]
    }
   ],
   "source": [
    "#When implementing LDA it was observed that one token was just an empty string, thus we want to see how many tweets are affected by the problem\n",
    "problem_rows= 0 \n",
    "rows_list_just_empty = []\n",
    "rows_list_additional_tokens = []\n",
    "for i in range(user_prepro_df.shape[0]):\n",
    "    if \"\" in user_prepro_df['usr_description_tokens'].iloc[i]:\n",
    "\n",
    "        if user_prepro_df['usr_description_tokens'].iloc[i] != [\"\"]: \n",
    "            rows_list_additional_tokens.append(i)\n",
    "            problem_rows = problem_rows +1\n",
    "        else: \n",
    "            rows_list_just_empty.append(i)\n",
    "            problem_rows = problem_rows +1\n",
    "        \n",
    "print(f\"List just empty: {rows_list_just_empty} \\nList other tokens: {rows_list_additional_tokens} \\nRows : {problem_rows}\")"
   ]
  },
  {
   "cell_type": "code",
   "execution_count": 8,
   "metadata": {},
   "outputs": [
    {
     "data": {
      "text/plain": [
       "usr_userid                                                           38374100\n",
       "usr_description             #Cloudtechnology / #web3 / #softwareengineerin...\n",
       "usr_description_hashtags    ['Cloudtechnology', 'web3', 'softwareengineeri...\n",
       "usr_description_mentions                                                   []\n",
       "usr_description_URLs                                                       []\n",
       "usr_description_emoji                                                     NaN\n",
       "usr_description_clean                                                        \n",
       "usr_description_tokens                                                     []\n",
       "Name: 12, dtype: object"
      ]
     },
     "execution_count": 8,
     "metadata": {},
     "output_type": "execute_result"
    }
   ],
   "source": [
    "user_prepro_df.iloc[12]"
   ]
  },
  {
   "cell_type": "code",
   "execution_count": null,
   "metadata": {},
   "outputs": [],
   "source": [
    "#After inspecting these rows it can be concluded that there is no need to further dig into the problem as many of these rows became empty due to unrecognizable symbols, emojis or hashtags being used in the user description"
   ]
  },
  {
   "attachments": {},
   "cell_type": "markdown",
   "metadata": {},
   "source": [
    "## Tweets Data"
   ]
  },
  {
   "attachments": {},
   "cell_type": "markdown",
   "metadata": {},
   "source": [
    "The current section showcases how the preprocessed tweets data was concatenated and stored as one. "
   ]
  },
  {
   "cell_type": "code",
   "execution_count": 6,
   "metadata": {},
   "outputs": [
    {
     "name": "stdout",
     "output_type": "stream",
     "text": [
      "['D:/MSC/tweets_tokanized\\\\0_to_399999_processed_tweets.csv', 'D:/MSC/tweets_tokanized\\\\1100000_to_1640145_processed_tweets (1).csv', 'D:/MSC/tweets_tokanized\\\\1100000_to_1640145_processed_tweets.csv', 'D:/MSC/tweets_tokanized\\\\330000_to_330999_processed_tweets (1).csv', 'D:/MSC/tweets_tokanized\\\\330000_to_330999_processed_tweets.csv', 'D:/MSC/tweets_tokanized\\\\333000_to_333179_processed_tweets (1).csv', 'D:/MSC/tweets_tokanized\\\\333000_to_333179_processed_tweets.csv', 'D:/MSC/tweets_tokanized\\\\333070_to_333179_processed_tweets.csv', 'D:/MSC/tweets_tokanized\\\\333200_to_399999_processed_tweets(3).csv', 'D:/MSC/tweets_tokanized\\\\333200_to_399999_processed_tweets.csv', 'D:/MSC/tweets_tokanized\\\\333200_to_399999_processed_tweetscontent (2).csv', 'D:/MSC/tweets_tokanized\\\\400000_to_799999_processed_tweets.csv', 'D:/MSC/tweets_tokanized\\\\800000_to_1099999_processed_tweets (2).csv']\n"
     ]
    },
    {
     "data": {
      "text/html": [
       "<div>\n",
       "<style scoped>\n",
       "    .dataframe tbody tr th:only-of-type {\n",
       "        vertical-align: middle;\n",
       "    }\n",
       "\n",
       "    .dataframe tbody tr th {\n",
       "        vertical-align: top;\n",
       "    }\n",
       "\n",
       "    .dataframe thead th {\n",
       "        text-align: right;\n",
       "    }\n",
       "</style>\n",
       "<table border=\"1\" class=\"dataframe\">\n",
       "  <thead>\n",
       "    <tr style=\"text-align: right;\">\n",
       "      <th></th>\n",
       "      <th>tweet_id</th>\n",
       "      <th>tweet_content</th>\n",
       "      <th>tweet_content_hashtags</th>\n",
       "      <th>tweet_content_mentions</th>\n",
       "      <th>tweet_content_URLs</th>\n",
       "      <th>tweet_content_emoji</th>\n",
       "      <th>tweet_content_clean</th>\n",
       "      <th>tweet_content_tokens</th>\n",
       "    </tr>\n",
       "  </thead>\n",
       "  <tbody>\n",
       "    <tr>\n",
       "      <th>0</th>\n",
       "      <td>1598014056790622225</td>\n",
       "      <td>ChatGPT: Optimizing Language Models for Dialog...</td>\n",
       "      <td>[]</td>\n",
       "      <td>['OpenAI']</td>\n",
       "      <td>['https://t.co/K9rKRygYyn']</td>\n",
       "      <td>NaN</td>\n",
       "      <td>chatgpt optimizing language models for dialogue</td>\n",
       "      <td>['chatgpt', 'optimize', 'model', 'language', '...</td>\n",
       "    </tr>\n",
       "    <tr>\n",
       "      <th>1</th>\n",
       "      <td>1598014522098208769</td>\n",
       "      <td>Try talking with ChatGPT, our new AI system wh...</td>\n",
       "      <td>[]</td>\n",
       "      <td>[]</td>\n",
       "      <td>['https://t.co/sHDm57g3Kr']</td>\n",
       "      <td>NaN</td>\n",
       "      <td>try talking with chatgpt our new ai system whi...</td>\n",
       "      <td>['ai', 'optimize', 'feedback', 'talk', 'improv...</td>\n",
       "    </tr>\n",
       "    <tr>\n",
       "      <th>2</th>\n",
       "      <td>1598015627540635648</td>\n",
       "      <td>Just launched ChatGPT, our new AI system which...</td>\n",
       "      <td>[]</td>\n",
       "      <td>[]</td>\n",
       "      <td>['https://t.co/ArX6m0FfLE.', 'https://t.co/YM1...</td>\n",
       "      <td>NaN</td>\n",
       "      <td>just launched chatgpt our new ai system which ...</td>\n",
       "      <td>['ai', 'optimize', 'launch', 'chatgpt', 'new',...</td>\n",
       "    </tr>\n",
       "  </tbody>\n",
       "</table>\n",
       "</div>"
      ],
      "text/plain": [
       "              tweet_id                                      tweet_content  \\\n",
       "0  1598014056790622225  ChatGPT: Optimizing Language Models for Dialog...   \n",
       "1  1598014522098208769  Try talking with ChatGPT, our new AI system wh...   \n",
       "2  1598015627540635648  Just launched ChatGPT, our new AI system which...   \n",
       "\n",
       "  tweet_content_hashtags tweet_content_mentions  \\\n",
       "0                     []             ['OpenAI']   \n",
       "1                     []                     []   \n",
       "2                     []                     []   \n",
       "\n",
       "                                  tweet_content_URLs tweet_content_emoji  \\\n",
       "0                        ['https://t.co/K9rKRygYyn']                 NaN   \n",
       "1                        ['https://t.co/sHDm57g3Kr']                 NaN   \n",
       "2  ['https://t.co/ArX6m0FfLE.', 'https://t.co/YM1...                 NaN   \n",
       "\n",
       "                                 tweet_content_clean  \\\n",
       "0    chatgpt optimizing language models for dialogue   \n",
       "1  try talking with chatgpt our new ai system whi...   \n",
       "2  just launched chatgpt our new ai system which ...   \n",
       "\n",
       "                                tweet_content_tokens  \n",
       "0  ['chatgpt', 'optimize', 'model', 'language', '...  \n",
       "1  ['ai', 'optimize', 'feedback', 'talk', 'improv...  \n",
       "2  ['ai', 'optimize', 'launch', 'chatgpt', 'new',...  "
      ]
     },
     "execution_count": 6,
     "metadata": {},
     "output_type": "execute_result"
    }
   ],
   "source": [
    "#Setting the path for joining multiple files\n",
    "files = os.path.join(\"D:/MSC/tweets_tokanized/\", \"*.csv\")\n",
    "\n",
    "#List of files to be merged\n",
    "files = glob.glob(files)\n",
    "print(files)\n",
    "\n",
    "#Joining the files\n",
    "tweets_tokanized_all = pd.concat(map(pd.read_csv, files), ignore_index=True)\n",
    "tweets_tokanized_all.head(3)"
   ]
  },
  {
   "cell_type": "code",
   "execution_count": null,
   "metadata": {},
   "outputs": [],
   "source": [
    "#Define function for verb removal\n",
    "def verb_removal(tokens_list):\n",
    "    nlp_object = nlp(' '.join(tokens_list))\n",
    "    for element in nlp_object:\n",
    "        if element.pos_ == 'VERB' and str(element) in tokens_list:\n",
    "            tokens_list.remove(str(element))\n",
    "                \n",
    "    return tokens_list"
   ]
  },
  {
   "cell_type": "code",
   "execution_count": null,
   "metadata": {},
   "outputs": [],
   "source": [
    "#Remove verbs\n",
    "tweets_tokanized_all['tweet_content_tokens_no_verbs'] = tweets_tokanized_all['tweet_content_tokens'].apply(lambda x: verb_removal(x))"
   ]
  },
  {
   "cell_type": "code",
   "execution_count": 7,
   "metadata": {},
   "outputs": [],
   "source": [
    "#In the preprocessing phase, some tweets may have been cleaned and stored more than once, thus these are droped\n",
    "#TODO:Remove comment below to save the tweet data as one\n",
    "#tweets_tokanized_all.drop_duplicates(subset=\"tweet_id\").to_csv(\"Tweets_PreLDA.csv\", index=False)"
   ]
  },
  {
   "cell_type": "code",
   "execution_count": 2,
   "metadata": {},
   "outputs": [
    {
     "data": {
      "text/plain": [
       "(1640046, 10)"
      ]
     },
     "execution_count": 2,
     "metadata": {},
     "output_type": "execute_result"
    }
   ],
   "source": [
    "#Read data from recently saved file\n",
    "tweets_tokanized = pd.read_csv(\"Tweets_PreLDA.csv\")\n",
    "tweets_tokanized.shape"
   ]
  },
  {
   "cell_type": "code",
   "execution_count": 3,
   "metadata": {},
   "outputs": [
    {
     "name": "stdout",
     "output_type": "stream",
     "text": [
      "<class 'pandas.core.frame.DataFrame'>\n",
      "RangeIndex: 1640046 entries, 0 to 1640045\n",
      "Data columns (total 10 columns):\n",
      " #   Column                         Non-Null Count    Dtype \n",
      "---  ------                         --------------    ----- \n",
      " 0   Unnamed: 0                     1640046 non-null  int64 \n",
      " 1   tweet_id                       1640046 non-null  int64 \n",
      " 2   tweet_content                  1640046 non-null  object\n",
      " 3   tweet_content_hashtags         1640046 non-null  object\n",
      " 4   tweet_content_mentions         1640039 non-null  object\n",
      " 5   tweet_content_URLs             1640039 non-null  object\n",
      " 6   tweet_content_emoji            211254 non-null   object\n",
      " 7   tweet_content_clean            1639947 non-null  object\n",
      " 8   tweet_content_tokens           1640039 non-null  object\n",
      " 9   tweet_content_tokens_no_verbs  1640046 non-null  object\n",
      "dtypes: int64(2), object(8)\n",
      "memory usage: 125.1+ MB\n"
     ]
    }
   ],
   "source": [
    "tweets_tokanized.info()"
   ]
  }
 ],
 "metadata": {
  "kernelspec": {
   "display_name": "CodeBase",
   "language": "python",
   "name": "python3"
  },
  "language_info": {
   "codemirror_mode": {
    "name": "ipython",
    "version": 3
   },
   "file_extension": ".py",
   "mimetype": "text/x-python",
   "name": "python",
   "nbconvert_exporter": "python",
   "pygments_lexer": "ipython3",
   "version": "3.10.4"
  },
  "orig_nbformat": 4,
  "vscode": {
   "interpreter": {
    "hash": "2b626e21ead191b3db0e87a4603b3e94e198395ed9547c98ae8f08e151842829"
   }
  }
 },
 "nbformat": 4,
 "nbformat_minor": 2
}
